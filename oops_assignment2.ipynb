{
 "cells": [
  {
   "cell_type": "markdown",
   "id": "6f04ba0c-408e-4183-aa82-42db575d8208",
   "metadata": {},
   "source": [
    "## Constructor"
   ]
  },
  {
   "cell_type": "markdown",
   "id": "69e8c2a5-77c3-4778-b0ca-c73145276f08",
   "metadata": {},
   "source": [
    "### 1. What is a constructor in Python? Explain its purpose and usage."
   ]
  },
  {
   "cell_type": "markdown",
   "id": "a523620c-410c-49fd-804b-c7d0ee179a6a",
   "metadata": {},
   "source": [
    "##### Definition: A constructor in Python is a special method that is automatically called when an instance (object) of a class is created. The primary purpose of the constructor is to initialize the instance variables of the object.\n",
    "##### Purpose: Initialization: The constructor allows you to initialize the object's attributes with specific values when the object is created. Setup: It can perform any setup or configuration necessary for the object before it is used.\n",
    "##### Usage: In Python, the constructor method is always named __init__. This method is defined within a class and takes self as its first parameter, followed by any other parameters needed to initialize the object."
   ]
  },
  {
   "cell_type": "markdown",
   "id": "bc8ef888-c704-4819-b711-71417474f4c6",
   "metadata": {},
   "source": [
    "### 2. Differentiate between a parameterless constructor and a parameterized constructor in Python."
   ]
  },
  {
   "cell_type": "markdown",
   "id": "b7b790ff-6b67-4003-bad7-82135a5826ad",
   "metadata": {},
   "source": [
    "##### Parameterless Constructor : A parameterless constructor does not take any arguments other than self. It is used when you want to initialize the attributes of a class with default values.\n",
    "##### Parameterized Constructor : A parameterized constructor takes one or more arguments (in addition to self). It is used when you want to initialize the attributes of a class with values provided at the time of object creation."
   ]
  },
  {
   "cell_type": "markdown",
   "id": "c73666ed-2e28-4da8-a7c0-d2d02a6e6c9d",
   "metadata": {},
   "source": [
    "### 3. How do you define a constructor in a Python class? Provide an example"
   ]
  },
  {
   "cell_type": "markdown",
   "id": "93ca1b91-0e1b-4407-8530-aea155124933",
   "metadata": {},
   "source": [
    "##### Defining a Constructor : To define a constructor in a Python class, you need to:\n",
    "\n",
    "##### Define the __init__ method within the class.\n",
    "##### Use self as the first parameter to refer to the instance of the class.\n",
    "##### Optionally, include additional parameters to initialize the instance attributes."
   ]
  },
  {
   "cell_type": "code",
   "execution_count": 36,
   "id": "af8991fd-1ddc-4322-84f9-fb72402eea54",
   "metadata": {},
   "outputs": [
    {
     "name": "stdout",
     "output_type": "stream",
     "text": [
      "Name: Alice, Age: 30\n",
      "Name: Bob, Age: 25\n"
     ]
    }
   ],
   "source": [
    "class Person:\n",
    "    def __init__(self, name, age):\n",
    "        self.name = name  # Initialize the 'name' attribute\n",
    "        self.age = age    # Initialize the 'age' attribute\n",
    "\n",
    "    def display(self):\n",
    "        print(f\"Name: {self.name}, Age: {self.age}\")\n",
    "\n",
    "\n",
    "person1 = Person(\"Alice\", 30)  # Constructor is called with \"Alice\" and 30\n",
    "person1.display()              # Output: Name: Alice, Age: 30\n",
    "\n",
    "person2 = Person(\"Bob\", 25)    # Constructor is called with \"Bob\" and 25\n",
    "person2.display()              # Output: Name: Bob, Age: 25\n"
   ]
  },
  {
   "cell_type": "markdown",
   "id": "f70dd9c3-117f-4e37-bd89-8b25485a82fb",
   "metadata": {},
   "source": [
    "### 4. Explain the `__init__` method in Python and its role in constructors."
   ]
  },
  {
   "cell_type": "markdown",
   "id": "6d239dc4-9e78-4bcd-826d-43bc3f24eacb",
   "metadata": {},
   "source": [
    "##### The __init__ method in Python is a special method that is used to initialize the attributes of a class. It is called a constructor because it is automatically invoked when a new instance of the class is created. The __init__ method allows you to set up the initial state of the object by initializing its attributes with values."
   ]
  },
  {
   "cell_type": "markdown",
   "id": "92cb0dd1-58da-47dc-8b74-c7a3852172bb",
   "metadata": {},
   "source": [
    "##### Role of __init__ Method in Constructors\n",
    "##### 1.Initialization: The primary role of the __init__ method is to initialize the instance variables of the class. It ensures that each object starts with a defined state.\n",
    "\n",
    "##### 2.Parameter Passing: The __init__ method can take parameters (in addition to self) which allows for custom initialization of each object. This provides flexibility to set different values for different objects at the time of creation.\n",
    "\n",
    "##### 3.Encapsulation: It encapsulates the creation logic within the class. This means that any setup that needs to be done for an object can be done inside the __init__ method, keeping the creation and initialization details hidden from the user."
   ]
  },
  {
   "cell_type": "markdown",
   "id": "c936fd3f-7058-4ebb-98c5-441cc222cde8",
   "metadata": {},
   "source": [
    "### 5. In a class named `Person`, create a constructor that initializes the `name` and `age` attributes. Provide an example of creating an object of this class."
   ]
  },
  {
   "cell_type": "code",
   "execution_count": 42,
   "id": "72e0e294-9ab8-4f0b-9f1c-b15daac2a6d1",
   "metadata": {},
   "outputs": [],
   "source": [
    "class Person:\n",
    "    def __init__(self, name, age):\n",
    "        self.name = name  # Initialize the 'name' attribute\n",
    "        self.age = age    # Initialize the 'age' attribute\n",
    "\n",
    "    def display(self):\n",
    "        print(f\"Name: {self.name}, Age: {self.age}\")\n"
   ]
  },
  {
   "cell_type": "code",
   "execution_count": 44,
   "id": "5e97abe2-0b3f-441b-8999-345575830b88",
   "metadata": {},
   "outputs": [
    {
     "name": "stdout",
     "output_type": "stream",
     "text": [
      "Name: Alice, Age: 30\n"
     ]
    }
   ],
   "source": [
    "# Creating an object of the Person class\n",
    "person1 = Person(\"Alice\", 30)\n",
    "\n",
    "# Displaying the attributes of the object\n",
    "person1.display()  # Output: Name: Alice, Age: 30"
   ]
  },
  {
   "cell_type": "markdown",
   "id": "00b1840a-9f48-4a17-a39e-687689f0dd0e",
   "metadata": {},
   "source": [
    "### 6. How can you call a constructor explicitly in Python? Give an example"
   ]
  },
  {
   "cell_type": "code",
   "execution_count": 47,
   "id": "d5d47544-fd7e-44a6-aed8-275c996cec9f",
   "metadata": {},
   "outputs": [
    {
     "name": "stdout",
     "output_type": "stream",
     "text": [
      "Name: Alice, Age: 30\n",
      "Name: Bob, Age: 25\n"
     ]
    }
   ],
   "source": [
    "class Person:\n",
    "    def __init__(self, name, age):\n",
    "        self.name = name\n",
    "        self.age = age\n",
    "\n",
    "    def display(self):\n",
    "        print(f\"Name: {self.name}, Age: {self.age}\")\n",
    "\n",
    "# Creating an object of the Person class\n",
    "person1 = Person(\"Alice\", 30)\n",
    "person1.display()  # Output: Name: Alice, Age: 30\n",
    "\n",
    "# Explicitly calling the constructor to reinitialize the object\n",
    "person1.__init__(\"Bob\", 25)\n",
    "person1.display()  # Output: Name: Bob, Age: 25\n"
   ]
  },
  {
   "cell_type": "markdown",
   "id": "0b5e0138-00a9-4017-8278-f382d16692f2",
   "metadata": {},
   "source": [
    "### 7. What is the significance of the `self` parameter in Python cons"
   ]
  },
  {
   "cell_type": "markdown",
   "id": "77655aca-4590-450c-918a-b6d0d85ec717",
   "metadata": {},
   "source": [
    "##### Significance of self Parameter in Constructors:\n",
    "##### Instance Binding: When you create an instance (object) of a class, Python automatically passes the instance itself as the first argument to the __init__ method, which is typically named self.\n",
    "##### Attribute Assignment: Inside the __init__ method, self is used to assign initial values to instance variables (attributes) of the object.\n",
    "##### Method Invocation: The self parameter is used to call other methods defined in the class on the instance itself.\n",
    "##### Instance Specificity: self ensures that each instance of the class maintains its own separate state (values of attributes)."
   ]
  },
  {
   "cell_type": "markdown",
   "id": "5c202ebe-1b93-4450-97bf-86d5596a3a57",
   "metadata": {},
   "source": [
    "### 8. Discuss the concept of default constructors in Python. When are they used?"
   ]
  },
  {
   "cell_type": "markdown",
   "id": "a0dfea85-7d2a-479e-babc-7cbe9e6573e7",
   "metadata": {},
   "source": [
    "##### In Python, there is no concept of default constructors in the same way as in some other programming languages like C++ or Java. In those languages, a default constructor is automatically provided by the compiler if no other constructor is explicitly defined in the class. However, Python handles constructors (the __init__ method) differently:\n",
    "\n",
    "##### Constructor (__init__ method) in Python:\n",
    "##### Purpose: The __init__ method is a special method in Python classes that initializes new instances of the class. It is called automatically when you create a new object of that class.\n",
    "##### Usage: You explicitly define the __init__ method within the class to specify how to initialize the instance variables (attributes) of the object. It takes self as the first parameter (which refers to the instance itself) and can take additional parameters to initialize instance variables with specific values.\n",
    "##### Custom Initialization: Python does not provide a default __init__ method unless you define one explicitly in your class. If you do not define a __init__ method, Python provides a default one that does nothing (it's an empty method), which means instances of the class will be created without any specific initialization of attributes.\n"
   ]
  },
  {
   "cell_type": "markdown",
   "id": "2942a7e2-db1c-419b-ab0d-e1a8263e2538",
   "metadata": {},
   "source": [
    "### 9. Create a Python class called `Rectangle` with a constructor that initializes the `width` and `height` attributes. Provide a method to calculate the area of the rectangle."
   ]
  },
  {
   "cell_type": "code",
   "execution_count": 60,
   "id": "613e0f6c-0e4b-455f-88db-280a51339701",
   "metadata": {},
   "outputs": [
    {
     "name": "stdout",
     "output_type": "stream",
     "text": [
      "Area of rectangle1: 50\n",
      "Area of rectangle2: 21\n"
     ]
    }
   ],
   "source": [
    "class Rectangle:\n",
    "    def __init__(self, width, height):\n",
    "        self.width = width\n",
    "        self.height = height\n",
    "\n",
    "    def calculate_area(self):\n",
    "        return self.width * self.height\n",
    "\n",
    "\n",
    "rectangle1 = Rectangle(5, 10)\n",
    "area1 = rectangle1.calculate_area()\n",
    "print(f\"Area of rectangle1: {area1}\") \n",
    "\n",
    "rectangle2 = Rectangle(3, 7)\n",
    "area2 = rectangle2.calculate_area()\n",
    "print(f\"Area of rectangle2: {area2}\")  \n"
   ]
  },
  {
   "cell_type": "markdown",
   "id": "e5787ba2-f374-4e6d-ae95-a5df89cd3ef4",
   "metadata": {},
   "source": [
    "### 10. How can you have multiple constructors in a Python class? Explain with an example."
   ]
  },
  {
   "cell_type": "code",
   "execution_count": 63,
   "id": "ee3a558a-d5e5-4f71-a593-1932e6c6fbe2",
   "metadata": {},
   "outputs": [
    {
     "name": "stdout",
     "output_type": "stream",
     "text": [
      "Rectangle 1: width=5, height=10\n",
      "Square 1: width=4, height=4\n"
     ]
    }
   ],
   "source": [
    "class Rectangle:\n",
    "    def __init__(self, width, height):\n",
    "        self.width = width\n",
    "        self.height = height\n",
    "\n",
    "    @classmethod\n",
    "    def create_square(cls, side_length):\n",
    "        return cls(side_length, side_length)\n",
    "\n",
    "# Creating rectangles using different constructors\n",
    "rectangle1 = Rectangle(5, 10)          # Using the primary constructor\n",
    "square1 = Rectangle.create_square(4)   # Using the class method as an alternative constructor\n",
    "\n",
    "# Displaying attributes\n",
    "print(f\"Rectangle 1: width={rectangle1.width}, height={rectangle1.height}\") \n",
    "print(f\"Square 1: width={square1.width}, height={square1.height}\")          "
   ]
  },
  {
   "cell_type": "markdown",
   "id": "68bf2933-7bc6-4aa0-8c4a-25ff200b8383",
   "metadata": {},
   "source": [
    "### 11. What is method overloading, and how is it related to constructors in Python?"
   ]
  },
  {
   "cell_type": "markdown",
   "id": "74eb749c-0ede-4adc-8ced-809888fed8a8",
   "metadata": {},
   "source": [
    "##### Method overloading is a concept in object-oriented programming where you can define multiple methods with the same name but with different parameters or different types of parameters. The method that gets called is determined by the number of parameters or their types at the time of invocation. In languages like Java or C++, method overloading allows for more flexible and readable code by providing different ways to call methods with varying sets of arguments.\n",
    "##### How Constructors (Init Method) Relate to Method Overloading:\n",
    "##### Single Constructor (__init__ method): In Python, each class typically has a single constructor, the __init__ method, which is automatically called when an object is instantiated. Unlike languages like Java or C++, you cannot define multiple __init__ methods with different parameter lists to create different types of objects.\n",
    "##### Alternative Constructors Using Class Methods: While Python does not support traditional method overloading for constructors, you can use class methods as alternative constructors. Class methods allow you to define additional ways to create objects with different initialization parameters or behaviors."
   ]
  },
  {
   "cell_type": "markdown",
   "id": "2dc3a5e3-2b93-4623-a492-b5b39773c49f",
   "metadata": {},
   "source": [
    "### 12. Explain the use of the `super()` function in Python constructors. Provide an example."
   ]
  },
  {
   "cell_type": "markdown",
   "id": "e6b9eec6-5604-493c-bc47-02193c44299d",
   "metadata": {},
   "source": [
    "##### In Python, the super() function is used to call methods and access attributes from a parent class within a derived (child) class. It is particularly useful in constructors (__init__ methods) of derived classes when you want to initialize attributes defined in the parent class."
   ]
  },
  {
   "cell_type": "code",
   "execution_count": 74,
   "id": "37efe094-3a2b-41f1-b4aa-64fa0e143c3f",
   "metadata": {},
   "outputs": [
    {
     "name": "stdout",
     "output_type": "stream",
     "text": [
      "Color: blue, Width: 5, Height: 10\n"
     ]
    }
   ],
   "source": [
    "class Shape:\n",
    "    def __init__(self, color):\n",
    "        self.color = color\n",
    "\n",
    "class Rectangle(Shape):\n",
    "    def __init__(self, color, width, height):\n",
    "        super().__init__(color)  # Calling the constructor of the parent class\n",
    "        self.width = width\n",
    "        self.height = height\n",
    "\n",
    "    def display(self):\n",
    "        print(f\"Color: {self.color}, Width: {self.width}, Height: {self.height}\")\n",
    "\n",
    "rectangle = Rectangle(\"blue\", 5, 10)\n",
    "rectangle.display()  # Output: Color: blue, Width: 5, Height: 10\n"
   ]
  },
  {
   "cell_type": "markdown",
   "id": "2dd0462f-5114-48a7-9eb3-2bdf64fe5aa5",
   "metadata": {},
   "source": [
    "### 13. Create a class called `Book` with a constructor that initializes the `title`, `author`, and `published_year` attributes. Provide a method to display book details."
   ]
  },
  {
   "cell_type": "code",
   "execution_count": 77,
   "id": "a44bba85-2732-4c20-8921-91db2aaa6923",
   "metadata": {},
   "outputs": [
    {
     "name": "stdout",
     "output_type": "stream",
     "text": [
      "Title: The Great Gatsby\n",
      "Author: F. Scott Fitzgerald\n",
      "Published Year: 1925\n",
      "\n",
      "Title: To Kill a Mockingbird\n",
      "Author: Harper Lee\n",
      "Published Year: 1960\n"
     ]
    }
   ],
   "source": [
    "class Book:\n",
    "    def __init__(self, title, author, published_year):\n",
    "        self.title = title\n",
    "        self.author = author\n",
    "        self.published_year = published_year\n",
    "\n",
    "    def display_details(self):\n",
    "        print(f\"Title: {self.title}\")\n",
    "        print(f\"Author: {self.author}\")\n",
    "        print(f\"Published Year: {self.published_year}\")\n",
    "\n",
    "# Example usage:\n",
    "book1 = Book(\"The Great Gatsby\", \"F. Scott Fitzgerald\", 1925)\n",
    "book1.display_details()\n",
    "print()  # Print an empty line for separation\n",
    "\n",
    "book2 = Book(\"To Kill a Mockingbird\", \"Harper Lee\", 1960)\n",
    "book2.display_details()\n"
   ]
  },
  {
   "cell_type": "markdown",
   "id": "b8ea00d4-0d48-4408-a81d-48324a949b01",
   "metadata": {},
   "source": [
    "### 14. Discuss the differences between constructors and regular methods in Python."
   ]
  },
  {
   "cell_type": "markdown",
   "id": "853ec326-f06f-4ce0-95b2-62f5cb1c7f8b",
   "metadata": {},
   "source": [
    "Constructors (__init__ Methods):\n",
    "Initialization:\n",
    "\n",
    "Purpose: Constructors are special methods used to initialize objects of a class. They are automatically called when an object of the class is created.\n",
    "Name: Constructors in Python are named __init__ and are defined using the def keyword like regular methods, but with a predefined name.\n",
    "Execution:\n",
    "\n",
    "Automatic Invocation: Constructors are automatically invoked when an object of the class is instantiated. They initialize instance variables and perform setup tasks required before an object can be used.\n",
    "Initialization Scope: Constructors typically initialize attributes (self.attribute) that are specific to each instance of the class.\n",
    "Syntax:\n",
    "\n",
    "Constructors have the syntax def __init__(self, ...), where self is the instance of the class being initialized, and ... represents parameters passed during object creation.\n",
    "Return Value:\n",
    "\n",
    "Constructors do not return any value explicitly. They are used solely for initialization purposes.\n",
    "Usage:\n",
    "\n",
    "Constructors are used to set up initial states of objects and can accept parameters to customize initialization based on user input or other factors."
   ]
  },
  {
   "cell_type": "markdown",
   "id": "fc82c1ae-8721-4ce1-8bde-c3600d7aec87",
   "metadata": {},
   "source": [
    "Regular Methods:\n",
    "Functionality:\n",
    "\n",
    "Purpose: Regular methods in a class perform specific actions or operations on objects. They define the behavior of objects and can manipulate object state or perform calculations.\n",
    "Name: Regular methods are defined using the def keyword followed by a method name that is user-defined.\n",
    "Execution:\n",
    "\n",
    "Regular methods must be called explicitly on instances of the class using dot notation (object.method()). They do not run automatically like constructors.\n",
    "Syntax:\n",
    "\n",
    "Regular methods have the syntax def method_name(self, ...), where self refers to the instance on which the method is called, and ... represents any additional parameters the method requires.\n",
    "Return Value:\n",
    "\n",
    "Regular methods can return values using the return statement. They can perform calculations, manipulate attributes, or provide information about the object's state.\n",
    "Usage:\n",
    "\n",
    "Regular methods encapsulate behaviors associated with objects of the class. They can access and modify instance attributes and perform operations specific to the class's purpose."
   ]
  },
  {
   "cell_type": "markdown",
   "id": "f38e210c-e463-4ffe-b99f-bc7d56435990",
   "metadata": {},
   "source": [
    "### 15. Explain the role of the `self` parameter in instance variable initialization within a constructor."
   ]
  },
  {
   "cell_type": "markdown",
   "id": "cb6184ae-70f3-4f26-a598-9ebc34fb9b90",
   "metadata": {},
   "source": [
    "Role of self in Instance Variable Initialization:\n",
    "Reference to the Instance:\n",
    "\n",
    "In Python, when you define methods within a class (including the __init__ method), you must explicitly include self as the first parameter for these methods.\n",
    "self is a reference to the current instance of the class. It allows methods to access and manipulate attributes (instance variables) specific to that instance.\n",
    "Constructor Initialization:\n",
    "\n",
    "Within the __init__ method, self is used to initialize instance variables. These variables are unique to each instance (object) of the class and store object-specific data.\n",
    "For example, self.name = name assigns the value of the name parameter passed to the constructor to the instance variable name associated with the current instance (self).\n",
    "Instance-specific Attributes:\n",
    "\n",
    "Instance variables defined using self in the constructor can be accessed and modified across all methods (both constructors and regular methods) within the class.\n",
    "They are distinct for each object created from the class, allowing objects to maintain individual states and data.\n",
    "Usage in Methods:\n",
    "\n",
    "In addition to the __init__ method, self is used in all instance methods within the class to refer to the current instance. This includes methods that perform operations on or retrieve information from the object's attributes."
   ]
  },
  {
   "cell_type": "markdown",
   "id": "5fb484b6-9c1a-499e-8589-773bde052bb6",
   "metadata": {},
   "source": [
    "### 16. How do you prevent a class from having multiple instances by using constructors in Python? Provide an example."
   ]
  },
  {
   "cell_type": "code",
   "execution_count": 88,
   "id": "7650345c-1e05-461b-b0ee-6dc63ba574fe",
   "metadata": {},
   "outputs": [
    {
     "name": "stdout",
     "output_type": "stream",
     "text": [
      "<__main__.Singleton object at 0x00000230228B37A0>\n",
      "Exception occurred: Singleton instance already exists. Use Singleton.get_instance() to retrieve it.\n",
      "<__main__.Singleton object at 0x00000230228B37A0>\n"
     ]
    }
   ],
   "source": [
    "class Singleton:\n",
    "    _instance = None  # Class-level variable to store the singleton instance\n",
    "\n",
    "    def __init__(self):\n",
    "        # Check if an instance already exists; raise an error if trying to create another instance\n",
    "        if self._instance is not None:\n",
    "            raise Exception(\"Singleton instance already exists. Use Singleton.get_instance() to retrieve it.\")\n",
    "        else:\n",
    "            self._instance = self  # Store the instance reference in the class variable\n",
    "\n",
    "    @classmethod\n",
    "    def get_instance(cls):\n",
    "        # Class method to retrieve the singleton instance\n",
    "        if cls._instance is None:\n",
    "            cls._instance = cls()  # Create the singleton instance if it doesn't exist\n",
    "        return cls._instance\n",
    "\n",
    "\n",
    "singleton1 = Singleton.get_instance()\n",
    "print(singleton1)  # Output: <__main__.Singleton object at 0x7fc6c37c4a30>\n",
    "\n",
    "# Attempting to create another instance will raise an exception\n",
    "try:\n",
    "    singleton2 = Singleton()\n",
    "except Exception as e:\n",
    "    print(f\"Exception occurred: {e}\")  # Output: Exception occurred: Singleton instance already exists. Use Singleton.get_instance() to retrieve it.\n",
    "\n",
    "# Accessing the same instance again through the class method\n",
    "singleton3 = Singleton.get_instance()\n",
    "print(singleton3)  # Output: <__main__.Singleton object at 0x7fc6c37c4a30>\n"
   ]
  },
  {
   "cell_type": "markdown",
   "id": "5c6a1bc7-a23d-4d34-ad57-11ce0249ead0",
   "metadata": {},
   "source": [
    "### 17. Create a Python class called `Student` with a constructor that takes a list of subjects as a parameter and initializes the `subjects` attribute."
   ]
  },
  {
   "cell_type": "code",
   "execution_count": 91,
   "id": "d0e147f8-7304-458e-ba47-0ff3b9c47c7a",
   "metadata": {},
   "outputs": [
    {
     "name": "stdout",
     "output_type": "stream",
     "text": [
      "Subjects enrolled:\n",
      "Mathematics\n",
      "Science\n",
      "History\n",
      "Subjects enrolled:\n",
      "English\n",
      "Physics\n",
      "Geography\n"
     ]
    }
   ],
   "source": [
    "class Student:\n",
    "    def __init__(self, subjects):\n",
    "        self.subjects = subjects\n",
    "\n",
    "    def display_subjects(self):\n",
    "        print(\"Subjects enrolled:\")\n",
    "        for subject in self.subjects:\n",
    "            print(subject)\n",
    "\n",
    "subjects_list = [\"Mathematics\", \"Science\", \"History\"]\n",
    "student1 = Student(subjects_list)\n",
    "student1.display_subjects()\n",
    "\n",
    "# Adding another student with different subjects\n",
    "subjects_list2 = [\"English\", \"Physics\", \"Geography\"]\n",
    "student2 = Student(subjects_list2)\n",
    "student2.display_subjects()\n"
   ]
  },
  {
   "cell_type": "markdown",
   "id": "aadc4476-2b3f-4463-99a7-939eedbf1924",
   "metadata": {},
   "source": [
    "### 18. What is the purpose of the `__del__` method in Python classes, and how does it relate to constructors?"
   ]
  },
  {
   "cell_type": "markdown",
   "id": "daea74c6-8562-4ef2-b03d-d1db2731b56d",
   "metadata": {},
   "source": [
    "Purpose of __del__ Method:\n",
    "\n",
    "Object Cleanup:\n",
    "\n",
    "The primary purpose of the __del__ method is to perform any cleanup actions or resource deallocations associated with an object before it is destroyed.\n",
    "This can include releasing external resources like file handles, database connections, or performing final logging or cleanup operations.\n",
    "\n",
    "Invocation:\n",
    "\n",
    "Python automatically invokes the __del__ method when an object is no longer referenced and is about to be garbage collected.\n",
    "The exact timing of when __del__ is called is not deterministic and depends on Python's garbage collection mechanism.\n",
    "\n",
    "Implementation:\n",
    "\n",
    "You define the __del__ method within a class like any other special method, specifying the actions to be performed when the object is destroyed.\n",
    "It does not accept any parameters other than self, representing the instance of the class being destroyed.\n",
    "\n",
    "Relationship with Constructors (__init__ Method):\n",
    "\n",
    "Initialization vs. Cleanup:\n",
    "\n",
    "__init__ and __del__ methods serve opposite purposes:\n",
    "__init__ initializes the object and its attributes when it is created.\n",
    "__del__ cleans up or releases resources when the object is no longer needed and is being destroyed.\n",
    "\n",
    "Complete Lifecycle:\n",
    "\n",
    "Together, __init__ and __del__ methods define the complete lifecycle of an object:\n",
    "__init__ initializes instance variables and prepares the object for use.\n",
    "Methods and operations on the object can be performed during its active lifecycle.\n",
    "__del__ ensures proper cleanup and finalization of resources when the object is no longer in use."
   ]
  },
  {
   "cell_type": "markdown",
   "id": "89934210-a04d-46a9-a64e-b65b2aa788fa",
   "metadata": {},
   "source": [
    "### 19. Explain the use of constructor chaining in Python. Provide a practical example."
   ]
  },
  {
   "cell_type": "markdown",
   "id": "22acdf9a-0cd2-4988-96ee-bf5cfbc87845",
   "metadata": {},
   "source": [
    "Constructor chaining in Python refers to the process of calling one constructor from another within the same class or between parent and child classes. This allows you to reuse initialization code and maintain consistency across different constructors. This concept is particularly useful in object-oriented programming to avoid code duplication and ensure proper initialization of objects across different scenarios."
   ]
  },
  {
   "cell_type": "code",
   "execution_count": 100,
   "id": "90fd36c4-ba71-4aa0-8df5-b0c5ea6f2033",
   "metadata": {},
   "outputs": [
    {
     "name": "stdout",
     "output_type": "stream",
     "text": [
      "Person 'Alice' created.\n",
      "Student 'Alice' with ID 'S12345' created.\n"
     ]
    }
   ],
   "source": [
    "class Person:\n",
    "    def __init__(self, name):\n",
    "        self.name = name\n",
    "        print(f\"Person '{self.name}' created.\")\n",
    "\n",
    "class Student(Person):\n",
    "    def __init__(self, name, student_id):\n",
    "        super().__init__(name)  # Calling parent class constructor\n",
    "        self.student_id = student_id\n",
    "        print(f\"Student '{self.name}' with ID '{self.student_id}' created.\")\n",
    "\n",
    "student1 = Student(\"Alice\", \"S12345\")\n"
   ]
  },
  {
   "cell_type": "markdown",
   "id": "717ea52c-63eb-41e3-9567-eaf54580f3b4",
   "metadata": {},
   "source": [
    "### 20. Create a Python class called `Car` with a default constructor that initializes the `make` and `model` attributes. Provide a method to display car information."
   ]
  },
  {
   "cell_type": "code",
   "execution_count": 103,
   "id": "8f5ce35d-ad9f-4558-ab96-72517b6f673c",
   "metadata": {},
   "outputs": [
    {
     "name": "stdout",
     "output_type": "stream",
     "text": [
      "Car Make: Toyota\n",
      "Car Model: Camry\n",
      "Car Make: Honda\n",
      "Car Model: Accord\n"
     ]
    }
   ],
   "source": [
    "class Car:\n",
    "    def __init__(self, make, model):\n",
    "        self.make = make\n",
    "        self.model = model\n",
    "\n",
    "    def display_info(self):\n",
    "        print(f\"Car Make: {self.make}\")\n",
    "        print(f\"Car Model: {self.model}\")\n",
    "\n",
    "\n",
    "car1 = Car(\"Toyota\", \"Camry\")\n",
    "car1.display_info()\n",
    "\n",
    "car2 = Car(\"Honda\", \"Accord\")\n",
    "car2.display_info()\n"
   ]
  },
  {
   "cell_type": "markdown",
   "id": "53adbebf-332d-4a52-896f-605ce0405733",
   "metadata": {},
   "source": [
    "## Inheritance"
   ]
  },
  {
   "cell_type": "markdown",
   "id": "2711cb1f-397d-4f2b-9004-a8715196f188",
   "metadata": {},
   "source": [
    "## 1. What is inheritance in Python? Explain its significance in object-oriented programming."
   ]
  },
  {
   "cell_type": "markdown",
   "id": "31fb01b6-f702-4134-9b84-eef7a064565e",
   "metadata": {},
   "source": [
    "Inheritance in Python is a fundamental concept in object-oriented programming (OOP) that allows one class (child/subclass) to inherit the properties and methods of another class (parent/base/superclass). This mechanism facilitates code reuse and promotes the hierarchical organization of classes based on common characteristics and behaviors."
   ]
  },
  {
   "cell_type": "markdown",
   "id": "a528184d-cba3-41ba-83da-42445bac01f6",
   "metadata": {},
   "source": [
    "Significance of Inheritance:\n",
    "\n",
    "Code Reusability: Inheritance allows child classes to reuse methods and attributes defined in their parent class, reducing redundancy and promoting efficient code maintenance.\n",
    "\n",
    "Hierarchy and Organization: Classes can be organized into hierarchical structures based on shared characteristics. This promotes clarity and makes the codebase easier to understand and extend.\n",
    "\n",
    "Polymorphism: Through inheritance, Python supports polymorphism, where methods defined in the parent class can be overridden in the child class to provide specialized functionality while maintaining a consistent interface.\n",
    "\n",
    "Extensibility: Child classes can extend the functionality of parent classes by adding new methods and attributes or by modifying existing behavior through method overriding."
   ]
  },
  {
   "cell_type": "markdown",
   "id": "b2ea36a7-f5d4-4503-bebc-9c5ea42c15de",
   "metadata": {},
   "source": [
    "### 2. Differentiate between single inheritance and multiple inheritance in Python. Provide examples for each."
   ]
  },
  {
   "cell_type": "markdown",
   "id": "d216e2f7-24a5-462f-b447-ee857f20a495",
   "metadata": {},
   "source": [
    "Single Inheritance:\n",
    "Definition:\n",
    "\n",
    "Single inheritance occurs when a class inherits from only one parent class."
   ]
  },
  {
   "cell_type": "code",
   "execution_count": 120,
   "id": "af29786f-44c4-41f1-90b1-8cda1c62cded",
   "metadata": {},
   "outputs": [
    {
     "name": "stdout",
     "output_type": "stream",
     "text": [
      "Animal speaks\n",
      "Dog barks\n"
     ]
    }
   ],
   "source": [
    "class Animal:\n",
    "    def speak(self):\n",
    "        return \"Animal speaks\"\n",
    "\n",
    "class Dog(Animal):\n",
    "    def bark(self):\n",
    "        return \"Dog barks\"\n",
    "\n",
    "dog = Dog()\n",
    "print(dog.speak())  # Output: Animal speaks\n",
    "print(dog.bark())   # Output: Dog barks\n"
   ]
  },
  {
   "cell_type": "markdown",
   "id": "a8b3afb3-a474-47b7-ad2c-6888b48fbd18",
   "metadata": {},
   "source": [
    "Multiple Inheritance:\n",
    "Definition:\n",
    "\n",
    "Multiple inheritance occurs when a class inherits from more than one parent class."
   ]
  },
  {
   "cell_type": "code",
   "execution_count": 123,
   "id": "67524fc3-6a5c-4bff-acd5-b0542583383c",
   "metadata": {},
   "outputs": [
    {
     "name": "stdout",
     "output_type": "stream",
     "text": [
      "Animal speaks\n",
      "Bird chirps\n",
      "Parrot flies\n"
     ]
    }
   ],
   "source": [
    "class Animal:\n",
    "    def speak(self):\n",
    "        return \"Animal speaks\"\n",
    "\n",
    "class Bird:\n",
    "    def chirp(self):\n",
    "        return \"Bird chirps\"\n",
    "\n",
    "class Parrot(Animal, Bird):\n",
    "    def fly(self):\n",
    "        return \"Parrot flies\"\n",
    "\n",
    "parrot = Parrot()\n",
    "print(parrot.speak())   # Output: Animal speaks\n",
    "print(parrot.chirp())   # Output: Bird chirps\n",
    "print(parrot.fly())     # Output: Parrot flies\n"
   ]
  },
  {
   "cell_type": "markdown",
   "id": "f8c0982c-42b8-4b75-a68a-e7963bd76046",
   "metadata": {},
   "source": [
    "### 3. Create a Python class called `Vehicle` with attributes `color` and `speed`. Then, create a child class called `Car` that inherits from `Vehicle` and adds a `brand` attribute. Provide an example of creating a `Car` object."
   ]
  },
  {
   "cell_type": "code",
   "execution_count": 127,
   "id": "f78ae212-85b6-4842-b6ec-28e7ff776fb1",
   "metadata": {},
   "outputs": [
    {
     "name": "stdout",
     "output_type": "stream",
     "text": [
      "Car color: Red\n",
      "Car speed: 120 km/h\n",
      "Car brand: Toyota\n"
     ]
    }
   ],
   "source": [
    "class Vehicle:\n",
    "    def __init__(self, color, speed):\n",
    "        self.color = color\n",
    "        self.speed = speed\n",
    "\n",
    "class Car(Vehicle):\n",
    "    def __init__(self, color, speed, brand):\n",
    "        super().__init__(color, speed)\n",
    "        self.brand = brand\n",
    "\n",
    "car1 = Car(\"Red\", 120, \"Toyota\")\n",
    "print(f\"Car color: {car1.color}\")\n",
    "print(f\"Car speed: {car1.speed} km/h\")\n",
    "print(f\"Car brand: {car1.brand}\")\n"
   ]
  },
  {
   "cell_type": "markdown",
   "id": "7e418be4-b6ab-4692-8969-fbc4d07e85ef",
   "metadata": {},
   "source": [
    "### 4. Explain the concept of method overriding in inheritance. Provide a practical example."
   ]
  },
  {
   "cell_type": "markdown",
   "id": "5e11a2a3-208e-46b0-b250-699fd669b87f",
   "metadata": {},
   "source": [
    "Method overriding is a concept in object-oriented programming where a subclass provides a specific implementation of a method that is already defined in its superclass. This allows a subclass to provide a specialized version of a method that is inherited from its parent class, thereby overriding the behavior defined in the superclass."
   ]
  },
  {
   "cell_type": "code",
   "execution_count": 133,
   "id": "ae5830d0-6a4f-41fe-bcee-13738ae8e1d2",
   "metadata": {},
   "outputs": [
    {
     "name": "stdout",
     "output_type": "stream",
     "text": [
      "Animal makes a sound\n",
      "Dog barks\n"
     ]
    }
   ],
   "source": [
    "class Animal:\n",
    "    def sound(self):\n",
    "        return \"Animal makes a sound\"\n",
    "\n",
    "class Dog(Animal):\n",
    "    def sound(self):\n",
    "        return \"Dog barks\"\n",
    "\n",
    "\n",
    "animal = Animal()\n",
    "print(animal.sound())  # Output: Animal makes a sound\n",
    "\n",
    "dog = Dog()\n",
    "print(dog.sound())     # Output: Dog barks\n"
   ]
  },
  {
   "cell_type": "markdown",
   "id": "5823fae4-6c06-41d6-9546-f9d59cd8e0cc",
   "metadata": {},
   "source": [
    "### 5. How can you access the methods and attributes of a parent class from a child class in Python? Give an example."
   ]
  },
  {
   "cell_type": "markdown",
   "id": "9f9e2a2c-87a9-4c14-9eb9-7aa78c5215a6",
   "metadata": {},
   "source": [
    "In Python, you can access methods and attributes of a parent class from a child class using the super() function. The super() function provides a way to call methods and access attributes defined in the superclass (parent class) within the context of the subclass (child class). This is particularly useful when you want to extend the behavior of a method in the subclass while leveraging functionality defined in the superclass."
   ]
  },
  {
   "cell_type": "code",
   "execution_count": 137,
   "id": "7473b9be-dbe1-4309-a4f9-7350224f4f41",
   "metadata": {},
   "outputs": [
    {
     "name": "stdout",
     "output_type": "stream",
     "text": [
      "I am a Canine of breed Labrador\n",
      "Canine of breed Labrador barks\n",
      "Canine makes a sound\n"
     ]
    }
   ],
   "source": [
    "class Animal:\n",
    "    def __init__(self, species):\n",
    "        self.species = species\n",
    "\n",
    "    def speak(self):\n",
    "        return f\"{self.species} makes a sound\"\n",
    "\n",
    "class Dog(Animal):\n",
    "    def __init__(self, species, breed):\n",
    "        super().__init__(species)  # Call superclass constructor\n",
    "        self.breed = breed\n",
    "\n",
    "    def speak(self):\n",
    "        return f\"{self.species} of breed {self.breed} barks\"\n",
    "\n",
    "    def describe(self):\n",
    "        return f\"I am a {self.species} of breed {self.breed}\"\n",
    "\n",
    "# Example usage:\n",
    "dog = Dog(\"Canine\", \"Labrador\")\n",
    "print(dog.describe())   # Output: I am a Canine of breed Labrador\n",
    "print(dog.speak())      # Output: Canine of breed Labrador barks\n",
    "print(super(Dog, dog).speak())  # Output: Canine makes a sound\n"
   ]
  },
  {
   "cell_type": "markdown",
   "id": "fce16ef3-71de-47b5-986d-62491d09ffde",
   "metadata": {},
   "source": [
    "### 6. Discuss the use of the `super()` function in Python inheritance. When and why is it used? Provide an example."
   ]
  },
  {
   "cell_type": "markdown",
   "id": "dc2348cd-0d12-4900-80d0-51c0a8e708c1",
   "metadata": {},
   "source": [
    "Purpose of super() Function:\n",
    "\n",
    "Calling Superclass Methods:\n",
    "\n",
    "Scenario: When a method is overridden in a subclass, super() enables you to invoke the method from the superclass, providing a way to extend or modify the behavior without duplicating code.\n",
    "Why: This promotes code reuse and ensures that common functionality defined in the superclass can be leveraged across subclasses.\n",
    "\n",
    "Initializing Superclass Constructors:\n",
    "\n",
    "Scenario: When initializing attributes in a subclass constructor, super() is used to call the constructor of the superclass, ensuring proper initialization of inherited attributes.\n",
    "Why: This maintains the integrity of the object's state and supports the principle of inheritance, where subclasses inherit and extend the behavior of their superclasses.\n",
    "\n",
    "Method Resolution Order (MRO):\n",
    "\n",
    "Scenario: In multiple inheritance scenarios, super() follows the MRO defined by the C3 linearization algorithm, ensuring consistent and predictable method resolution across the inheritance hierarchy.\n",
    "Why: This prevents ambiguity and defines the sequence in which methods are searched and invoked, resolving potential conflicts in method names between parent classes."
   ]
  },
  {
   "cell_type": "code",
   "execution_count": 144,
   "id": "a02c4b6c-ee42-4f45-8938-877d974f6467",
   "metadata": {},
   "outputs": [
    {
     "name": "stdout",
     "output_type": "stream",
     "text": [
      "My name is Buddy\n",
      "Canine of breed Labrador barks\n",
      "Canine makes a sound\n"
     ]
    }
   ],
   "source": [
    "class Animal:\n",
    "    def __init__(self, species):\n",
    "        self.species = species\n",
    "\n",
    "    def speak(self):\n",
    "        return f\"{self.species} makes a sound\"\n",
    "\n",
    "class Pet:\n",
    "    def __init__(self, name):\n",
    "        self.name = name\n",
    "\n",
    "    def describe(self):\n",
    "        return f\"My name is {self.name}\"\n",
    "\n",
    "class Dog(Animal, Pet):\n",
    "    def __init__(self, species, breed, name):\n",
    "        super().__init__(species)  # Call Animal superclass constructor\n",
    "        Pet.__init__(self, name)   # Call Pet superclass constructor\n",
    "        self.breed = breed\n",
    "\n",
    "    def speak(self):\n",
    "        return f\"{self.species} of breed {self.breed} barks\"\n",
    "\n",
    "\n",
    "dog = Dog(\"Canine\", \"Labrador\", \"Buddy\")\n",
    "print(dog.describe())   # Output: My name is Buddy\n",
    "print(dog.speak())      # Output: Canine of breed Labrador barks\n",
    "print(super(Dog, dog).speak())  # Output: Canine makes a sound\n"
   ]
  },
  {
   "cell_type": "markdown",
   "id": "44af872a-e0cb-4477-8a6d-364f8a7e759a",
   "metadata": {},
   "source": [
    "### 7. Create a Python class called `Animal` with a method `speak()`. Then, create child classes `Dog` and `Cat` that inherit from `Animal` and override the `speak()` method. Provide an example of using these classes."
   ]
  },
  {
   "cell_type": "code",
   "execution_count": 150,
   "id": "6785cfa5-5fce-4c78-870f-60c6acfaba23",
   "metadata": {},
   "outputs": [
    {
     "name": "stdout",
     "output_type": "stream",
     "text": [
      "Woof!\n",
      "Meow!\n"
     ]
    }
   ],
   "source": [
    "class Animal:\n",
    "    def speak(self):\n",
    "        raise NotImplementedError(\"Subclass must implement abstract method\")\n",
    "\n",
    "class Dog(Animal):\n",
    "    def speak(self):\n",
    "        return \"Woof!\"\n",
    "\n",
    "class Cat(Animal):\n",
    "    def speak(self):\n",
    "        return \"Meow!\"\n",
    "\n",
    "dog = Dog()\n",
    "cat = Cat()\n",
    "\n",
    "print(dog.speak())  \n",
    "print(cat.speak())  \n"
   ]
  },
  {
   "cell_type": "markdown",
   "id": "7a6463e3-284b-404c-8f68-f111641344f8",
   "metadata": {},
   "source": [
    "### 8. Explain the role of the `isinstance()` function in Python and how it relates to inheritance."
   ]
  },
  {
   "cell_type": "markdown",
   "id": "dfbb56d6-6955-4f96-95ba-41be005a1fc1",
   "metadata": {},
   "source": [
    "Role of isinstance() Function:\n",
    "Type Checking:\n",
    "\n",
    "Basic Usage: Checks if an object belongs to a specific class.\n",
    "Tuple of Classes: Checks if an object is an instance of any class in a tuple.\n",
    "\n",
    "Inheritance and Subclasses:\n",
    "\n",
    "Hierarchy Check: isinstance() considers inheritance hierarchy. If obj is an instance of a subclass, it will return True for both the subclass and its superclass.\n",
    "\n",
    "Polymorphism Support:\n",
    "\n",
    "Dynamic Behavior: Facilitates polymorphic behavior by allowing code to adapt based on the actual type of an object at runtime.\n",
    "\n",
    "Handling Abstract Classes:\n",
    "\n",
    "Abstract Base Classes (ABCs): Useful with abstract base classes created using Python's abc module, where isinstance() helps verify instances against abstract types.\n",
    "\n",
    "Relationship to Inheritance:\n",
    "Subclass Checking: isinstance() considers subclasses as instances of their superclass. This behavior is crucial in scenarios where you want to handle objects polymorphically based on their types across inheritance hierarchies.\n",
    "\n",
    "Flexible Type Checking: Supports dynamic type checking that respects the class hierarchy, making it easier to write code that can handle various subclasses uniformly."
   ]
  },
  {
   "cell_type": "markdown",
   "id": "8428972b-6302-4838-9b93-b4477887ca7a",
   "metadata": {},
   "source": [
    "### 9. What is the purpose of the `issubclass()` function in Python? Provide an example."
   ]
  },
  {
   "cell_type": "markdown",
   "id": "43d21c66-1cf9-4be0-a798-7e35b0b6809d",
   "metadata": {},
   "source": [
    "The issubclass() function in Python is used to check if a particular class is a subclass of another class or a tuple of classes. It returns True if the class is a subclass (including indirect inheritance) of any class in the provided class or tuple of classes, otherwise, it returns False."
   ]
  },
  {
   "cell_type": "markdown",
   "id": "1fc5f405-b606-4573-a072-1dcdcc23a575",
   "metadata": {},
   "source": [
    "Purpose of issubclass() Function:\n",
    "Inheritance Checking:\n",
    "\n",
    "Direct and Indirect Inheritance: Determines if a class inherits from another class directly or through the inheritance chain.\n",
    "Multiple Inheritance Checking:\n",
    "\n",
    "Tuple of Classes: Checks if a class is a subclass of any class in a tuple."
   ]
  },
  {
   "cell_type": "markdown",
   "id": "847ff280-632f-4dfc-bc26-cf9e669c097f",
   "metadata": {},
   "source": [
    "### 10. Discuss the concept of constructor inheritance in Python. How are constructors inherited in child classes?"
   ]
  },
  {
   "cell_type": "markdown",
   "id": "8708056f-7f8e-4579-8940-4a1c2d23ca5b",
   "metadata": {},
   "source": [
    "In Python, constructors are special methods defined by the __init__() method in a class. They are used to initialize the attributes of an object when it is created. When dealing with inheritance, the behavior of constructors in parent and child classes is an important aspect to understand."
   ]
  },
  {
   "cell_type": "markdown",
   "id": "c481ed81-61a3-49d0-998a-2d30dd32f640",
   "metadata": {},
   "source": [
    "Concept of Constructor Inheritance:\n",
    "Parent Class Constructor:\n",
    "\n",
    "A parent class can define a constructor (__init__() method) that initializes its attributes.\n",
    "When a child class inherits from a parent class, it does not automatically call the parent class's constructor. The child class must explicitly call the parent class's constructor if it needs to initialize the attributes defined in the parent class.\n",
    "Calling Parent Constructor:\n",
    "\n",
    "The super() function is used in the child class's constructor to call the parent class's constructor. This ensures that the parent class's attributes are initialized properly.\n",
    "Syntax: super().__init__(parameters)\n",
    "Overriding Constructor:\n",
    "\n",
    "A child class can override the parent class's constructor by defining its own __init__() method. When this happens, the child class's constructor will be called, and the parent class's constructor will not be called unless explicitly invoked using super()."
   ]
  },
  {
   "cell_type": "markdown",
   "id": "6efd1323-a084-4955-8816-a11fef8d387d",
   "metadata": {},
   "source": [
    "### 11. Create a Python class called `Shape` with a method `area()` that calculates the area of a shape. Then, create child classes `Circle` and `Rectangle` that inherit from `Shape` and implement the `area()` method accordingly. Provide an example."
   ]
  },
  {
   "cell_type": "code",
   "execution_count": 162,
   "id": "c6d632c5-276f-4164-8a18-974277a8d421",
   "metadata": {},
   "outputs": [
    {
     "name": "stdout",
     "output_type": "stream",
     "text": [
      "Circle area: 78.53981633974483\n",
      "Rectangle area: 24\n"
     ]
    }
   ],
   "source": [
    "from abc import ABC, abstractmethod\n",
    "import math\n",
    "\n",
    "class Shape(ABC):\n",
    "    @abstractmethod\n",
    "    def area(self):\n",
    "        pass\n",
    "\n",
    "class Circle(Shape):\n",
    "    def __init__(self, radius):\n",
    "        self.radius = radius\n",
    "    \n",
    "    def area(self):\n",
    "        return math.pi * (self.radius ** 2)\n",
    "\n",
    "class Rectangle(Shape):\n",
    "    def __init__(self, width, height):\n",
    "        self.width = width\n",
    "        self.height = height\n",
    "    \n",
    "    def area(self):\n",
    "        return self.width * self.height\n",
    "\n",
    "# Example usage:\n",
    "circle = Circle(5)\n",
    "rectangle = Rectangle(4, 6)\n",
    "\n",
    "print(f\"Circle area: {circle.area()}\")  # Output: Circle area: 78.53981633974483\n",
    "print(f\"Rectangle area: {rectangle.area()}\")  # Output: Rectangle area: 24\n"
   ]
  },
  {
   "cell_type": "markdown",
   "id": "9e28732c-968e-4ffe-820a-e7f65fbbc6b6",
   "metadata": {},
   "source": [
    "### 12. Explain the use of abstract base classes (ABCs) in Python and how they relate to inheritance. Provide an example using the `abc` module."
   ]
  },
  {
   "cell_type": "markdown",
   "id": "f4882668-3894-4dbb-935f-7b64b3127067",
   "metadata": {},
   "source": [
    "Abstract Base Classes (ABCs) in Python provide a way to define abstract classes and methods, ensuring that derived classes implement specific methods. ABCs are part of the abc module in Python, which provides mechanisms for defining abstract classes."
   ]
  },
  {
   "cell_type": "markdown",
   "id": "8855796e-99a9-4742-8adc-ddc7fa92a860",
   "metadata": {},
   "source": [
    "How ABCs Relate to Inheritance:\n",
    "Inheritance Hierarchy: ABCs are at the top of an inheritance hierarchy and provide a template for subclasses. Subclasses inherit from ABCs and provide concrete implementations for the abstract methods defined in the ABC.\n",
    "Polymorphism: ABCs enable polymorphism by ensuring that subclasses implement a consistent interface, allowing objects of different subclasses to be treated uniformly based on their shared interface."
   ]
  },
  {
   "cell_type": "code",
   "execution_count": 167,
   "id": "65c3d00b-eca4-485b-8ffe-40c3cff5aedc",
   "metadata": {},
   "outputs": [
    {
     "name": "stdout",
     "output_type": "stream",
     "text": [
      "Circle area: 78.53975\n",
      "Circle perimeter: 31.4159\n",
      "Rectangle area: 24\n",
      "Rectangle perimeter: 20\n"
     ]
    }
   ],
   "source": [
    "from abc import ABC, abstractmethod\n",
    "\n",
    "class Shape(ABC):\n",
    "    @abstractmethod\n",
    "    def area(self):\n",
    "        pass\n",
    "\n",
    "    @abstractmethod\n",
    "    def perimeter(self):\n",
    "        pass\n",
    "\n",
    "class Circle(Shape):\n",
    "    def __init__(self, radius):\n",
    "        self.radius = radius\n",
    "\n",
    "    def area(self):\n",
    "        return 3.14159 * (self.radius ** 2)\n",
    "\n",
    "    def perimeter(self):\n",
    "        return 2 * 3.14159 * self.radius\n",
    "\n",
    "class Rectangle(Shape):\n",
    "    def __init__(self, width, height):\n",
    "        self.width = width\n",
    "        self.height = height\n",
    "\n",
    "    def area(self):\n",
    "        return self.width * self.height\n",
    "\n",
    "    def perimeter(self):\n",
    "        return 2 * (self.width + self.height)\n",
    "\n",
    "circle = Circle(5)\n",
    "rectangle = Rectangle(4, 6)\n",
    "\n",
    "print(f\"Circle area: {circle.area()}\")         \n",
    "print(f\"Circle perimeter: {circle.perimeter()}\") \n",
    "print(f\"Rectangle area: {rectangle.area()}\")         \n",
    "print(f\"Rectangle perimeter: {rectangle.perimeter()}\")  \n"
   ]
  },
  {
   "cell_type": "markdown",
   "id": "39b6e394-691c-4f4f-879e-069be75e8be0",
   "metadata": {},
   "source": [
    "### 13. How can you prevent a child class from modifying certain attributes or methods inherited from a parent class in Python?"
   ]
  },
  {
   "cell_type": "markdown",
   "id": "5af7a61a-c5d7-4dc7-ad3f-699cfe07a933",
   "metadata": {},
   "source": [
    "In Python, there are several ways to prevent a child class from modifying certain attributes or methods inherited from a parent class. Here are some common strategies:\n",
    "\n",
    "Using Name Mangling (Double Underscore Prefix):\n",
    "\n",
    "Prefixing an attribute or method name with double underscores (__) triggers name mangling, which makes it harder (though not impossible) to override them in subclasses.\n",
    "Using Final Methods and Classes (Python 3.8+):\n",
    "\n",
    "Python 3.8 introduced the final decorator in the typing module, which can be used to indicate that a method or class should not be overridden.\n",
    "Design Patterns and Documentation:\n",
    "\n",
    "Clearly documenting the intended use of certain attributes or methods as non-overridable can help maintain discipline among developers.\n",
    "Using design patterns such as the Template Method pattern, where core functionality is implemented in the parent class and only certain \"hooks\" are overridden, can help enforce constraints"
   ]
  },
  {
   "cell_type": "markdown",
   "id": "dbf46b44-c5a9-4bb9-ae1f-1ff2b1f274bd",
   "metadata": {},
   "source": [
    "### 14. Create a Python class called `Employee` with attributes `name` and `salary`. Then, create a child class `Manager` that inherits from `Employee` and adds an attribute `department`. Provide an example."
   ]
  },
  {
   "cell_type": "code",
   "execution_count": 172,
   "id": "f24adfe9-f0ac-4ff0-adfc-ded3955d9364",
   "metadata": {},
   "outputs": [
    {
     "name": "stdout",
     "output_type": "stream",
     "text": [
      "Name: John Doe, Salary: 50000\n",
      "Name: Jane Smith, Salary: 75000, Department: IT\n"
     ]
    }
   ],
   "source": [
    "class Employee:\n",
    "    def __init__(self, name, salary):\n",
    "        self.name = name\n",
    "        self.salary = salary\n",
    "    \n",
    "    def display_info(self):\n",
    "        return f\"Name: {self.name}, Salary: {self.salary}\"\n",
    "\n",
    "class Manager(Employee):\n",
    "    def __init__(self, name, salary, department):\n",
    "        super().__init__(name, salary)\n",
    "        self.department = department\n",
    "\n",
    "    def display_info(self):\n",
    "        return f\"Name: {self.name}, Salary: {self.salary}, Department: {self.department}\"\n",
    "\n",
    "# Example usage:\n",
    "employee = Employee(\"John Doe\", 50000)\n",
    "manager = Manager(\"Jane Smith\", 75000, \"IT\")\n",
    "\n",
    "print(employee.display_info())  \n",
    "print(manager.display_info()) "
   ]
  },
  {
   "cell_type": "markdown",
   "id": "d807f5ce-ad9b-4e1b-832c-cde8873dbb0f",
   "metadata": {},
   "source": [
    "### 15. Discuss the concept of method overloading in Python inheritance. How does it differ from method overriding?"
   ]
  },
  {
   "cell_type": "markdown",
   "id": "561b90fd-5064-4d66-a0ea-593111165758",
   "metadata": {},
   "source": [
    "Method Overloading:\n",
    "Method overloading refers to the ability to define multiple methods in the same scope, with the same name but different signatures (i.e., different parameter lists). Many languages support method overloading as a built-in feature, but Python does not directly support method overloading as seen in languages like Java or C++. Instead, Python achieves similar functionality through default arguments or variable-length argument lists."
   ]
  },
  {
   "cell_type": "markdown",
   "id": "23d82d9e-ec6a-4e7d-8b95-6cc311e2c7ab",
   "metadata": {},
   "source": [
    "Method Overriding:\n",
    "Method overriding occurs when a subclass provides a specific implementation of a method that is already defined in its parent class. The overridden method in the subclass has the same name, return type, and parameters as the method in the parent class. This allows the subclass to provide a specialized behavior for the method."
   ]
  },
  {
   "cell_type": "markdown",
   "id": "c7b35d2d-6019-44c1-87aa-0ee234e2f1dd",
   "metadata": {},
   "source": [
    "### 16. Explain the purpose of the `__init__()` method in Python inheritance and how it is utilized in child classes."
   ]
  },
  {
   "cell_type": "markdown",
   "id": "2cbef8ff-bbe3-4b2f-85c7-d40198f1b410",
   "metadata": {},
   "source": [
    "The __init__() method in Python is a special method that acts as a constructor for initializing objects. It is called automatically when a new instance of a class is created. In the context of inheritance, __init__() plays a crucial role in initializing the attributes of both parent and child classes."
   ]
  },
  {
   "cell_type": "markdown",
   "id": "0756e7f2-f4b1-4d4d-8dc3-13dff242d8cf",
   "metadata": {},
   "source": [
    "How __init__() is Utilized in Child Classes\n",
    "\n",
    "When a child class inherits from a parent class, it can:\n",
    "\n",
    "Inherit the Parent's __init__() Method:\n",
    "\n",
    "If the child class does not define its own __init__() method, it inherits the __init__() method from the parent class.\n",
    "This means that the child class will be initialized using the parent class's constructor.\n",
    "Override the Parent's __init__() Method:\n",
    "\n",
    "The child class can define its own __init__() method to initialize additional attributes or modify the initialization process.\n",
    "The child class can still call the parent class's __init__() method to ensure that the parent class's attributes are properly initialized.\n",
    "Extend the Parent's __init__() Method:\n",
    "\n",
    "The child class can call the parent class's __init__() method using super() to initialize the inherited attributes, and then proceed to initialize its own attributes."
   ]
  },
  {
   "cell_type": "markdown",
   "id": "34d67895-e724-43d6-a57e-e92ae593be6f",
   "metadata": {},
   "source": [
    "### 17. Create a Python class called `Bird` with a method `fly()`. Then, create child classes `Eagle` and `Sparrow` that inherit from `Bird` and implement the `fly()` method differently. Provide an example of using these classes.\n",
    "\n",
    "\n"
   ]
  },
  {
   "cell_type": "code",
   "execution_count": 182,
   "id": "79d697f1-3795-459a-9c73-963b616f475a",
   "metadata": {},
   "outputs": [
    {
     "name": "stdout",
     "output_type": "stream",
     "text": [
      "Eagle soars high in the sky\n",
      "Sparrow flaps its wings quickly\n"
     ]
    }
   ],
   "source": [
    "class Bird:\n",
    "    def fly(self):\n",
    "        raise NotImplementedError(\"Subclasses must implement this method\")\n",
    "\n",
    "class Eagle(Bird):\n",
    "    def fly(self):\n",
    "        return \"Eagle soars high in the sky\"\n",
    "\n",
    "class Sparrow(Bird):\n",
    "    def fly(self):\n",
    "        return \"Sparrow flaps its wings quickly\"\n",
    "\n",
    "# Example usage:\n",
    "eagle = Eagle()\n",
    "sparrow = Sparrow()\n",
    "\n",
    "print(eagle.fly())     # Output: Eagle soars high in the sky\n",
    "print(sparrow.fly())   # Output: Sparrow flaps its wings quickly\n"
   ]
  },
  {
   "cell_type": "markdown",
   "id": "d83c1f06-5f25-4b96-a02f-2441c18ba3e2",
   "metadata": {},
   "source": [
    "### 18. What is the \"diamond problem\" in multiple inheritance, and how does Python address it?"
   ]
  },
  {
   "cell_type": "markdown",
   "id": "6320c58e-20ce-45e9-a10d-87af137fb92b",
   "metadata": {},
   "source": [
    "The diamond problem occurs in multiple inheritance when a class inherits from two classes that both inherit from a single common superclass. This situation forms a diamond-shaped inheritance diagram and raises ambiguity about which path to follow when a method or attribute is called. Specifically, the problem arises when the common superclass's method is called: which implementation should be used if the method is overridden in the intermediate classes?"
   ]
  },
  {
   "cell_type": "markdown",
   "id": "81131b49-dd40-4222-a052-af9c9d68fb9d",
   "metadata": {},
   "source": [
    "How Python Addresses the Diamond Problem\n",
    "Python uses a method resolution order (MRO) to address the diamond problem. The MRO is a linearization of the class hierarchy that Python uses to determine the order in which classes are looked up. Python follows the C3 linearization algorithm (also known as C3 superclass linearization) to compute the MRO."
   ]
  },
  {
   "cell_type": "markdown",
   "id": "3d5c8d09-cf9a-4a1c-8d45-a79e939319fa",
   "metadata": {},
   "source": [
    "### 19. Discuss the concept of \"is-a\" and \"has-a\" relationships in inheritance, and provide examples of each."
   ]
  },
  {
   "cell_type": "markdown",
   "id": "bcc670ab-c044-4981-aade-eb2c71a05da4",
   "metadata": {},
   "source": [
    "In object-oriented programming, especially in the context of inheritance, \"is-a\" and \"has-a\" relationships describe how classes are related to each other:\n",
    "\n",
    "\"Is-a\" Relationship (Inheritance):\n",
    "The \"is-a\" relationship (also known as inheritance or specialization) denotes a relationship where one class is a specialized version of another class. This relationship is typically implemented using inheritance, where a subclass (derived class) inherits attributes and methods from a superclass (base class).\n",
    "\n",
    "\"Has-a\" Relationship (Composition):\n",
    "The \"has-a\" relationship (also known as composition or aggregation) describes a situation where one class contains an instance of another class as a member. This relationship is achieved by creating an instance of the other class within the class that \"has\" it, and using it to perform its functions."
   ]
  },
  {
   "cell_type": "markdown",
   "id": "604a82b4-9e4e-4aab-adc5-dc2b4ba92919",
   "metadata": {},
   "source": [
    "### 20. Create a Python class hierarchy for a university system. Start with a base class `Person` and create child classes `Student` and `Professor`, each with their own attributes and methods. Provide an example of using these classes in a university context."
   ]
  },
  {
   "cell_type": "code",
   "execution_count": 190,
   "id": "660e46dd-cbe7-4c26-9027-f84fb652a90c",
   "metadata": {},
   "outputs": [
    {
     "name": "stdout",
     "output_type": "stream",
     "text": [
      "Alice Smith enrolled in Introduction to Programming\n",
      "Alice Smith enrolled in Data Structures and Algorithms\n",
      "Bob Johnson enrolled in Linear Algebra\n",
      "Bob Johnson enrolled in Calculus\n",
      "Dr. Emily Brown assigned to teach Introduction to Programming\n",
      "Dr. Emily Brown assigned to teach Data Structures and Algorithms\n",
      "Dr. John Davis assigned to teach Linear Algebra\n",
      "Dr. John Davis assigned to teach Calculus\n",
      "Name: Alice Smith, Age: 20, Gender: Female\n",
      "Name: Bob Johnson, Age: 22, Gender: Male\n",
      "Name: Dr. Emily Brown, Age: 35, Gender: Female\n",
      "Name: Dr. John Davis, Age: 40, Gender: Male\n",
      "Courses taken by Alice Smith:\n",
      "Introduction to Programming\n",
      "Data Structures and Algorithms\n",
      "Courses taken by Bob Johnson:\n",
      "Linear Algebra\n",
      "Calculus\n",
      "Courses taught by Dr. Emily Brown:\n",
      "Introduction to Programming\n",
      "Data Structures and Algorithms\n",
      "Courses taught by Dr. John Davis:\n",
      "Linear Algebra\n",
      "Calculus\n"
     ]
    }
   ],
   "source": [
    "class Person:\n",
    "    def __init__(self, name, age, gender):\n",
    "        self.name = name\n",
    "        self.age = age\n",
    "        self.gender = gender\n",
    "\n",
    "    def display_info(self):\n",
    "        return f\"Name: {self.name}, Age: {self.age}, Gender: {self.gender}\"\n",
    "\n",
    "\n",
    "class Student(Person):\n",
    "    def __init__(self, name, age, gender, student_id, major):\n",
    "        super().__init__(name, age, gender)\n",
    "        self.student_id = student_id\n",
    "        self.major = major\n",
    "        self.courses_taken = []\n",
    "\n",
    "    def enroll_course(self, course):\n",
    "        self.courses_taken.append(course)\n",
    "        print(f\"{self.name} enrolled in {course}\")\n",
    "\n",
    "    def display_courses(self):\n",
    "        if self.courses_taken:\n",
    "            print(f\"Courses taken by {self.name}:\")\n",
    "            for course in self.courses_taken:\n",
    "                print(course)\n",
    "        else:\n",
    "            print(f\"{self.name} has not taken any courses yet.\")\n",
    "\n",
    "\n",
    "class Professor(Person):\n",
    "    def __init__(self, name, age, gender, employee_id, department):\n",
    "        super().__init__(name, age, gender)\n",
    "        self.employee_id = employee_id\n",
    "        self.department = department\n",
    "        self.courses_taught = []\n",
    "\n",
    "    def assign_course(self, course):\n",
    "        self.courses_taught.append(course)\n",
    "        print(f\"{self.name} assigned to teach {course}\")\n",
    "\n",
    "    def display_courses_taught(self):\n",
    "        if self.courses_taught:\n",
    "            print(f\"Courses taught by {self.name}:\")\n",
    "            for course in self.courses_taught:\n",
    "                print(course)\n",
    "        else:\n",
    "            print(f\"{self.name} has not taught any courses yet.\")\n",
    "\n",
    "\n",
    "# Example usage:\n",
    "student1 = Student(\"Alice Smith\", 20, \"Female\", \"S12345\", \"Computer Science\")\n",
    "student2 = Student(\"Bob Johnson\", 22, \"Male\", \"S23456\", \"Mathematics\")\n",
    "\n",
    "professor1 = Professor(\"Dr. Emily Brown\", 35, \"Female\", \"P98765\", \"Computer Science\")\n",
    "professor2 = Professor(\"Dr. John Davis\", 40, \"Male\", \"P87654\", \"Mathematics\")\n",
    "\n",
    "# Enroll students in courses\n",
    "student1.enroll_course(\"Introduction to Programming\")\n",
    "student1.enroll_course(\"Data Structures and Algorithms\")\n",
    "student2.enroll_course(\"Linear Algebra\")\n",
    "student2.enroll_course(\"Calculus\")\n",
    "\n",
    "# Assign courses to professors\n",
    "professor1.assign_course(\"Introduction to Programming\")\n",
    "professor1.assign_course(\"Data Structures and Algorithms\")\n",
    "professor2.assign_course(\"Linear Algebra\")\n",
    "professor2.assign_course(\"Calculus\")\n",
    "\n",
    "# Display information\n",
    "print(student1.display_info())\n",
    "print(student2.display_info())\n",
    "print(professor1.display_info())\n",
    "print(professor2.display_info())\n",
    "\n",
    "# Display courses taken by students and taught by professors\n",
    "student1.display_courses()\n",
    "student2.display_courses()\n",
    "professor1.display_courses_taught()\n",
    "professor2.display_courses_taught()\n"
   ]
  },
  {
   "cell_type": "code",
   "execution_count": null,
   "id": "aed501f7-9949-472a-8853-051f9c236333",
   "metadata": {},
   "outputs": [],
   "source": []
  },
  {
   "cell_type": "markdown",
   "id": "7aa96c20-f425-42b1-9a24-efb1a8502988",
   "metadata": {},
   "source": [
    "## Enclapsulation"
   ]
  },
  {
   "cell_type": "markdown",
   "id": "7460706a-9309-41b9-b7a1-0ce473cae280",
   "metadata": {},
   "source": [
    "### 1. Explain the concept of encapsulation in Python. What is its role in object-oriented programming?"
   ]
  },
  {
   "cell_type": "markdown",
   "id": "481d0ca9-297c-492b-8bff-a07922762a56",
   "metadata": {},
   "source": [
    "Concept of Encapsulation:\n",
    "Data Hiding: Encapsulation hides the internal state (attributes) of an object from the outside world. This means that the data is not directly accessible to code outside the class. Instead, access to the data is controlled through methods (getters and setters), which ensures that the data is accessed and modified in a controlled manner.\n",
    "\n",
    "Modularity: Encapsulation allows the internal representation of an object to be independently developed, tested, and changed without affecting other parts of the system. This promotes modularity and simplifies the complexity of the program.\n",
    "\n",
    "Security: By hiding the internal state and requiring access through methods, encapsulation helps in protecting the data from accidental corruption and unauthorized access. Only the methods defined within the class can modify the data, ensuring data integrity."
   ]
  },
  {
   "cell_type": "markdown",
   "id": "a41390f3-425e-4492-b22f-1cc47f440ee1",
   "metadata": {},
   "source": [
    "Role in Object-Oriented Programming:\n",
    "Abstraction: Encapsulation helps in achieving abstraction by exposing only relevant details of an object to the outside world while hiding its implementation details. This allows users to interact with objects using a well-defined interface without needing to understand the complexities of how it works internally.\n",
    "\n",
    "Information Hiding: It enables information hiding by restricting direct access to the object's attributes, preventing unintended modifications. This enhances the reliability and maintainability of the codebase.\n",
    "\n",
    "Code Organization: Encapsulation promotes better code organization by grouping related data (attributes) and behaviors (methods) into coherent units (classes). This improves the readability and understandability of the code."
   ]
  },
  {
   "cell_type": "markdown",
   "id": "8b6062d4-700f-41fd-a1ae-44ac200c88f8",
   "metadata": {},
   "source": [
    "### 2. Describe the key principles of encapsulation, including access control and data hiding."
   ]
  },
  {
   "cell_type": "markdown",
   "id": "ffcb27f9-edb3-43d9-b278-5dae86668c04",
   "metadata": {},
   "source": [
    "Key Principles of Encapsulation in Python:\n",
    "\n",
    "Encapsulation is a fundamental concept in object-oriented programming (OOP) that involves bundling data (attributes) and methods (functions) that operate on the data into a single unit called a class. It helps in achieving data hiding, abstraction, and access control. Here are the key principles of encapsulation, focusing on access control and data hiding:\n",
    "\n",
    "1. Data Hiding:\n",
    "Definition: Data hiding refers to restricting direct access to an object's attributes from outside the class definition.\n",
    "Implementation: In Python, data hiding is typically achieved by prefixing attribute names with double underscores (__). This makes the attribute private to the class, meaning it cannot be accessed or modified directly from outside the class.\n",
    "\n",
    "2. Access Control:\n",
    "Definition: Access control refers to regulating how attributes and methods of a class can be accessed and modified by code outside the class definition.\n",
    "Implementation: Python provides three levels of access control:\n",
    "Public: Attributes and methods are accessible from within the class, from derived classes, and from outside the class.\n",
    "Protected: Attributes and methods are accessible from within the class and from derived classes (using a single underscore _ prefix convention, e.g., _protected_attr).\n",
    "Private: Attributes and methods are accessible only from within the class itself (using a double underscore __ prefix, e.g., __private_attr).\n",
    "\n",
    "\n",
    "3. Encapsulation in Practice:\n",
    "Encapsulation combines data and methods into cohesive units (classes), allowing objects to exhibit behavior and maintain state.\n"
   ]
  },
  {
   "cell_type": "markdown",
   "id": "49a36f37-1b7d-4b3f-8774-802ed008b0bb",
   "metadata": {},
   "source": [
    "### 3. How can you achieve encapsulation in Python classes? Provide an example."
   ]
  },
  {
   "cell_type": "markdown",
   "id": "3c68c0d1-4711-47a8-8b10-0d4d7a3f39b9",
   "metadata": {},
   "source": [
    "Encapsulation in Python can be achieved primarily through access control mechanisms and by using Python's conventions for controlling access to attributes and methods. Here's how you can achieve encapsulation:\n",
    "\n",
    "Using Access Control Mechanisms:\n",
    "Private Attributes:\n",
    "\n",
    "Prefix attribute names with double underscores (__) to make them private. This restricts direct access to these attributes from outside the class.\n",
    "Protected Attributes:\n",
    "\n",
    "Prefix attribute names with a single underscore (_). This convention is more about indicating that the attribute is intended for internal use or for derived classes, though it does not enforce strict access control like private attributes.\n",
    "Public Attributes:\n",
    "\n",
    "Attributes without any underscore prefix are considered public and can be accessed and modified from outside the class freely."
   ]
  },
  {
   "cell_type": "code",
   "execution_count": 204,
   "id": "422431f9-d793-4a59-9daf-d77921140cfe",
   "metadata": {},
   "outputs": [
    {
     "name": "stdout",
     "output_type": "stream",
     "text": [
      "2020\n",
      "Camry\n",
      "Toyota\n",
      "Make: Honda, Model: Camry, Year: 2020\n"
     ]
    }
   ],
   "source": [
    "class Car:\n",
    "    def __init__(self, make, model, year):\n",
    "        self.__make = make       # Private attribute\n",
    "        self._model = model      # Protected attribute\n",
    "        self.year = year         # Public attribute\n",
    "\n",
    "    def display_info(self):\n",
    "        return f\"Make: {self.__make}, Model: {self._model}, Year: {self.year}\"\n",
    "\n",
    "    def update_make(self, new_make):\n",
    "        self.__make = new_make\n",
    "\n",
    "# Creating an object of Car class\n",
    "my_car = Car(\"Toyota\", \"Camry\", 2020)\n",
    "\n",
    "# Accessing public attribute\n",
    "print(my_car.year)   # Output: 2020\n",
    "\n",
    "# Accessing protected attribute (not recommended)\n",
    "print(my_car._model) # Output: Camry\n",
    "\n",
    "# Accessing private attribute (name mangling)\n",
    "# This actually accesses _Car__make due to name mangling\n",
    "print(my_car._Car__make)   # Output: Toyota\n",
    "\n",
    "# Using a method to access and update private attribute\n",
    "my_car.update_make(\"Honda\")\n",
    "print(my_car.display_info())   # Output: Make: Honda, Model: Camry, Year: 2020\n",
    "\n",
    "# Direct access to private attributes is discouraged (not recommended)\n",
    "# print(my_car.__make)  # This would cause an AttributeError\n"
   ]
  },
  {
   "cell_type": "markdown",
   "id": "e72dffe8-f99b-4010-9d22-8efa18e69831",
   "metadata": {},
   "source": [
    "### 4. Discuss the difference between public, private, and protected access modifiers in Python."
   ]
  },
  {
   "cell_type": "markdown",
   "id": "a1d844ae-bd62-4d1a-a64c-5e6d37614d05",
   "metadata": {},
   "source": [
    "Public Access Modifier:\n",
    "Definition: Attributes and methods are accessible from within the class, from derived classes (subclasses), and from outside the class.\n",
    "Syntax: Attributes and methods without any leading underscore (_) are considered public.\n",
    "Usage: Public attributes and methods can be freely accessed and modified from outside the class.\n",
    "\n",
    "Private Access Modifier:\n",
    "Definition: Attributes and methods are accessible only from within the class itself. Python implements this by name mangling, where attributes with double underscores (__) prefix are altered to include the class name, making them harder to access from outside.\n",
    "Syntax: Attributes and methods with double underscores (__) prefix.\n",
    "Usage: Private attributes and methods cannot be accessed or modified directly from outside the class. Accessing them requires using name mangling (_ClassName__private_attr) or through getter and setter methods.\n",
    "\n",
    "Protected Access Modifier:\n",
    "Definition: Attributes and methods are intended for internal use within the class and its subclasses (derived classes). Python does not enforce strict access control for protected members, but a single underscore (_) conventionally indicates that they are for internal use only.\n",
    "Syntax: Attributes and methods with a single underscore (_) prefix.\n",
    "Usage: Protected attributes and methods can be accessed from within the class and its subclasses. They are not intended for direct access from outside the class, but Python does not enforce this."
   ]
  },
  {
   "cell_type": "markdown",
   "id": "45f77280-1556-45be-a5c8-a4e9b0d3e841",
   "metadata": {},
   "source": [
    "### 5. Create a Python class called Person with a private attribute __name. Provide methods to get and set the name attribute."
   ]
  },
  {
   "cell_type": "code",
   "execution_count": 213,
   "id": "bb051773-9218-432a-9cb0-0de8e8cc915f",
   "metadata": {},
   "outputs": [
    {
     "name": "stdout",
     "output_type": "stream",
     "text": [
      "Alice\n",
      "Bob\n"
     ]
    }
   ],
   "source": [
    "class Person:\n",
    "    def __init__(self, name):\n",
    "        self.__name = name   # Private attribute\n",
    "\n",
    "    def get_name(self):\n",
    "        return self.__name\n",
    "\n",
    "    def set_name(self, new_name):\n",
    "        self.__name = new_name\n",
    "\n",
    "# Example usage:\n",
    "person = Person(\"Alice\")\n",
    "print(person.get_name())    # Output: Alice\n",
    "\n",
    "person.set_name(\"Bob\")\n",
    "print(person.get_name())    # Output: Bob\n"
   ]
  },
  {
   "cell_type": "markdown",
   "id": "f695def2-b152-48cd-b293-a0e7bf3f707f",
   "metadata": {},
   "source": [
    "### 6. Explain the purpose of getter and setter methods in encapsulation. Provide examples."
   ]
  },
  {
   "cell_type": "markdown",
   "id": "a4a439db-dda0-47b1-83fb-9aa7479b4032",
   "metadata": {},
   "source": [
    "Purpose of Getter and Setter Methods:\n",
    "Encapsulation: Getter and setter methods encapsulate the internal state of an object, allowing controlled access to attributes while hiding their implementation details.\n",
    "\n",
    "Data Validation: They enable validation checks before setting attribute values, ensuring data integrity and preventing invalid or inconsistent states.\n",
    "\n",
    "Flexibility: Getter and setter methods provide flexibility to add additional logic or behaviors (like logging, calculations, etc.) when accessing or modifying attributes.\n",
    "\n",
    "Security: They help in enforcing access control by allowing attributes to be made private (__attribute) and accessed only through getter and setter methods."
   ]
  },
  {
   "cell_type": "code",
   "execution_count": 217,
   "id": "c1803b36-7fba-4478-b085-9fd0193f56ff",
   "metadata": {},
   "outputs": [
    {
     "name": "stdout",
     "output_type": "stream",
     "text": [
      "Alice\n",
      "Bob\n",
      "30\n",
      "25\n"
     ]
    }
   ],
   "source": [
    "class Person:\n",
    "    def __init__(self, name, age):\n",
    "        self.__name = name   # Private attribute\n",
    "        self.__age = age     # Private attribute\n",
    "\n",
    "    # Getter method for name\n",
    "    def get_name(self):\n",
    "        return self.__name\n",
    "\n",
    "    # Setter method for name\n",
    "    def set_name(self, new_name):\n",
    "        if isinstance(new_name, str):\n",
    "            self.__name = new_name\n",
    "        else:\n",
    "            raise TypeError(\"Name must be a string.\")\n",
    "\n",
    "    # Getter method for age\n",
    "    def get_age(self):\n",
    "        return self.__age\n",
    "\n",
    "    # Setter method for age\n",
    "    def set_age(self, new_age):\n",
    "        if isinstance(new_age, int) and new_age >= 0:\n",
    "            self.__age = new_age\n",
    "        else:\n",
    "            raise ValueError(\"Age must be a non-negative integer.\")\n",
    "\n",
    "person = Person(\"Alice\", 30)\n",
    "\n",
    "# Using getter method to retrieve name\n",
    "print(person.get_name())    # Output: Alice\n",
    "\n",
    "# Using setter method to update name\n",
    "person.set_name(\"Bob\")\n",
    "print(person.get_name())    # Output: Bob\n",
    "\n",
    "# Using getter method to retrieve age\n",
    "print(person.get_age())     # Output: 30\n",
    "\n",
    "# Using setter method to update age\n",
    "person.set_age(25)\n",
    "print(person.get_age())     # Output: 25\n",
    "\n",
    "# Error handling for invalid age\n",
    "# person.set_age(\"30\")      # Raises TypeError\n",
    "# person.set_age(-5)        # Raises ValueError\n"
   ]
  },
  {
   "cell_type": "markdown",
   "id": "eb3de294-9f83-42c9-8a24-427bd0a5ea71",
   "metadata": {},
   "source": [
    "### 7. What is name mangling in Python, and how does it affect encapsulation?"
   ]
  },
  {
   "cell_type": "markdown",
   "id": "7cf46640-7c65-488a-9cf3-33c84011b6ba",
   "metadata": {},
   "source": [
    "Name Mangling in Python:\n",
    "Purpose: Name mangling is primarily used to avoid accidental access and modification of class members (attributes and methods) marked as private (__attribute).\n",
    "\n",
    "Syntax: In Python, any identifier of the form __attribute (at least two leading underscores, but not more than one trailing underscore) is textually replaced with _ClassName__attribute, where ClassName is the current class name."
   ]
  },
  {
   "cell_type": "markdown",
   "id": "8c7a2f73-98f7-4659-b921-ec5bf3306525",
   "metadata": {},
   "source": [
    "Impact on Encapsulation:\n",
    "Visibility Control: Name mangling enforces stricter encapsulation by making it harder to access private members directly from outside the class.\n",
    "\n",
    "Name Conflicts: It reduces the risk of unintentional name conflicts by effectively creating a unique name for each private member within the class hierarchy.\n",
    "\n",
    "Access Control: Encapsulation is enhanced because private members are only accessible indirectly using the mangled names (_ClassName__attribute), discouraging external code from depending on the internal implementation details of a class."
   ]
  },
  {
   "cell_type": "markdown",
   "id": "3a25ed33-0bb3-42e0-b9c7-6e1856dd0fea",
   "metadata": {},
   "source": [
    "### 8. Create a Python class called `BankAccount` with private attributes for the account balance (`__balance`) and account number (`__account_number`). Provide methods  for depositing and withdrawing money."
   ]
  },
  {
   "cell_type": "code",
   "execution_count": 223,
   "id": "90534e8c-165d-43a2-a900-468ac3dcf96a",
   "metadata": {},
   "outputs": [
    {
     "name": "stdout",
     "output_type": "stream",
     "text": [
      "Account Number: 1234567890\n",
      "Current Balance: $1000\n",
      "Deposit of $500 successful. New balance is $1500.\n",
      "Withdrawal of $200 successful. New balance is $1300.\n",
      "Insufficient funds or invalid amount for withdrawal.\n"
     ]
    }
   ],
   "source": [
    "class BankAccount:\n",
    "    def __init__(self, account_number, initial_balance=0):\n",
    "        self.__account_number = account_number\n",
    "        self.__balance = initial_balance\n",
    "\n",
    "    def deposit(self, amount):\n",
    "        if amount > 0:\n",
    "            self.__balance += amount\n",
    "            print(f\"Deposit of ${amount} successful. New balance is ${self.__balance}.\")\n",
    "        else:\n",
    "            print(\"Deposit amount must be greater than zero.\")\n",
    "\n",
    "    def withdraw(self, amount):\n",
    "        if 0 < amount <= self.__balance:\n",
    "            self.__balance -= amount\n",
    "            print(f\"Withdrawal of ${amount} successful. New balance is ${self.__balance}.\")\n",
    "        else:\n",
    "            print(\"Insufficient funds or invalid amount for withdrawal.\")\n",
    "\n",
    "    def get_balance(self):\n",
    "        return self.__balance\n",
    "\n",
    "    def get_account_number(self):\n",
    "        return self.__account_number\n",
    "\n",
    "# Example usage:\n",
    "account = BankAccount(\"1234567890\", 1000)\n",
    "\n",
    "print(f\"Account Number: {account.get_account_number()}\")\n",
    "print(f\"Current Balance: ${account.get_balance()}\")\n",
    "\n",
    "account.deposit(500)\n",
    "account.withdraw(200)\n",
    "account.withdraw(1500)  # This should print \"Insufficient funds or invalid amount for withdrawal.\""
   ]
  },
  {
   "cell_type": "markdown",
   "id": "d057fde8-09fc-45dd-90e8-d6becdaa2668",
   "metadata": {},
   "source": [
    "### 9. Discuss the advantages of encapsulation in terms of code maintainability and security."
   ]
  },
  {
   "cell_type": "markdown",
   "id": "5cc4ec27-329b-4cb1-afa2-933bbe98149b",
   "metadata": {},
   "source": [
    "Advantages of Encapsulation\n",
    "1. Improved Code Maintainability\n",
    "Modularity: Encapsulation allows for the creation of self-contained classes, each responsible for specific functionality. This modularity makes it easier to understand, maintain, and manage large codebases.\n",
    "Ease of Modification: Changes to the internal implementation of a class can be made without affecting the code that uses the class. This separation of concerns allows developers to update or improve the internal workings of a class without risking breaking dependent code.\n",
    "Clear Interfaces: By exposing only necessary methods and hiding internal details, encapsulation provides clear and well-defined interfaces. This makes it easier for other developers to use the class correctly and understand its purpose.\n",
    "\n",
    "3. Enhanced Security\n",
    "Data Hiding: Encapsulation hides the internal state of an object from the outside world. Private attributes and methods ensure that the internal state cannot be accessed or modified directly. This prevents accidental or malicious interference with the internal workings of an object.\n",
    "Controlled Access: Through the use of getter and setter methods, encapsulation provides controlled access to an object’s attributes. This allows for validation and verification of data before it is accepted or changed, ensuring that the object remains in a valid state.\n",
    "Protection of Invariants: Encapsulation helps maintain the integrity of an object by protecting its invariants. Invariants are conditions that must always be true for an object. Encapsulation ensures that these conditions are upheld by controlling how the state of the object can be changed."
   ]
  },
  {
   "cell_type": "markdown",
   "id": "d7dbef0e-0948-4dbf-917a-a05f993fe7ea",
   "metadata": {},
   "source": [
    "### 10. How can you access private attributes in Python? Provide an example demonstrating the use of name mangling."
   ]
  },
  {
   "cell_type": "markdown",
   "id": "6425b4f5-4607-4d85-a457-e0d006c2aa4f",
   "metadata": {},
   "source": [
    "In Python, private attributes are denoted by a double underscore prefix (__). This triggers name mangling, a mechanism that changes the attribute's name to include the class name, making it harder to access directly from outside the class. However, it is still possible to access these attributes using the mangled name."
   ]
  },
  {
   "cell_type": "code",
   "execution_count": 233,
   "id": "b4fa56b9-653e-4120-8122-428fe7444f2e",
   "metadata": {},
   "outputs": [
    {
     "name": "stdout",
     "output_type": "stream",
     "text": [
      "1000\n",
      "1234567890\n",
      "1000\n",
      "1234567890\n",
      "2000\n"
     ]
    }
   ],
   "source": [
    "class BankAccount:\n",
    "    def __init__(self, account_number, initial_balance=0):\n",
    "        self.__account_number = account_number\n",
    "        self.__balance = initial_balance\n",
    "\n",
    "    def deposit(self, amount):\n",
    "        if amount > 0:\n",
    "            self.__balance += amount\n",
    "        else:\n",
    "            raise ValueError(\"Deposit amount must be positive\")\n",
    "\n",
    "    def withdraw(self, amount):\n",
    "        if 0 < amount <= self.__balance:\n",
    "            self.__balance -= amount\n",
    "        else:\n",
    "            raise ValueError(\"Invalid withdrawal amount\")\n",
    "\n",
    "    def get_balance(self):\n",
    "        return self.__balance\n",
    "\n",
    "    def get_account_number(self):\n",
    "        return self.__account_number\n",
    "\n",
    "account = BankAccount(\"1234567890\", 1000)\n",
    "\n",
    "print(account._BankAccount__balance)         # Output: 1000\n",
    "print(account._BankAccount__account_number)  # Output: 1234567890\n",
    "\n",
    "print(account.get_balance())                 # Output: 1000\n",
    "print(account.get_account_number())          # Output: 1234567890\n",
    "\n",
    "account._BankAccount__balance = 2000\n",
    "print(account.get_balance())                 # Output: 2000\n"
   ]
  },
  {
   "cell_type": "markdown",
   "id": "9e0d821f-b6c7-445b-8edf-80eece8ade40",
   "metadata": {},
   "source": [
    "### 11. Create a Python class hierarchy for a school system, including classes for students, teachers, and courses, and implement encapsulation principles to protect sensitive information."
   ]
  },
  {
   "cell_type": "code",
   "execution_count": 235,
   "id": "8b501c49-5e67-4a28-8c76-a14c5cc6069a",
   "metadata": {},
   "outputs": [
    {
     "name": "stdout",
     "output_type": "stream",
     "text": [
      "Student: Alice Johnson, ID: S12345\n",
      "Enrolled courses: ['Mathematics']\n",
      "Teacher: Dr. Emily Brown, Employee ID: T98765\n",
      "Courses taught: ['Mathematics', 'Physics']\n",
      "Course: Mathematics, Code: MATH101\n",
      "Enrolled students: ['Alice Johnson']\n"
     ]
    }
   ],
   "source": [
    "class Person:\n",
    "    def __init__(self, name, age):\n",
    "        self.__name = name\n",
    "        self.__age = age\n",
    "\n",
    "    def get_name(self):\n",
    "        return self.__name\n",
    "\n",
    "    def get_age(self):\n",
    "        return self.__age\n",
    "\n",
    "    def set_name(self, name):\n",
    "        self.__name = name\n",
    "\n",
    "    def set_age(self, age):\n",
    "        if age > 0:\n",
    "            self.__age = age\n",
    "        else:\n",
    "            raise ValueError(\"Age must be positive\")\n",
    "\n",
    "\n",
    "class Student(Person):\n",
    "    def __init__(self, name, age, student_id):\n",
    "        super().__init__(name, age)\n",
    "        self.__student_id = student_id\n",
    "        self.__courses = []\n",
    "\n",
    "    def get_student_id(self):\n",
    "        return self.__student_id\n",
    "\n",
    "    def enroll(self, course):\n",
    "        self.__courses.append(course)\n",
    "\n",
    "    def get_courses(self):\n",
    "        return self.__courses\n",
    "\n",
    "\n",
    "class Teacher(Person):\n",
    "    def __init__(self, name, age, employee_id):\n",
    "        super().__init__(name, age)\n",
    "        self.__employee_id = employee_id\n",
    "        self.__courses_taught = []\n",
    "\n",
    "    def get_employee_id(self):\n",
    "        return self.__employee_id\n",
    "\n",
    "    def assign_course(self, course):\n",
    "        self.__courses_taught.append(course)\n",
    "\n",
    "    def get_courses_taught(self):\n",
    "        return self.__courses_taught\n",
    "\n",
    "\n",
    "class Course:\n",
    "    def __init__(self, course_name, course_code):\n",
    "        self.__course_name = course_name\n",
    "        self.__course_code = course_code\n",
    "        self.__students = []\n",
    "\n",
    "    def get_course_name(self):\n",
    "        return self.__course_name\n",
    "\n",
    "    def get_course_code(self):\n",
    "        return self.__course_code\n",
    "\n",
    "    def add_student(self, student):\n",
    "        self.__students.append(student)\n",
    "\n",
    "    def get_students(self):\n",
    "        return self.__students\n",
    "\n",
    "\n",
    "student1 = Student(\"Alice Johnson\", 20, \"S12345\")\n",
    "student2 = Student(\"Bob Smith\", 22, \"S54321\")\n",
    "\n",
    "# Create a teacher\n",
    "teacher = Teacher(\"Dr. Emily Brown\", 45, \"T98765\")\n",
    "\n",
    "# Create courses\n",
    "course1 = Course(\"Mathematics\", \"MATH101\")\n",
    "course2 = Course(\"Physics\", \"PHYS101\")\n",
    "\n",
    "# Enroll students in courses\n",
    "student1.enroll(course1)\n",
    "student2.enroll(course2)\n",
    "course1.add_student(student1)\n",
    "course2.add_student(student2)\n",
    "\n",
    "# Assign courses to the teacher\n",
    "teacher.assign_course(course1)\n",
    "teacher.assign_course(course2)\n",
    "\n",
    "# Display information\n",
    "print(f\"Student: {student1.get_name()}, ID: {student1.get_student_id()}\")\n",
    "print(f\"Enrolled courses: {[course.get_course_name() for course in student1.get_courses()]}\")\n",
    "\n",
    "print(f\"Teacher: {teacher.get_name()}, Employee ID: {teacher.get_employee_id()}\")\n",
    "print(f\"Courses taught: {[course.get_course_name() for course in teacher.get_courses_taught()]}\")\n",
    "\n",
    "print(f\"Course: {course1.get_course_name()}, Code: {course1.get_course_code()}\")\n",
    "print(f\"Enrolled students: {[student.get_name() for student in course1.get_students()]}\")\n"
   ]
  },
  {
   "cell_type": "markdown",
   "id": "ff6ef324-308a-4ff9-a129-e5473b15a376",
   "metadata": {},
   "source": [
    "### 12. Explain the concept of property decorators in Python and how they relate to encapsulation."
   ]
  },
  {
   "cell_type": "markdown",
   "id": "8b44f516-1eef-436b-a7f5-1141c6abbab5",
   "metadata": {},
   "source": [
    "property decorators in Python provide a way to manage the access and modification of class attributes in a more controlled and elegant manner, aligning with the principles of encapsulation. They allow you to define methods in a class that are accessed like attributes but with additional logic for getting, setting, and deleting values."
   ]
  },
  {
   "cell_type": "code",
   "execution_count": 241,
   "id": "2e6ccf0e-8612-426f-949c-b1429f4c4a98",
   "metadata": {},
   "outputs": [
    {
     "name": "stdout",
     "output_type": "stream",
     "text": [
      "1000\n",
      "1500\n",
      "Balance cannot be negative\n"
     ]
    }
   ],
   "source": [
    "class BankAccount:\n",
    "    def __init__(self, account_number, initial_balance=0):\n",
    "        self.__account_number = account_number\n",
    "        self.__balance = initial_balance\n",
    "\n",
    "    @property\n",
    "    def balance(self):\n",
    "        return self.__balance\n",
    "\n",
    "    @balance.setter\n",
    "    def balance(self, amount):\n",
    "        if amount >= 0:\n",
    "            self.__balance = amount\n",
    "        else:\n",
    "            raise ValueError(\"Balance cannot be negative\")\n",
    "\n",
    "    @property\n",
    "    def account_number(self):\n",
    "        return self.__account_number\n",
    "\n",
    "    @account_number.setter\n",
    "    def account_number(self, account_number):\n",
    "        if isinstance(account_number, str) and account_number:\n",
    "            self.__account_number = account_number\n",
    "        else:\n",
    "            raise ValueError(\"Account number must be a non-empty string\")\n",
    "\n",
    "account = BankAccount(\"1234567890\", 1000)\n",
    "print(account.balance)  # Access the balance property\n",
    "account.balance = 1500  # Set the balance property\n",
    "print(account.balance)  # Output: 1500\n",
    "\n",
    "try:\n",
    "    account.balance = -200  # Raises ValueError: Balance cannot be negative\n",
    "except ValueError as e:\n",
    "    print(e)\n"
   ]
  },
  {
   "cell_type": "markdown",
   "id": "946dccfe-0a5b-4e09-b002-0ae3bbb9412b",
   "metadata": {},
   "source": [
    "### 13. What is data hiding, and why is it important in encapsulation? Provide examples."
   ]
  },
  {
   "cell_type": "markdown",
   "id": "2dc98475-78a2-4683-b751-d1e30581f284",
   "metadata": {},
   "source": [
    "Data hiding is a fundamental concept in encapsulation where certain details of a class implementation are hidden from the outside world to protect the integrity of the data and prevent unauthorized or unintended access. It restricts direct access to some of an object's attributes and methods, thereby ensuring controlled interaction with the object's data.\n",
    "\n",
    "\n",
    "Importance of Data Hiding in Encapsulation\n",
    "Protection of Data Integrity: By hiding the internal representation of an object, data hiding prevents external entities from directly modifying critical attributes, reducing the risk of errors and maintaining the object's integrity.\n",
    "Encapsulation: Data hiding is a core aspect of encapsulation, which promotes a clear separation between an object's interface (what it does) and its implementation (how it does it). This separation allows the internal implementation to change without affecting external code that uses the object.\n",
    "Security: Sensitive information can be protected from being accessed or modified inappropriately.\n",
    "Maintainability: By exposing only necessary interfaces, data hiding makes it easier to maintain and update code, as the internal details can be changed without affecting other parts of the program."
   ]
  },
  {
   "cell_type": "code",
   "execution_count": 246,
   "id": "cacfadf1-9cea-4bcf-a1be-35a46f9b642a",
   "metadata": {},
   "outputs": [
    {
     "name": "stdout",
     "output_type": "stream",
     "text": [
      "1000\n",
      "1500\n",
      "'BankAccount' object has no attribute '__balance'\n"
     ]
    }
   ],
   "source": [
    "class BankAccount:\n",
    "    def __init__(self, account_number, initial_balance=0):\n",
    "        self.__account_number = account_number\n",
    "        self.__balance = initial_balance\n",
    "\n",
    "    def deposit(self, amount):\n",
    "        if amount > 0:\n",
    "            self.__balance += amount\n",
    "        else:\n",
    "            raise ValueError(\"Deposit amount must be positive\")\n",
    "\n",
    "    def withdraw(self, amount):\n",
    "        if 0 < amount <= self.__balance:\n",
    "            self.__balance -= amount\n",
    "        else:\n",
    "            raise ValueError(\"Invalid withdrawal amount\")\n",
    "\n",
    "    def get_balance(self):\n",
    "        return self.__balance\n",
    "\n",
    "    def get_account_number(self):\n",
    "        return self.__account_number\n",
    "\n",
    "account = BankAccount(\"1234567890\", 1000)\n",
    "print(account.get_balance())  # Access the balance through a method\n",
    "account.deposit(500)\n",
    "print(account.get_balance())  # Output: 1500\n",
    "\n",
    "try:\n",
    "    print(account.__balance)  # Attempt to access private attribute directly (will raise an AttributeError)\n",
    "except AttributeError as e:\n",
    "    print(e)\n"
   ]
  },
  {
   "cell_type": "markdown",
   "id": "d007e088-3bdf-43f6-8350-260b043dc1ce",
   "metadata": {},
   "source": [
    "### 14. Create a Python class called `Employee` with private attributes for salary (`__salary`) and employee ID (`__employee_id`). Provide a method to calculate yearly bonuses."
   ]
  },
  {
   "cell_type": "code",
   "execution_count": 249,
   "id": "5671ef88-58fb-4fe5-9df0-de7a8453f7f1",
   "metadata": {},
   "outputs": [
    {
     "name": "stdout",
     "output_type": "stream",
     "text": [
      "Employee ID: E12345, Salary: $50000\n",
      "Yearly Bonus: $5000.0\n",
      "Salary must be non-negative\n"
     ]
    }
   ],
   "source": [
    "class Employee:\n",
    "    def __init__(self, employee_id, salary):\n",
    "        self.__employee_id = employee_id\n",
    "        self.__salary = salary\n",
    "\n",
    "    @property\n",
    "    def employee_id(self):\n",
    "        return self.__employee_id\n",
    "\n",
    "    @employee_id.setter\n",
    "    def employee_id(self, employee_id):\n",
    "        if isinstance(employee_id, str) and employee_id:\n",
    "            self.__employee_id = employee_id\n",
    "        else:\n",
    "            raise ValueError(\"Employee ID must be a non-empty string\")\n",
    "\n",
    "    @property\n",
    "    def salary(self):\n",
    "        return self.__salary\n",
    "\n",
    "    @salary.setter\n",
    "    def salary(self, salary):\n",
    "        if salary >= 0:\n",
    "            self.__salary = salary\n",
    "        else:\n",
    "            raise ValueError(\"Salary must be non-negative\")\n",
    "\n",
    "    def calculate_yearly_bonus(self, bonus_percentage):\n",
    "        if 0 <= bonus_percentage <= 100:\n",
    "            return self.__salary * (bonus_percentage / 100)\n",
    "        else:\n",
    "            raise ValueError(\"Bonus percentage must be between 0 and 100\")\n",
    "\n",
    "    def display_employee_details(self):\n",
    "        return f\"Employee ID: {self.__employee_id}, Salary: ${self.__salary}\"\n",
    "\n",
    "employee = Employee(\"E12345\", 50000)\n",
    "print(employee.display_employee_details())  # Output: Employee ID: E12345, Salary: $50000\n",
    "\n",
    "yearly_bonus = employee.calculate_yearly_bonus(10)\n",
    "print(f\"Yearly Bonus: ${yearly_bonus}\")  # Output: Yearly Bonus: $5000.0\n",
    "\n",
    "try:\n",
    "    employee.salary = -30000  # Raises ValueError: Salary must be non-negative\n",
    "except ValueError as e:\n",
    "    print(e)\n"
   ]
  },
  {
   "cell_type": "markdown",
   "id": "ff7604f9-204d-44f6-8950-99dd2d6b2838",
   "metadata": {},
   "source": [
    "### 15. Discuss the use of accessors and mutators in encapsulation. How do they help maintain control over attribute access?"
   ]
  },
  {
   "cell_type": "markdown",
   "id": "4ddd0200-e8e6-4509-802e-4b066e3379e9",
   "metadata": {},
   "source": [
    "Use of Accessors and Mutators in Encapsulation\n",
    "\n",
    "\n",
    "Accessors (Getters)\n",
    "Accessors are methods that retrieve the value of an attribute. They allow read-only access to private or protected attributes, enabling external entities to read the attribute's value without directly accessing it.\n",
    "\n",
    "Mutators (Setters)\n",
    "Mutators are methods that set or modify the value of an attribute. They allow controlled write access to private or protected attributes, enabling external entities to change the attribute's value with validation and restrictions."
   ]
  },
  {
   "cell_type": "markdown",
   "id": "08a84532-8b64-47a8-b7e8-632fb6880f88",
   "metadata": {},
   "source": [
    "Benefits of Accessors and Mutators\n",
    "\n",
    "Data Integrity: Accessors and mutators can include validation logic to ensure that only valid data is assigned to attributes, protecting the object's state.\n",
    "\n",
    "Encapsulation: By using accessors and mutators, the internal representation of attributes is hidden from external entities. This abstraction allows changes to the internal implementation without affecting external code.\n",
    "\n",
    "Controlled Access: Accessors and mutators provide a controlled interface for interacting with attributes, allowing read-only, write-only, or read-write access as needed.\n",
    "\n",
    "Maintainability: With accessors and mutators, the attribute access logic is centralize\n",
    "d, making the code easier to maintain and update."
   ]
  },
  {
   "cell_type": "markdown",
   "id": "838c23ed-072b-4590-8280-d696fcf2d1e1",
   "metadata": {},
   "source": [
    "### 16. What are the potential drawbacks or disadvantages of using encapsulation in Python?"
   ]
  },
  {
   "cell_type": "markdown",
   "id": "d3f79c86-f09f-42a3-890d-a6cf12896575",
   "metadata": {},
   "source": [
    "While encapsulation is a powerful concept in object-oriented programming, it also comes with certain drawbacks or disadvantages. Here are some potential drawbacks of using encapsulation in Python:\n",
    "\n",
    "Increased Complexity:\n",
    "\n",
    "Overhead in Writing Accessors and Mutators: Introducing getters and setters for every attribute increases the amount of code that needs to be written, which can make the codebase more complex and harder to read.\n",
    "Boilerplate Code: Repeated patterns of accessors and mutators can lead to boilerplate code, which might obscure the core logic of the class.\n",
    "Performance Overhead:\n",
    "\n",
    "Indirect Access: Encapsulation adds a layer of indirection for accessing attributes, which might introduce slight performance overhead compared to direct access, though this is typically negligible in most applications.\n",
    "Limited Flexibility:\n",
    "\n",
    "Restrictions on Attribute Access: Strict encapsulation can sometimes make it difficult to access or modify attributes in cases where direct access might be more convenient or necessary for certain operations, like debugging or testing.\n",
    "Complexity in Debugging:\n",
    "\n",
    "Hidden State: Encapsulation hides the internal state of objects, which can make debugging more challenging because the actual values of private attributes are not directly visible.\n",
    "Inter-Class Dependencies:\n",
    "\n",
    "Tightly Coupled Access Methods: If accessors and mutators are heavily used, changes in one class might require updates in all dependent classes, potentially leading to a tightly coupled codebase.\n",
    "Potential Misuse:\n",
    "\n",
    "Over-Encapsulation: Encapsulation can be overused, leading to unnecessary abstraction. Not every attribute needs to be private, and not every attribute needs both a getter and a setter. Over-encapsulation can make the code overly complicated without adding significant benefits."
   ]
  },
  {
   "cell_type": "markdown",
   "id": "0d68f251-e7f3-4615-88df-ee113f08882c",
   "metadata": {},
   "source": [
    "### 17. Create a Python class for a library system that encapsulates book information, including titles, authors, and availability status."
   ]
  },
  {
   "cell_type": "code",
   "execution_count": 259,
   "id": "11fd66b1-40ad-4bf5-8314-ab18123b757a",
   "metadata": {},
   "outputs": [
    {
     "name": "stdout",
     "output_type": "stream",
     "text": [
      "Title: 1984, Author: George Orwell, Status: Available\n",
      "Title: To Kill a Mockingbird, Author: Harper Lee, Status: Available\n",
      "You have borrowed '1984'\n",
      "'1984' is not available for borrowing\n",
      "Title: 1984, Author: George Orwell, Status: Not Available\n",
      "Title: To Kill a Mockingbird, Author: Harper Lee, Status: Available\n",
      "You have returned '1984'\n",
      "Title: 1984, Author: George Orwell, Status: Available\n",
      "Title: To Kill a Mockingbird, Author: Harper Lee, Status: Available\n"
     ]
    }
   ],
   "source": [
    "class Book:\n",
    "    def __init__(self, title, author):\n",
    "        self.__title = title\n",
    "        self.__author = author\n",
    "        self.__is_available = True\n",
    "\n",
    "    @property\n",
    "    def title(self):\n",
    "        return self.__title\n",
    "\n",
    "    @property\n",
    "    def author(self):\n",
    "        return self.__author\n",
    "\n",
    "    @property\n",
    "    def is_available(self):\n",
    "        return self.__is_available\n",
    "\n",
    "    @is_available.setter\n",
    "    def is_available(self, status):\n",
    "        if isinstance(status, bool):\n",
    "            self.__is_available = status\n",
    "        else:\n",
    "            raise ValueError(\"Availability status must be a boolean\")\n",
    "\n",
    "    def display_details(self):\n",
    "        availability = \"Available\" if self.__is_available else \"Not Available\"\n",
    "        return f\"Title: {self.__title}, Author: {self.__author}, Status: {availability}\"\n",
    "\n",
    "class Library:\n",
    "    def __init__(self):\n",
    "        self.__books = []\n",
    "\n",
    "    def add_book(self, book):\n",
    "        self.__books.append(book)\n",
    "\n",
    "    def list_books(self):\n",
    "        for book in self.__books:\n",
    "            print(book.display_details())\n",
    "\n",
    "    def borrow_book(self, title):\n",
    "        for book in self.__books:\n",
    "            if book.title == title and book.is_available:\n",
    "                book.is_available = False\n",
    "                return f\"You have borrowed '{title}'\"\n",
    "        return f\"'{title}' is not available for borrowing\"\n",
    "\n",
    "    def return_book(self, title):\n",
    "        for book in self.__books:\n",
    "            if book.title == title and not book.is_available:\n",
    "                book.is_available = True\n",
    "                return f\"You have returned '{title}'\"\n",
    "        return f\"'{title}' is not currently borrowed\"\n",
    "\n",
    "library = Library()\n",
    "book1 = Book(\"1984\", \"George Orwell\")\n",
    "book2 = Book(\"To Kill a Mockingbird\", \"Harper Lee\")\n",
    "\n",
    "library.add_book(book1)\n",
    "library.add_book(book2)\n",
    "\n",
    "library.list_books()\n",
    "\n",
    "print(library.borrow_book(\"1984\"))\n",
    "print(library.borrow_book(\"1984\"))\n",
    "\n",
    "library.list_books()\n",
    "\n",
    "print(library.return_book(\"1984\"))\n",
    "library.list_books()\n"
   ]
  },
  {
   "cell_type": "markdown",
   "id": "309e2d81-aa81-44a1-8866-89fe085328f0",
   "metadata": {},
   "source": [
    "### 18. Explain how encapsulation enhances code reusability and modularity in Python programs."
   ]
  },
  {
   "cell_type": "markdown",
   "id": "7eef64cd-7ffc-4e8d-b646-79bce4775f6f",
   "metadata": {},
   "source": [
    "1. Data Hiding and Protection\n",
    "Encapsulation ensures that an object's internal state is hidden from the outside world and can only be accessed or modified through well-defined interfaces (methods). This protects the integrity of the object's state and prevents unintended interference.\n",
    "Modularity: By hiding the internal details, encapsulation allows developers to change the internal implementation of a class without affecting other parts of the code that rely on it. This modular design makes it easier to understand, maintain, and modify individual components.\n",
    "\n",
    "2. Controlled Access\n",
    "Encapsulation allows controlled access to an object's attributes through getter and setter methods. This control enables validation, logging, and other processing to be performed whenever an attribute is accessed or modified.\n",
    "Reusability: Classes can be reused in different contexts without exposing sensitive internal details, making them more robust and adaptable to different use cases.\n",
    "\n",
    "3. Improved Maintainability\n",
    "Encapsulation groups related data and methods that operate on that data within a single class, creating a clear structure and reducing dependencies between different parts of the program.\n",
    "Modularity: A modular design means that individual classes can be tested, debugged, and maintained independently, leading to better-organized code and easier troubleshooting."
   ]
  },
  {
   "cell_type": "markdown",
   "id": "b4dd8b23-95cc-46df-8753-94e9e322884f",
   "metadata": {},
   "source": [
    "### 19. Describe the concept of information hiding in encapsulation. Why is it essential in software development?"
   ]
  },
  {
   "cell_type": "markdown",
   "id": "f425deff-57cb-4304-b5f1-2555bdc6e52a",
   "metadata": {},
   "source": [
    "Key Aspects of Information Hiding\n",
    "Access Control:\n",
    "\n",
    "Use of access modifiers (e.g., private, protected, public) to control access to an object's data and methods.\n",
    "In Python, access control is typically implemented using naming conventions like single underscore _ (protected) and double underscore __ (private).\n",
    "Encapsulation:\n",
    "\n",
    "Grouping data (attributes) and the methods that operate on that data within a single unit (class), and restricting access to some of the object's components.\n",
    "Providing public methods to access and modify private data, allowing controlled interaction with the object's state."
   ]
  },
  {
   "cell_type": "markdown",
   "id": "e7bf0743-8c68-4341-a2f8-c70433f9b4eb",
   "metadata": {},
   "source": [
    "Benefits of Information Hiding\n",
    "Improved Security:\n",
    "\n",
    "By hiding the internal state and implementation details, information hiding prevents unauthorized access and modification of data, protecting the integrity of the object.\n",
    "Reduced Complexity:\n",
    "\n",
    "By exposing only the necessary parts of an object, information hiding simplifies the interface and reduces the cognitive load on developers who interact with the class, making the code easier to understand and use.\n",
    "Enhanced Maintainability:\n",
    "\n",
    "Changes to the internal implementation of a class can be made without affecting other parts of the program that rely on the class, provided the interface remains consistent. This makes it easier to update and maintain the code.\n",
    "Modularity:\n",
    "\n",
    "By isolating the internal details of each class, information hiding promotes modular design, where components can be developed, tested, and debugged independently.\n",
    "Reusability:\n",
    "\n",
    "Encapsulated classes with clear interfaces can be reused in different parts of an application or in different projects without exposing their internal details, making them more robust and adaptable."
   ]
  },
  {
   "cell_type": "markdown",
   "id": "1fa74ace-6252-4c84-a24d-8ae9f96cb6e3",
   "metadata": {},
   "source": [
    "### 20. Create a Python class called `Customer` with private attributes for customer details like name, address, and contact information. Implement encapsulation to ensure data integrity and security."
   ]
  },
  {
   "cell_type": "code",
   "execution_count": 270,
   "id": "454428a9-7235-46e9-b2a6-d5a78e84f59c",
   "metadata": {},
   "outputs": [
    {
     "name": "stdout",
     "output_type": "stream",
     "text": [
      "Customer Details:\n",
      "Name: John Doe\n",
      "Address: 123 Elm Street\n",
      "Contact Info: 555-1234\n",
      "\n",
      "Updated Customer Details:\n",
      "Customer Details:\n",
      "Name: Jane Doe\n",
      "Address: 456 Oak Avenue\n",
      "Contact Info: 555-5678\n"
     ]
    }
   ],
   "source": [
    "class Customer:\n",
    "    def __init__(self, name, address, contact_info):\n",
    "        self.__name = name\n",
    "        self.__address = address\n",
    "        self.__contact_info = contact_info\n",
    "\n",
    "    # Getter for name\n",
    "    @property\n",
    "    def name(self):\n",
    "        return self.__name\n",
    "\n",
    "    # Setter for name\n",
    "    @name.setter\n",
    "    def name(self, value):\n",
    "        if isinstance(value, str) and value:\n",
    "            self.__name = value\n",
    "        else:\n",
    "            raise ValueError(\"Name must be a non-empty string\")\n",
    "\n",
    "    # Getter for address\n",
    "    @property\n",
    "    def address(self):\n",
    "        return self.__address\n",
    "\n",
    "    # Setter for address\n",
    "    @address.setter\n",
    "    def address(self, value):\n",
    "        if isinstance(value, str) and value:\n",
    "            self.__address = value\n",
    "        else:\n",
    "            raise ValueError(\"Address must be a non-empty string\")\n",
    "\n",
    "    # Getter for contact information\n",
    "    @property\n",
    "    def contact_info(self):\n",
    "        return self.__contact_info\n",
    "\n",
    "    # Setter for contact information\n",
    "    @contact_info.setter\n",
    "    def contact_info(self, value):\n",
    "        if isinstance(value, str) and value:\n",
    "            self.__contact_info = value\n",
    "        else:\n",
    "            raise ValueError(\"Contact information must be a non-empty string\")\n",
    "\n",
    "    # Method to display customer details\n",
    "    def display_customer_details(self):\n",
    "        return (f\"Customer Details:\\n\"\n",
    "                f\"Name: {self.__name}\\n\"\n",
    "                f\"Address: {self.__address}\\n\"\n",
    "                f\"Contact Info: {self.__contact_info}\")\n",
    "\n",
    "try:\n",
    "    customer = Customer(\"John Doe\", \"123 Elm Street\", \"555-1234\")\n",
    "    print(customer.display_customer_details())\n",
    "\n",
    "    # Update customer details\n",
    "    customer.name = \"Jane Doe\"\n",
    "    customer.address = \"456 Oak Avenue\"\n",
    "    customer.contact_info = \"555-5678\"\n",
    "    print(\"\\nUpdated Customer Details:\")\n",
    "    print(customer.display_customer_details())\n",
    "\n",
    "    # Attempt to set invalid values\n",
    "    # customer.name = \"\"  # This will raise a ValueError\n",
    "except ValueError as e:\n",
    "    print(e)\n"
   ]
  },
  {
   "cell_type": "code",
   "execution_count": null,
   "id": "9b7623b5-b983-4680-a430-55cf516f17c7",
   "metadata": {},
   "outputs": [],
   "source": []
  },
  {
   "cell_type": "markdown",
   "id": "2cc1184f-f18e-4051-ac67-cd046a1c340e",
   "metadata": {},
   "source": [
    "## Polymorphism:"
   ]
  },
  {
   "cell_type": "markdown",
   "id": "ad3eddbd-b100-49b9-a9d6-91ee6e8701e6",
   "metadata": {},
   "source": [
    "### 1. What is polymorphism in Python? Explain how it is related to object-oriented programming."
   ]
  },
  {
   "cell_type": "markdown",
   "id": "6e68d2a4-ece2-4597-9b42-57571fca0b55",
   "metadata": {},
   "source": [
    "Polymorphism in Python is a concept in object-oriented programming (OOP) that allows objects of different classes to be treated as objects of a common superclass. It is a way to perform a single action in different ways."
   ]
  },
  {
   "cell_type": "markdown",
   "id": "74da93f6-37bf-47ec-a69d-0422dfefec3e",
   "metadata": {},
   "source": [
    "Polymorphism is a fundamental principle in OOP, providing the ability to redefine methods for derived classes. It enhances the flexibility and maintainability of code by allowing objects to be treated as instances of their parent class. This means you can write more generic and reusable code, as the exact class of the object can be determined at runtime."
   ]
  },
  {
   "cell_type": "markdown",
   "id": "362a515a-7606-484a-abb0-657f4e04a9eb",
   "metadata": {},
   "source": [
    "### 2. Describe the difference between compile-time polymorphism and runtime polymorphism in Python."
   ]
  },
  {
   "cell_type": "markdown",
   "id": "87592e97-dbc7-47b9-9747-30bb430dbaad",
   "metadata": {},
   "source": [
    "Key Differences\n",
    "Resolution Time:\n",
    "\n",
    "Compile-Time Polymorphism: The method or operator to be invoked is determined at compile time.\n",
    "Runtime Polymorphism: The method to be invoked is determined at runtime based on the object's actual type.\n",
    "Implementation in Python:\n",
    "\n",
    "Compile-Time Polymorphism: Not directly supported in Python. Achieved through techniques like default arguments and variable-length arguments.\n",
    "Runtime Polymorphism: Fully supported in Python through method overriding and duck typing.\n",
    "Flexibility:\n",
    "\n",
    "Compile-Time Polymorphism: Less flexible since the decisions are made at compile time.\n",
    "Runtime Polymorphism: More flexible as it allows behavior to be determined at runtime, which can lead to more dynamic and adaptable code."
   ]
  },
  {
   "cell_type": "code",
   "execution_count": 8,
   "id": "bdde7c37-5893-431d-9001-fd203f6f2106",
   "metadata": {},
   "outputs": [
    {
     "name": "stdout",
     "output_type": "stream",
     "text": [
      "The area of the Circle is: 78.53981633974483\n",
      "The area of the Square is: 16\n",
      "The area of the Triangle is: 9.0\n"
     ]
    }
   ],
   "source": [
    "import math\n",
    "\n",
    "class Shape:\n",
    "    def calculate_area(self):\n",
    "        pass\n",
    "\n",
    "class Circle(Shape):\n",
    "    def __init__(self, radius):\n",
    "        self.radius = radius\n",
    "\n",
    "    def calculate_area(self):\n",
    "        return math.pi * self.radius ** 2\n",
    "\n",
    "class Square(Shape):\n",
    "    def __init__(self, side):\n",
    "        self.side = side\n",
    "\n",
    "    def calculate_area(self):\n",
    "        return self.side ** 2\n",
    "\n",
    "class Triangle(Shape):\n",
    "    def __init__(self, base, height):\n",
    "        self.base = base\n",
    "        self.height = height\n",
    "\n",
    "    def calculate_area(self):\n",
    "        return 0.5 * self.base * self.height\n",
    "\n",
    "shapes = [\n",
    "    Circle(5),\n",
    "    Square(4),\n",
    "    Triangle(3, 6)\n",
    "]\n",
    "\n",
    "for shape in shapes:\n",
    "    print(f\"The area of the {shape.__class__.__name__} is: {shape.calculate_area()}\")\n"
   ]
  },
  {
   "cell_type": "markdown",
   "id": "9cb4a898-7b79-498e-a7a2-6ff8052768ae",
   "metadata": {},
   "source": [
    "### 4. Explain the concept of method overriding in polymorphism. Provide an example."
   ]
  },
  {
   "cell_type": "markdown",
   "id": "7cca7922-c74b-4f40-bddb-8bcc6d2d5499",
   "metadata": {},
   "source": [
    "Key Points of Method Overriding\n",
    "\n",
    "Inheritance: The subclass inherits methods and properties from the superclass.\n",
    "\n",
    "Same Method Signature: The method in the subclass must have the same name, return type, and parameters as the method in the superclass.\n",
    "\n",
    "Run-time Polymorphism: The decision about which method to call (superclass or subclass) is made at runtime based on the object's type."
   ]
  },
  {
   "cell_type": "code",
   "execution_count": 16,
   "id": "e9e0838d-7a99-4d1e-8b82-f0bf334ef802",
   "metadata": {},
   "outputs": [
    {
     "name": "stdout",
     "output_type": "stream",
     "text": [
      "Bark\n",
      "Meow\n"
     ]
    }
   ],
   "source": [
    "class Animal:\n",
    "    def sound(self):\n",
    "        return \"Some generic sound\"\n",
    "\n",
    "class Dog(Animal):\n",
    "    def sound(self):\n",
    "        return \"Bark\"\n",
    "\n",
    "class Cat(Animal):\n",
    "    def sound(self):\n",
    "        return \"Meow\"\n",
    "\n",
    "# Demonstrating method overriding\n",
    "def make_sound(animal):\n",
    "    print(animal.sound())\n",
    "\n",
    "# Creating instances of the subclasses\n",
    "dog = Dog()\n",
    "cat = Cat()\n",
    "\n",
    "# Calling the method to demonstrate polymorphism\n",
    "make_sound(dog)  # Output: Bark\n",
    "make_sound(cat)  # Output: Meow\n"
   ]
  },
  {
   "cell_type": "markdown",
   "id": "4e1567b1-0a87-443a-b869-21e2a75db7e4",
   "metadata": {},
   "source": [
    "### 5. How is polymorphism different from method overloading in Python? Provide examples for both."
   ]
  },
  {
   "cell_type": "markdown",
   "id": "56a2808d-efdc-4097-9eff-ac262f46714a",
   "metadata": {},
   "source": [
    "Polymorphism allows objects of different classes to be treated as objects of a common superclass. It relies on method overriding and is resolved at runtime."
   ]
  },
  {
   "cell_type": "code",
   "execution_count": 20,
   "id": "7317a8ed-f7cb-45f6-aea5-d96d5b923639",
   "metadata": {},
   "outputs": [
    {
     "name": "stdout",
     "output_type": "stream",
     "text": [
      "Bark\n",
      "Meow\n"
     ]
    }
   ],
   "source": [
    "class Animal:\n",
    "    def sound(self):\n",
    "        pass\n",
    "\n",
    "class Dog(Animal):\n",
    "    def sound(self):\n",
    "        return \"Bark\"\n",
    "\n",
    "class Cat(Animal):\n",
    "    def sound(self):\n",
    "        return \"Meow\"\n",
    "\n",
    "def make_sound(animal):\n",
    "    print(animal.sound())\n",
    "\n",
    "dog = Dog()\n",
    "cat = Cat()\n",
    "\n",
    "make_sound(dog)  # Output: Bark\n",
    "make_sound(cat)  # Output: Meow\n"
   ]
  },
  {
   "cell_type": "markdown",
   "id": "684368f1-2485-4935-b765-41a6df00ff96",
   "metadata": {},
   "source": [
    "Method Overloading\n",
    "Method overloading is when multiple methods have the same name but differ in the type or number of their parameters. Python does not support method overloading in the same way as statically-typed languages like Java or C++. However, you can achieve similar functionality using default arguments or variable-length arguments."
   ]
  },
  {
   "cell_type": "code",
   "execution_count": 23,
   "id": "7495fd4f-453a-4f69-8c1f-18d2224b26b7",
   "metadata": {},
   "outputs": [
    {
     "name": "stdout",
     "output_type": "stream",
     "text": [
      "3\n",
      "6\n"
     ]
    }
   ],
   "source": [
    "class MathOperations:\n",
    "    def add(self, a, b, c=0):\n",
    "        return a + b + c\n",
    "\n",
    "math_op = MathOperations()\n",
    "print(math_op.add(1, 2))      # Output: 3\n",
    "print(math_op.add(1, 2, 3))   # Output: 6\n"
   ]
  },
  {
   "cell_type": "markdown",
   "id": "051a543d-6948-4bde-b4f9-cbc408d8d0cf",
   "metadata": {},
   "source": [
    "### 6. Create a Python class called `Animal` with a method `speak()`. Then, create child classes like `Dog`, `Cat`, and `Bird`, each with their own `speak()` method. Demonstrate polymorphism by calling the `speak()` method on objects of different subclasses."
   ]
  },
  {
   "cell_type": "code",
   "execution_count": 26,
   "id": "130594fb-3845-4457-bbce-0e8267c53d08",
   "metadata": {},
   "outputs": [
    {
     "name": "stdout",
     "output_type": "stream",
     "text": [
      "Woof\n",
      "Meow\n",
      "Tweet\n"
     ]
    }
   ],
   "source": [
    "class Animal:\n",
    "    def speak(self):\n",
    "        pass\n",
    "\n",
    "class Dog(Animal):\n",
    "    def speak(self):\n",
    "        return \"Woof\"\n",
    "\n",
    "class Cat(Animal):\n",
    "    def speak(self):\n",
    "        return \"Meow\"\n",
    "\n",
    "class Bird(Animal):\n",
    "    def speak(self):\n",
    "        return \"Tweet\"\n",
    "\n",
    "def make_animal_speak(animal):\n",
    "    print(animal.speak())\n",
    "\n",
    "dog = Dog()\n",
    "cat = Cat()\n",
    "bird = Bird()\n",
    "\n",
    "make_animal_speak(dog)  \n",
    "make_animal_speak(cat) \n",
    "make_animal_speak(bird)\n"
   ]
  },
  {
   "cell_type": "markdown",
   "id": "ff18a2f0-666a-4960-892f-9a42307b38e7",
   "metadata": {},
   "source": [
    "### 7. Discuss the use of abstract methods and classes in achieving polymorphism in Python. Provide an example using the `abc` module."
   ]
  },
  {
   "cell_type": "code",
   "execution_count": 29,
   "id": "30a07d70-e83f-4a7b-af20-be49a8a3e0fa",
   "metadata": {},
   "outputs": [
    {
     "name": "stdout",
     "output_type": "stream",
     "text": [
      "Woof\n",
      "Meow\n",
      "Tweet\n"
     ]
    }
   ],
   "source": [
    "from abc import ABC, abstractmethod\n",
    "\n",
    "class Animal(ABC):\n",
    "    @abstractmethod\n",
    "    def speak(self):\n",
    "        pass\n",
    "\n",
    "class Dog(Animal):\n",
    "    def speak(self):\n",
    "        return \"Woof\"\n",
    "\n",
    "class Cat(Animal):\n",
    "    def speak(self):\n",
    "        return \"Meow\"\n",
    "\n",
    "class Bird(Animal):\n",
    "    def speak(self):\n",
    "        return \"Tweet\"\n",
    "\n",
    "def make_animal_speak(animal):\n",
    "    print(animal.speak())\n",
    "\n",
    "# Creating instances of the subclasses\n",
    "dog = Dog()\n",
    "cat = Cat()\n",
    "bird = Bird()\n",
    "\n",
    "# Calling the method to demonstrate polymorphism\n",
    "make_animal_speak(dog)  # Output: Woof\n",
    "make_animal_speak(cat)  # Output: Meow\n",
    "make_animal_speak(bird) # Output: Tweet\n"
   ]
  },
  {
   "cell_type": "markdown",
   "id": "9625c77c-79e1-47be-84d4-1d977764b8b3",
   "metadata": {},
   "source": [
    "Abstract Methods and Classes: Provide a template for other classes, ensuring that they implement certain methods. This is achieved using the abc module.\n",
    "\n",
    "Polymorphism: Achieved by allowing different subclasses to provide their own implementations of the abstract methods defined in the base class.\n",
    "\n",
    "Example: The Animal class is an abstract base class with an abstract method speak(), and Dog, Cat, and Bird are concrete subclasses that implement the speak() method."
   ]
  },
  {
   "cell_type": "markdown",
   "id": "40535aba-494f-4a3e-820b-3c2c3397c931",
   "metadata": {},
   "source": [
    "### 8. Create a Python class hierarchy for a vehicle system (e.g., car, bicycle, boat) and implement a polymorphic `start()` method that prints a message specific to each vehicle type."
   ]
  },
  {
   "cell_type": "code",
   "execution_count": 33,
   "id": "47779f8c-b179-41ee-94ec-14d3ce6351c6",
   "metadata": {},
   "outputs": [
    {
     "name": "stdout",
     "output_type": "stream",
     "text": [
      "The car engine roars to life!\n",
      "The bicycle pedals start turning!\n",
      "The boat engine starts and the propeller begins to spin!\n"
     ]
    }
   ],
   "source": [
    "from abc import ABC, abstractmethod\n",
    "\n",
    "class Vehicle(ABC):\n",
    "    @abstractmethod\n",
    "    def start(self):\n",
    "        pass\n",
    "\n",
    "class Car(Vehicle):\n",
    "    def start(self):\n",
    "        print(\"The car engine roars to life!\")\n",
    "\n",
    "class Bicycle(Vehicle):\n",
    "    def start(self):\n",
    "        print(\"The bicycle pedals start turning!\")\n",
    "\n",
    "class Boat(Vehicle):\n",
    "    def start(self):\n",
    "        print(\"The boat engine starts and the propeller begins to spin!\")\n",
    "\n",
    "def start_vehicle(vehicle):\n",
    "    vehicle.start()\n",
    "\n",
    "car = Car()\n",
    "bicycle = Bicycle()\n",
    "boat = Boat()\n",
    "\n",
    "start_vehicle(car)      \n",
    "start_vehicle(bicycle) \n",
    "start_vehicle(boat)     \n"
   ]
  },
  {
   "cell_type": "markdown",
   "id": "0d0d4552-61f3-4a58-a731-fbf61e965421",
   "metadata": {},
   "source": [
    "### 9. Explain the significance of the `isinstance()` and `issubclass()` functions in Python polymorphism."
   ]
  },
  {
   "cell_type": "markdown",
   "id": "34ad3584-9930-4431-8b71-c2310819ae10",
   "metadata": {},
   "source": [
    "Significance in Polymorphism\n",
    "\n",
    "Type Checking:\n",
    "\n",
    "isinstance(): Helps ensure that an object is of a specific type or its subtype before performing operations on it. This is useful in polymorphic functions where the behavior depends on the object's type.\n",
    "issubclass(): Ensures that a class is derived from another class, helping to enforce class hierarchies and inheritance relationships.\n",
    "\n",
    "Runtime Decisions:\n",
    "\n",
    "isinstance(): Allows for runtime checks to adapt behavior based on the actual type of the object. This is important in polymorphic code where objects can be of different types but share a common interface.\n",
    "issubclass(): Can be used to enforce rules and constraints based on class hierarchies, ensuring that certain operations are only performed on appropriate subclasses.\n",
    "\n",
    "Error Handling:\n",
    "\n",
    "isinstance(): Prevents type errors by verifying that an object is of the expected type before performing operations on it.\n",
    "issubclass(): Prevents logical errors by ensuring that classes used in certain contexts are appropriate subclasses."
   ]
  },
  {
   "cell_type": "markdown",
   "id": "2617526d-7f8f-4ff3-9179-307c04fa0ba7",
   "metadata": {},
   "source": [
    "### 10. What is the role of the `@abstractmethod` decorator in achieving polymorphism in Python? Provide an example."
   ]
  },
  {
   "cell_type": "markdown",
   "id": "e26cc009-0a7d-4f7e-b95e-e9b69aead2c2",
   "metadata": {},
   "source": [
    "Role of @abstractmethod Decorator\n",
    "\n",
    "Enforcement of Method Implementation:\n",
    "\n",
    "It ensures that all subclasses implement the methods marked with the @abstractmethod decorator. This guarantees that the derived classes follow a consistent interface.\n",
    "\n",
    "Creating Abstract Base Classes:\n",
    "\n",
    "It helps in defining abstract base classes that serve as templates for other classes. These base classes cannot be instantiated directly and must be subclassed by concrete classes that implement the abstract methods.\n",
    "\n",
    "Supporting Polymorphism:\n",
    "\n",
    "By defining a common interface through abstract methods, it allows different subclasses to provide their unique implementations of these methods. This enables polymorphic behavior where objects of different classes can be treated uniformly based on their common interface."
   ]
  },
  {
   "cell_type": "code",
   "execution_count": 43,
   "id": "b8856469-5360-458e-8765-bddaf9ba708a",
   "metadata": {},
   "outputs": [
    {
     "name": "stdout",
     "output_type": "stream",
     "text": [
      "The area is: 78.53981633974483\n",
      "The area is: 24\n"
     ]
    }
   ],
   "source": [
    "from abc import ABC, abstractmethod\n",
    "import math\n",
    "\n",
    "class Shape(ABC):\n",
    "    @abstractmethod\n",
    "    def calculate_area(self):\n",
    "        pass\n",
    "\n",
    "class Circle(Shape):\n",
    "    def __init__(self, radius):\n",
    "        self.radius = radius\n",
    "\n",
    "    def calculate_area(self):\n",
    "        return math.pi * self.radius ** 2\n",
    "\n",
    "class Rectangle(Shape):\n",
    "    def __init__(self, width, height):\n",
    "        self.width = width\n",
    "        self.height = height\n",
    "\n",
    "    def calculate_area(self):\n",
    "        return self.width * self.height\n",
    "\n",
    "\n",
    "def print_area(shape):\n",
    "    print(f\"The area is: {shape.calculate_area()}\")\n",
    "\n",
    "circle = Circle(5)\n",
    "rectangle = Rectangle(4, 6)\n",
    "\n",
    "print_area(circle)      \n",
    "print_area(rectangle)  \n"
   ]
  },
  {
   "cell_type": "markdown",
   "id": "eeafeb28-66fb-4b65-83ea-bbae325f15b7",
   "metadata": {},
   "source": [
    "### 11. Create a Python class called `Shape` with a polymorphic method `area()` that calculates the area of different shapes (e.g., circle, rectangle, triangle)."
   ]
  },
  {
   "cell_type": "markdown",
   "id": "6b8e5630-b24b-462b-b8b3-b882b758264b",
   "metadata": {},
   "source": [
    "import math\n",
    "\n",
    "class Shape:\n",
    "    def area(self):\n",
    "        pass\n",
    "\n",
    "class Circle(Shape):\n",
    "    def __init__(self, radius):\n",
    "        self.radius = radius\n",
    "\n",
    "    def area(self):\n",
    "        return math.pi * self.radius ** 2\n",
    "\n",
    "class Rectangle(Shape):\n",
    "    def __init__(self, width, height):\n",
    "        self.width = width\n",
    "        self.height = height\n",
    "\n",
    "    def area(self):\n",
    "        return self.width * self.height\n",
    "\n",
    "class Triangle(Shape):\n",
    "    def __init__(self, base, height):\n",
    "        self.base = base\n",
    "        self.height = height\n",
    "\n",
    "    def area(self):\n",
    "        return 0.5 * self.base * self.height\n",
    "\n",
    "\n",
    "def print_area(shape):\n",
    "    print(f\"The area is: {shape.area()}\")\n",
    "\n",
    "circle = Circle(5)\n",
    "rectangle = Rectangle(4, 6)\n",
    "triangle = Triangle(3, 8)\n",
    "\n",
    "print_area(circle)    \n",
    "print_area(rectangle)  \n",
    "print_area(triangle) \n"
   ]
  },
  {
   "cell_type": "markdown",
   "id": "ccd0a64f-c85f-4c6e-8b46-bb82ba366040",
   "metadata": {},
   "source": [
    "### 12. Discuss the benefits of polymorphism in terms of code reusability and flexibility in Python programs."
   ]
  },
  {
   "cell_type": "markdown",
   "id": "eebc3e0f-8858-45f2-bd14-0cfa2a750499",
   "metadata": {},
   "source": [
    "1. Code Reusability\n",
    "\n",
    "Interface Standardization: Polymorphism allows different classes to be treated as instances of a common superclass. This means that you can write functions or methods that operate on objects of this superclass type, and they will automatically work with any subclass instances.\n",
    "\n",
    "Reduced Duplication: By defining a common interface with abstract methods or method signatures in a superclass, you avoid duplicating code across multiple subclasses. Each subclass provides its specific implementation while adhering to the common interface, promoting cleaner and more efficient code."
   ]
  },
  {
   "cell_type": "markdown",
   "id": "5ffc37bb-f16a-40e1-aaf1-a76d1c3d42ce",
   "metadata": {},
   "source": [
    "2. Flexibility and Scalability\n",
    "\n",
    "Extensibility: Polymorphism allows you to introduce new subclasses without modifying existing code that uses the superclass interface. This makes your codebase more flexible and easily extensible, as you can add new functionality by simply creating new subclasses.\n",
    "\n",
    "Adaptability: Objects can be treated uniformly based on their common interface, regardless of their specific implementation details. This makes it easier to switch between different implementations or extend existing ones without affecting other parts of the code that rely on polymorphic behavior."
   ]
  },
  {
   "cell_type": "markdown",
   "id": "4300a80d-235a-4c2b-be1d-79df698a5bef",
   "metadata": {},
   "source": [
    "### 13. Explain the use of the `super()` function in Python polymorphism. How does it help call methods of parent classes?"
   ]
  },
  {
   "cell_type": "markdown",
   "id": "748bc568-c62a-4677-b6b0-6c2fd9dc3dec",
   "metadata": {},
   "source": [
    "How super() Works\n",
    "\n",
    "The super() function provides a way to access and invoke methods or properties defined in the superclass of a class. It allows you to call the superclass's methods from within a subclass, ensuring that you can extend the functionality of the superclass without explicitly naming it, thus promoting more flexible and maintainable code."
   ]
  },
  {
   "cell_type": "code",
   "execution_count": 55,
   "id": "eb9ba3cb-76d9-44d7-8152-0c78ac739899",
   "metadata": {},
   "outputs": [
    {
     "name": "stdout",
     "output_type": "stream",
     "text": [
      "Buddy makes a sound and barks loudly\n"
     ]
    }
   ],
   "source": [
    "class Animal:\n",
    "    def __init__(self, name):\n",
    "        self.name = name\n",
    "    \n",
    "    def speak(self):\n",
    "        return f\"{self.name} makes a sound\"\n",
    "\n",
    "class Dog(Animal):\n",
    "    def __init__(self, name, breed):\n",
    "        super().__init__(name)\n",
    "        self.breed = breed\n",
    "    \n",
    "    def speak(self):\n",
    "        return f\"{super().speak()} and barks loudly\"\n",
    "\n",
    "my_dog = Dog(\"Buddy\", \"Golden Retriever\")\n",
    "print(my_dog.speak())  # Output: Buddy makes a sound and barks loudly\n"
   ]
  },
  {
   "cell_type": "markdown",
   "id": "0d073476-d7c5-4e97-9158-d9f5f18b504f",
   "metadata": {},
   "source": [
    "### 14. Create a Python class hierarchy for a banking system with various account types (e.g., savings, checking, credit card) and demonstrate polymorphism by implementing a common `withdraw()` method."
   ]
  },
  {
   "cell_type": "code",
   "execution_count": 58,
   "id": "5306e296-dfc7-44c5-b0db-6e09e57ba6a2",
   "metadata": {},
   "outputs": [
    {
     "name": "stdout",
     "output_type": "stream",
     "text": [
      "Withdrawal of $500 from savings account SAV001 successful.\n",
      "Withdrawal of $1500 from checking account CHK001 successful.\n",
      "Withdrawal of $4000 from credit card account CC001 successful.\n"
     ]
    }
   ],
   "source": [
    "class BankAccount:\n",
    "    def __init__(self, account_number, balance=0):\n",
    "        self.account_number = account_number\n",
    "        self.balance = balance\n",
    "    \n",
    "    def withdraw(self, amount):\n",
    "        if amount > 0 and self.balance >= amount:\n",
    "            self.balance -= amount\n",
    "            print(f\"Withdrawal of ${amount} from account {self.account_number} successful.\")\n",
    "        else:\n",
    "            print(f\"Insufficient balance in account {self.account_number}.\")\n",
    "\n",
    "class SavingsAccount(BankAccount):\n",
    "    def __init__(self, account_number, balance=0, interest_rate=0.01):\n",
    "        super().__init__(account_number, balance)\n",
    "        self.interest_rate = interest_rate\n",
    "    \n",
    "    def withdraw(self, amount):\n",
    "        if amount > 0 and self.balance >= amount:\n",
    "            self.balance -= amount\n",
    "            print(f\"Withdrawal of ${amount} from savings account {self.account_number} successful.\")\n",
    "        else:\n",
    "            print(f\"Insufficient balance in savings account {self.account_number}.\")\n",
    "\n",
    "class CheckingAccount(BankAccount):\n",
    "    def __init__(self, account_number, balance=0, overdraft_limit=100):\n",
    "        super().__init__(account_number, balance)\n",
    "        self.overdraft_limit = overdraft_limit\n",
    "    \n",
    "    def withdraw(self, amount):\n",
    "        if amount > 0 and (self.balance + self.overdraft_limit) >= amount:\n",
    "            self.balance -= amount\n",
    "            print(f\"Withdrawal of ${amount} from checking account {self.account_number} successful.\")\n",
    "        else:\n",
    "            print(f\"Insufficient funds in checking account {self.account_number}.\")\n",
    "\n",
    "class CreditCardAccount(BankAccount):\n",
    "    def __init__(self, account_number, balance=0, credit_limit=5000):\n",
    "        super().__init__(account_number, balance)\n",
    "        self.credit_limit = credit_limit\n",
    "    \n",
    "    def withdraw(self, amount):\n",
    "        if amount > 0 and (self.balance + self.credit_limit) >= amount:\n",
    "            self.balance -= amount\n",
    "            print(f\"Withdrawal of ${amount} from credit card account {self.account_number} successful.\")\n",
    "        else:\n",
    "            print(f\"Exceeded credit limit for account {self.account_number}.\")\n",
    "\n",
    "def perform_withdrawal(account, amount):\n",
    "    account.withdraw(amount)\n",
    "\n",
    "savings_acc = SavingsAccount(\"SAV001\", 1000)\n",
    "checking_acc = CheckingAccount(\"CHK001\", 2000)\n",
    "credit_card_acc = CreditCardAccount(\"CC001\", 3000)\n",
    "\n",
    "perform_withdrawal(savings_acc, 500)        \n",
    "perform_withdrawal(checking_acc, 1500)     \n",
    "perform_withdrawal(credit_card_acc, 4000)  \n"
   ]
  },
  {
   "cell_type": "markdown",
   "id": "7211c047-d1d8-402a-b6c3-9dedd7d6f83a",
   "metadata": {},
   "source": [
    "### 15. Describe the concept of operator overloading in Python and how it relates to polymorphism. Provide examples using operators like `+` and `*`."
   ]
  },
  {
   "cell_type": "markdown",
   "id": "2a3e1637-78b9-425e-86c4-6ccb582faeee",
   "metadata": {},
   "source": [
    "Polymorphism allows different classes to be treated as instances of the same class through a common interface. Operator overloading is a specific type of polymorphism where operators act differently depending on the operands' types. This is achieved by defining special methods in classes that Python automatically calls when the corresponding operator is used."
   ]
  },
  {
   "cell_type": "code",
   "execution_count": 62,
   "id": "7e756768-3b35-4dd9-b50f-b59453ccba29",
   "metadata": {},
   "outputs": [
    {
     "name": "stdout",
     "output_type": "stream",
     "text": [
      "Vector(6, 8)\n"
     ]
    }
   ],
   "source": [
    "class Vector:\n",
    "    def __init__(self, x, y):\n",
    "        self.x = x\n",
    "        self.y = y\n",
    "\n",
    "    def __add__(self, other):\n",
    "        return Vector(self.x + other.x, self.y + other.y)\n",
    "\n",
    "    def __str__(self):\n",
    "        return f\"Vector({self.x}, {self.y})\"\n",
    "\n",
    "\n",
    "v1 = Vector(2, 3)\n",
    "v2 = Vector(4, 5)\n",
    "v3 = v1 + v2  \n",
    "print(v3)  \n"
   ]
  },
  {
   "cell_type": "markdown",
   "id": "b9c6679b-a37c-4cea-9f70-0ccfbddf339b",
   "metadata": {},
   "source": [
    "### 16. What is dynamic polymorphism, and how is it achieved in Python?"
   ]
  },
  {
   "cell_type": "markdown",
   "id": "e748277a-96e0-4a92-86d7-4086b618b606",
   "metadata": {},
   "source": [
    "Dynamic polymorphism, also known as runtime polymorphism, is a concept where the method that is called is determined at runtime rather than compile time. It allows objects of different classes to be treated as objects of a common superclass. The specific method that is executed is determined by the actual object type that the reference points to at runtime."
   ]
  },
  {
   "cell_type": "markdown",
   "id": "a7323ac3-999e-426b-b3b8-fc7a08df4324",
   "metadata": {},
   "source": [
    "chieving Dynamic Polymorphism in Python\n",
    "\n",
    "Dynamic polymorphism in Python is achieved through method overriding and the use of inheritance. In method overriding, a subclass provides a specific implementation of a method that is already defined in its superclass. When a method is called on an object, the version of the method that is executed is determined by the actual type of the object at runtime."
   ]
  },
  {
   "cell_type": "markdown",
   "id": "434d77a7-6c05-4478-a516-aaf4c17b6e37",
   "metadata": {},
   "source": [
    "### 17. Create a Python class hierarchy for employees in a company (e.g., manager, developer, designer) and implement polymorphism through a common `calculate_salary()` method."
   ]
  },
  {
   "cell_type": "code",
   "execution_count": 68,
   "id": "bad02997-d468-4458-8c18-adf885af2911",
   "metadata": {},
   "outputs": [
    {
     "name": "stdout",
     "output_type": "stream",
     "text": [
      "Employee: Alice, Salary: 95000\n",
      "Employee: Bob, Salary: 70000\n",
      "Employee: Charlie, Salary: 57000\n"
     ]
    }
   ],
   "source": [
    "class Employee:\n",
    "    def __init__(self, name, base_salary):\n",
    "        self.name = name\n",
    "        self.base_salary = base_salary\n",
    "\n",
    "    def calculate_salary(self):\n",
    "        raise NotImplementedError(\"Subclass must implement abstract method\")\n",
    "\n",
    "class Manager(Employee):\n",
    "    def __init__(self, name, base_salary, bonus):\n",
    "        super().__init__(name, base_salary)\n",
    "        self.bonus = bonus\n",
    "\n",
    "    def calculate_salary(self):\n",
    "        return self.base_salary + self.bonus\n",
    "\n",
    "class Developer(Employee):\n",
    "    def __init__(self, name, base_salary, overtime_hours, overtime_rate):\n",
    "        super().__init__(name, base_salary)\n",
    "        self.overtime_hours = overtime_hours\n",
    "        self.overtime_rate = overtime_rate\n",
    "\n",
    "    def calculate_salary(self):\n",
    "        return self.base_salary + (self.overtime_hours * self.overtime_rate)\n",
    "\n",
    "class Designer(Employee):\n",
    "    def __init__(self, name, base_salary, project_bonus):\n",
    "        super().__init__(name, base_salary)\n",
    "        self.project_bonus = project_bonus\n",
    "\n",
    "    def calculate_salary(self):\n",
    "        return self.base_salary + self.project_bonus\n",
    "\n",
    "def print_salary(employee):\n",
    "    print(f\"Employee: {employee.name}, Salary: {employee.calculate_salary()}\")\n",
    "\n",
    "manager = Manager(\"Alice\", 80000, 15000)\n",
    "developer = Developer(\"Bob\", 60000, 200, 50)\n",
    "designer = Designer(\"Charlie\", 50000, 7000)\n",
    "\n",
    "print_salary(manager)  \n",
    "print_salary(developer) \n",
    "print_salary(designer) \n"
   ]
  },
  {
   "cell_type": "markdown",
   "id": "0d1bf984-196a-4954-bf0e-66b78ebccc77",
   "metadata": {},
   "source": [
    "### 18. Discuss the concept of function pointers and how they can be used to achieve polymorphism in Python."
   ]
  },
  {
   "cell_type": "markdown",
   "id": "6e486025-13af-460d-ac13-322268c4acc7",
   "metadata": {},
   "source": [
    "Concept of Function Pointers in Python\n",
    "\n",
    "In Python, functions are first-class objects, meaning they can be passed as arguments to other functions, returned from functions, and assigned to variables. This enables dynamic behavior and polymorphism."
   ]
  },
  {
   "cell_type": "code",
   "execution_count": 72,
   "id": "52f1ebe5-28ac-494b-87ae-197604320405",
   "metadata": {},
   "outputs": [
    {
     "name": "stdout",
     "output_type": "stream",
     "text": [
      "Addition: 8\n",
      "Subtraction: 2\n",
      "Multiplication: 15\n"
     ]
    }
   ],
   "source": [
    "def add(x, y):\n",
    "    return x + y\n",
    "\n",
    "def subtract(x, y):\n",
    "    return x - y\n",
    "\n",
    "def multiply(x, y):\n",
    "    return x * y\n",
    "\n",
    "def apply_operation(operation, x, y):\n",
    "    return operation(x, y)\n",
    "\n",
    "result_add = apply_operation(add, 5, 3)       # Output: 8\n",
    "result_subtract = apply_operation(subtract, 5, 3)  # Output: 2\n",
    "result_multiply = apply_operation(multiply, 5, 3)  # Output: 15\n",
    "\n",
    "print(f\"Addition: {result_add}\")\n",
    "print(f\"Subtraction: {result_subtract}\")\n",
    "print(f\"Multiplication: {result_multiply}\")\n"
   ]
  },
  {
   "cell_type": "markdown",
   "id": "b39928ac-04cb-4135-8326-1a603a1801cb",
   "metadata": {},
   "source": [
    "### 19. Explain the role of interfaces and abstract classes in polymorphism, drawing comparisons between them."
   ]
  },
  {
   "cell_type": "markdown",
   "id": "15b42f0f-1aa3-4f2e-9ac8-6c5520500ded",
   "metadata": {},
   "source": [
    "Abstract Classes:\n",
    "\n",
    "Can contain a mix of concrete and abstract methods.\n",
    "\n",
    "Can have attributes and concrete methods that can be shared across subclasses.\n",
    "\n",
    "Used when you want to provide some common behavior or state among subclasses.\n",
    "\n",
    "Subclasses are required to implement abstract methods.\n",
    "\n",
    "\n",
    "\n",
    "Interfaces (via Abstract Classes in Python):\n",
    "\n",
    "Used to define a common contract for classes.\n",
    "\n",
    "Should only contain abstract methods (no implementation).\n",
    "\n",
    "Can be \"implemented\" by multiple classes to ensure they provide certain behaviors.\n",
    "\n",
    "Promotes loose coupling by ensuring classes adhere to a specific interface without enforcing how they implement it."
   ]
  },
  {
   "cell_type": "markdown",
   "id": "fa04e150-2083-4a8d-b4d1-938e17f217b8",
   "metadata": {},
   "source": [
    "### 20. Create a Python class for a zoo simulation, demonstrating polymorphism with different animal types (e.g., mammals, birds, reptiles) and their behavior (e.g., eating, sleeping, making sounds)."
   ]
  },
  {
   "cell_type": "code",
   "execution_count": 79,
   "id": "5661655f-1dce-4805-8671-00ad72d4dcc2",
   "metadata": {},
   "outputs": [
    {
     "name": "stdout",
     "output_type": "stream",
     "text": [
      "Mammal is eating.\n",
      "Mammal is sleeping.\n",
      "Mammal makes a sound.\n",
      "Bird is eating.\n",
      "Bird is sleeping.\n",
      "Bird sings.\n",
      "Reptile is eating.\n",
      "Reptile is sleeping.\n",
      "Reptile hisses.\n"
     ]
    }
   ],
   "source": [
    "from abc import ABC, abstractmethod\n",
    "\n",
    "class Animal(ABC):\n",
    "    @abstractmethod\n",
    "    def eat(self):\n",
    "        pass\n",
    "    \n",
    "    @abstractmethod\n",
    "    def sleep(self):\n",
    "        pass\n",
    "    \n",
    "    @abstractmethod\n",
    "    def make_sound(self):\n",
    "        pass\n",
    "\n",
    "class Mammal(Animal):\n",
    "    def eat(self):\n",
    "        return \"Mammal is eating.\"\n",
    "\n",
    "    def sleep(self):\n",
    "        return \"Mammal is sleeping.\"\n",
    "\n",
    "    def make_sound(self):\n",
    "        return \"Mammal makes a sound.\"\n",
    "\n",
    "class Bird(Animal):\n",
    "    def eat(self):\n",
    "        return \"Bird is eating.\"\n",
    "\n",
    "    def sleep(self):\n",
    "        return \"Bird is sleeping.\"\n",
    "\n",
    "    def make_sound(self):\n",
    "        return \"Bird sings.\"\n",
    "\n",
    "class Reptile(Animal):\n",
    "    def eat(self):\n",
    "        return \"Reptile is eating.\"\n",
    "\n",
    "    def sleep(self):\n",
    "        return \"Reptile is sleeping.\"\n",
    "\n",
    "    def make_sound(self):\n",
    "        return \"Reptile hisses.\"\n",
    "\n",
    "def demonstrate_animal_behavior(animal):\n",
    "    print(animal.eat())\n",
    "    print(animal.sleep())\n",
    "    print(animal.make_sound())\n",
    "\n",
    "mammal = Mammal()\n",
    "bird = Bird()\n",
    "reptile = Reptile()\n",
    "\n",
    "demonstrate_animal_behavior(mammal)\n",
    "demonstrate_animal_behavior(bird)\n",
    "demonstrate_animal_behavior(reptile)\n"
   ]
  },
  {
   "cell_type": "code",
   "execution_count": null,
   "id": "859180b8-6a7d-49e4-ba81-b842ae4b7040",
   "metadata": {},
   "outputs": [],
   "source": []
  }
 ],
 "metadata": {
  "kernelspec": {
   "display_name": "Python 3 (ipykernel)",
   "language": "python",
   "name": "python3"
  },
  "language_info": {
   "codemirror_mode": {
    "name": "ipython",
    "version": 3
   },
   "file_extension": ".py",
   "mimetype": "text/x-python",
   "name": "python",
   "nbconvert_exporter": "python",
   "pygments_lexer": "ipython3",
   "version": "3.12.4"
  }
 },
 "nbformat": 4,
 "nbformat_minor": 5
}
