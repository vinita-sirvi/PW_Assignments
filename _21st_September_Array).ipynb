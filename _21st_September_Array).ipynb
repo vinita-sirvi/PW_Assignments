{
 "cells": [
  {
   "cell_type": "markdown",
   "id": "70f8fd91-192a-4576-9faf-f9f76f55a5e6",
   "metadata": {},
   "source": [
    "### 1. Given an array, check if it contains any duplicates or not. arr = [1, 2, 4, 2, 5, 9] Output = True"
   ]
  },
  {
   "cell_type": "code",
   "execution_count": 11,
   "id": "4ac53ffd-6498-4ae7-8501-7b00168f5ad2",
   "metadata": {},
   "outputs": [
    {
     "name": "stdout",
     "output_type": "stream",
     "text": [
      "True\n"
     ]
    }
   ],
   "source": [
    "def Duplicate_value(arr):\n",
    "    return len(arr) != len(set(arr))\n",
    "    \n",
    "# driver code\n",
    "arr=[1,2,4,2,5,9]\n",
    "print(Duplicate_value(arr))"
   ]
  },
  {
   "cell_type": "markdown",
   "id": "f871ecc2-a66b-4a90-81f0-b266b05f34fe",
   "metadata": {},
   "source": [
    "### 2. Given an array and an integer k, rotate the array to the right by k steps. arr = [1, 2, 3, 4, 5, 6, 7] k = 3  Output = [5, 6, 7, 1, 2, 3, 4]"
   ]
  },
  {
   "cell_type": "code",
   "execution_count": 13,
   "id": "42dc3a97-6788-4010-aba7-fe9f3084bd47",
   "metadata": {},
   "outputs": [
    {
     "name": "stdout",
     "output_type": "stream",
     "text": [
      "[5, 6, 7, 1, 2, 3, 4]\n"
     ]
    }
   ],
   "source": [
    "def rotate(arr, k):\n",
    "    n = len(arr)\n",
    "    k = k % n\n",
    "    return arr[-k:] + arr[:-k]\n",
    "    \n",
    "\n",
    "\n",
    "\n",
    "# Driver code\n",
    "arr=[1,2,3,4,5,6,7]\n",
    "k= 3\n",
    "print(rotate(arr, k))"
   ]
  },
  {
   "cell_type": "markdown",
   "id": "6a9eee76-672d-4ef2-964d-6ec2b9ca004d",
   "metadata": {},
   "source": [
    "### 3. Reverse the given array in-place, means without using any extra data structure. arr = [2, 4, 5, 7, 9, 12] Output = [12, 9, 7, 5, 4, 2]"
   ]
  },
  {
   "cell_type": "code",
   "execution_count": 18,
   "id": "3ed002b4-db79-446c-af2f-5941c35f5bb3",
   "metadata": {},
   "outputs": [
    {
     "name": "stdout",
     "output_type": "stream",
     "text": [
      "[12, 9, 7, 5, 4, 2]\n"
     ]
    }
   ],
   "source": [
    "def reverse(arr):\n",
    "    left = 0\n",
    "    right = len(arr)- 1\n",
    "    while left<right:\n",
    "        arr[left], arr[right] = arr[right], arr[left]\n",
    "        left +=1\n",
    "        right -=1\n",
    "    return arr\n",
    "        \n",
    "\n",
    "# driver code\n",
    "arr=[2,4,5,7,9,12]\n",
    "print(reverse(arr))"
   ]
  },
  {
   "cell_type": "markdown",
   "id": "33b52da2-fac8-41f2-9275-3e574d39846a",
   "metadata": {},
   "source": [
    "### 4. Given an array of integers, find the maximum element in an array  arr = [10, 5, 20, 8, 15] Output = 20"
   ]
  },
  {
   "cell_type": "code",
   "execution_count": 25,
   "id": "c2f939d0-e4c9-4250-8268-5321785b2e99",
   "metadata": {},
   "outputs": [
    {
     "name": "stdout",
     "output_type": "stream",
     "text": [
      "20\n"
     ]
    }
   ],
   "source": [
    "def maximum_num(arr):\n",
    "    max_element= arr[0]\n",
    "    for i in arr[1:]:\n",
    "        if i > max_element:\n",
    "            max_element= i\n",
    "    return max_element\n",
    "\n",
    "# driver code\n",
    "arr=[10,5,20,8,15]\n",
    "print(maximum_num(arr))"
   ]
  },
  {
   "cell_type": "markdown",
   "id": "b4a0db18-1733-4a85-a364-327838f912e1",
   "metadata": {},
   "source": [
    "### 5. Given a sorted array, remove the duplicate element without using any extra data structure. arr = [1, 1, 2, 2, 2, 3, 3, 4, 4, 4, 5, 5] Output = [1, 2, 3, 4, 5]"
   ]
  },
  {
   "cell_type": "code",
   "execution_count": 32,
   "id": "f4da96c5-c373-4ae5-bc1f-12b24dcc4c24",
   "metadata": {},
   "outputs": [
    {
     "name": "stdout",
     "output_type": "stream",
     "text": [
      "None\n"
     ]
    }
   ],
   "source": [
    "def duplicate_val(arr):\n",
    "    unique_index=1\n",
    "    for i in range(1, len(arr)):\n",
    "        if arr[i] != arr[unique_index]:\n",
    "            unique_index += 1\n",
    "            arr[unique_index] = arr[i]\n",
    "    return arr[:unique_index + 1]\n",
    "# driver code\n",
    "arr= [1,1,2,2,2,3,3,4,4,4,5,5]\n",
    "print(duplicate_val(arr))"
   ]
  },
  {
   "cell_type": "code",
   "execution_count": null,
   "id": "01613f93-1272-4fdd-958a-764e41bc8bd2",
   "metadata": {},
   "outputs": [],
   "source": []
  }
 ],
 "metadata": {
  "kernelspec": {
   "display_name": "Python 3 (ipykernel)",
   "language": "python",
   "name": "python3"
  },
  "language_info": {
   "codemirror_mode": {
    "name": "ipython",
    "version": 3
   },
   "file_extension": ".py",
   "mimetype": "text/x-python",
   "name": "python",
   "nbconvert_exporter": "python",
   "pygments_lexer": "ipython3",
   "version": "3.10.8"
  }
 },
 "nbformat": 4,
 "nbformat_minor": 5
}
