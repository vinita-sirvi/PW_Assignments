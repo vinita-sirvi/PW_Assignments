{
 "cells": [
  {
   "cell_type": "code",
   "execution_count": 1,
   "id": "8b6a7b1a-3ff5-4b22-be3e-d3b2d7aa7e3a",
   "metadata": {},
   "outputs": [],
   "source": [
    "class a :\n",
    "    \n",
    "    def test(self):\n",
    "        print(\"this test method is a part of class a\")\n",
    "        \n",
    "    def test1(self):\n",
    "        print(\"this is test1 from class a \")"
   ]
  },
  {
   "cell_type": "code",
   "execution_count": 3,
   "id": "8e4d306f-fdb4-47a0-a93d-597f5b21d30b",
   "metadata": {},
   "outputs": [],
   "source": [
    "obj_a = a()"
   ]
  },
  {
   "cell_type": "code",
   "execution_count": 5,
   "id": "81ef5597-cf96-4ed9-a4f6-21e2e93aca70",
   "metadata": {},
   "outputs": [
    {
     "name": "stdout",
     "output_type": "stream",
     "text": [
      "this test method is a part of class a\n"
     ]
    }
   ],
   "source": [
    "obj_a.test()"
   ]
  },
  {
   "cell_type": "code",
   "execution_count": 7,
   "id": "11ee63d6-433d-48dc-ada0-5dd6771310ba",
   "metadata": {},
   "outputs": [],
   "source": [
    "class b(a) :\n",
    "    def test1b(self):\n",
    "        print(\"this is a part of class b \")"
   ]
  },
  {
   "cell_type": "code",
   "execution_count": 9,
   "id": "badaedfe-57d1-43c6-9193-e5afb0f31dbc",
   "metadata": {},
   "outputs": [],
   "source": [
    "obj_b = b()"
   ]
  },
  {
   "cell_type": "code",
   "execution_count": 11,
   "id": "3ce19f61-ba8e-4050-9d4d-614adfd964c5",
   "metadata": {},
   "outputs": [
    {
     "name": "stdout",
     "output_type": "stream",
     "text": [
      "this test method is a part of class a\n"
     ]
    }
   ],
   "source": [
    "obj_b.test()"
   ]
  },
  {
   "cell_type": "code",
   "execution_count": 13,
   "id": "5e473fae-e094-4407-99df-16a04ab4c80a",
   "metadata": {},
   "outputs": [
    {
     "name": "stdout",
     "output_type": "stream",
     "text": [
      "this is test1 from class a \n"
     ]
    }
   ],
   "source": [
    "obj_b.test1()"
   ]
  },
  {
   "cell_type": "code",
   "execution_count": null,
   "id": "02a8f055-535f-4bc2-adc1-575445f82570",
   "metadata": {},
   "outputs": [],
   "source": []
  },
  {
   "cell_type": "code",
   "execution_count": 17,
   "id": "59361cd3-c0c4-4ddd-abac-cbe3275ade5f",
   "metadata": {},
   "outputs": [],
   "source": [
    "class lecture:\n",
    "    \n",
    "    def topic(self):\n",
    "        print(\"todays class we are discussing about inheritance condept in oops\")\n",
    "        \n",
    "    def timing(self):\n",
    "        print(\"timing for todays class is 9 AM IST\")\n",
    "        \n",
    "    def end_time(self):\n",
    "        print(\"today i will try to end class bit early\")"
   ]
  },
  {
   "cell_type": "code",
   "execution_count": 19,
   "id": "6e3dd2de-883e-4e9e-98a0-4a7089af1627",
   "metadata": {},
   "outputs": [],
   "source": [
    "class student(lecture):\n",
    "    \n",
    "    def student_details(self):\n",
    "        print(\"this class will give you a student details\")"
   ]
  },
  {
   "cell_type": "code",
   "execution_count": 21,
   "id": "c2ad2a89-0f29-4410-86c4-e33f47b4186d",
   "metadata": {},
   "outputs": [],
   "source": [
    "naval = student()"
   ]
  },
  {
   "cell_type": "code",
   "execution_count": 23,
   "id": "38c86e7f-5560-464a-b597-c88a74819f1a",
   "metadata": {},
   "outputs": [
    {
     "name": "stdout",
     "output_type": "stream",
     "text": [
      "todays class we are discussing about inheritance condept in oops\n"
     ]
    }
   ],
   "source": [
    "naval.topic()"
   ]
  },
  {
   "cell_type": "code",
   "execution_count": 25,
   "id": "02efc8a4-f995-4f85-87d2-620ccc0f61fa",
   "metadata": {},
   "outputs": [
    {
     "name": "stdout",
     "output_type": "stream",
     "text": [
      "timing for todays class is 9 AM IST\n"
     ]
    }
   ],
   "source": [
    "satish = student()\n",
    "satish.timing()"
   ]
  },
  {
   "cell_type": "code",
   "execution_count": 27,
   "id": "03932972-a58b-46e5-a3f8-ffc43c84ce53",
   "metadata": {},
   "outputs": [],
   "source": [
    "class teacher(student):\n",
    "    def details(self):\n",
    "        print(\"this will give you a details about teacher\")"
   ]
  },
  {
   "cell_type": "code",
   "execution_count": 29,
   "id": "fff36c1b-f1e9-467e-b29f-c304aa9feec9",
   "metadata": {},
   "outputs": [
    {
     "name": "stdout",
     "output_type": "stream",
     "text": [
      "timing for todays class is 9 AM IST\n"
     ]
    }
   ],
   "source": [
    "sudh = teacher()\n",
    "sudh.timing()"
   ]
  },
  {
   "cell_type": "code",
   "execution_count": 31,
   "id": "a5e8c94b-de62-4ef5-8eba-81259d83dd3d",
   "metadata": {},
   "outputs": [],
   "source": [
    "class lecture:\n",
    "    def topic(self):\n",
    "        print(\"todays class we are discussing about inheritance condept in oops\")\n",
    "        \n",
    "    def timing(self):\n",
    "        print(\"timing for todays class is 9 AM IST\")\n",
    "        \n",
    "    def end_time(self):\n",
    "        print(\"today i will try to end class bit early\")"
   ]
  },
  {
   "cell_type": "code",
   "execution_count": 33,
   "id": "2007141c-1b71-4cd4-9bed-a3cd8d851baa",
   "metadata": {},
   "outputs": [],
   "source": [
    "class student:\n",
    "    \n",
    "    def student_details(self):\n",
    "        print(\"this class will give you a student details\")\n",
    "        \n",
    "    def timing(self):\n",
    "        print(\"this is a timing fun from student class\")\n",
    "        "
   ]
  },
  {
   "cell_type": "code",
   "execution_count": 35,
   "id": "272860d3-1fac-475b-8c09-0490069224bc",
   "metadata": {},
   "outputs": [],
   "source": [
    "class teacher(lecture,student):\n",
    "    def details(self):\n",
    "        print(\"this will give you a details about teacher\")"
   ]
  },
  {
   "cell_type": "code",
   "execution_count": 37,
   "id": "f4a9ae16-f0e3-4a4a-a003-38773611cd2a",
   "metadata": {},
   "outputs": [],
   "source": [
    "krish = teacher()"
   ]
  },
  {
   "cell_type": "code",
   "execution_count": 39,
   "id": "6dc85f37-219e-4c72-927c-9aebb550fea9",
   "metadata": {},
   "outputs": [
    {
     "name": "stdout",
     "output_type": "stream",
     "text": [
      "timing for todays class is 9 AM IST\n"
     ]
    }
   ],
   "source": [
    "krish.timing()"
   ]
  },
  {
   "cell_type": "code",
   "execution_count": 41,
   "id": "8bcbac88-9172-4a31-a191-9c4b9a1c6eac",
   "metadata": {},
   "outputs": [
    {
     "name": "stdout",
     "output_type": "stream",
     "text": [
      "this class will give you a student details\n"
     ]
    }
   ],
   "source": [
    "krish.student_details()"
   ]
  },
  {
   "cell_type": "markdown",
   "id": "86b47d4f-860e-4702-83a0-0145887ab41a",
   "metadata": {},
   "source": [
    "Problem 1: Bank Account Create a class representing a bank account with attributes like account number, account holder name, and balance. Implement methods to deposit and withdraw money from the account.\n",
    "\n",
    "Problem 2: Employee Management Create a class representing an employee with attributes like employee ID, name, and salary. Implement methods to calculate the yearly bonus and display employee details.\n",
    "\n",
    "Problem 3: Vehicle Rental Create a class representing a vehicle rental system. Implement methods to rent a vehicle, return a vehicle, and display available vehicles.\n",
    "\n",
    "Problem 4: Library Catalog Create classes representing a library and a book. Implement methods to add books to the library, borrow books, and display available books.\n",
    "\n",
    "Problem 5: Product Inventory Create classes representing a product and an inventory system. Implement methods to add products to the inventory, update product quantity, and display available products.\n",
    "\n",
    "Problem 6: Shape Calculation Create a class representing a shape with attributes like length, width, and height. Implement methods to calculate the area and perimeter of the shape.\n",
    "\n",
    "Problem 7: Student Management Create a class representing a student with attributes like student ID, name, and grades. Implement methods to calculate the average grade and display student details.\n",
    "\n",
    "Problem 8: Email Management Create a class representing an email with attributes like sender, recipient, and subject. Implement methods to send an email and display email details.\n",
    "\n",
    "Problem 9: Social Media Profile Create a class representing a social media profile with attributes like username and posts. Implement methods to add posts, display posts, and search for posts by keyword.\n",
    "\n",
    "Problem 10: ToDo List Create a class representing a ToDo list with attributes like tasks and due dates. Implement methods to add tasks, mark tasks as completed, and display pending tasks."
   ]
  },
  {
   "cell_type": "markdown",
   "id": "6a092227-6738-41c5-be21-08a72683cc99",
   "metadata": {},
   "source": [
    "#### Problem 1: Bank Account Create a class representing a bank account with attributes like account number, account holder name, and balance. Implement methods to deposit and withdraw money from the account."
   ]
  },
  {
   "cell_type": "code",
   "execution_count": 48,
   "id": "dd396d44-ced2-4056-a083-beb1c62ddea4",
   "metadata": {},
   "outputs": [
    {
     "name": "stdout",
     "output_type": "stream",
     "text": [
      "Account Number: 123456789\n",
      "Account Holder: John Doe\n",
      "Balance: 1000.0\n",
      "Deposited 500. New balance is 1500.0.\n",
      "Withdrew 300. New balance is 1200.0.\n",
      "Account Number: 123456789\n",
      "Account Holder: John Doe\n",
      "Balance: 1200.0\n"
     ]
    }
   ],
   "source": [
    "class BankAccount:\n",
    "    def __init__(self, account_number, account_holder_name, balance=0.0):\n",
    "        self.account_number = account_number\n",
    "        self.account_holder_name = account_holder_name\n",
    "        self.balance = balance\n",
    "\n",
    "    def deposit(self, amount):\n",
    "        if amount > 0:\n",
    "            self.balance += amount\n",
    "            print(f\"Deposited {amount}. New balance is {self.balance}.\")\n",
    "        else:\n",
    "            print(\"Deposit amount must be positive.\")\n",
    "\n",
    "    def withdraw(self, amount):\n",
    "        if 0 < amount <= self.balance:\n",
    "            self.balance -= amount\n",
    "            print(f\"Withdrew {amount}. New balance is {self.balance}.\")\n",
    "        else:\n",
    "            print(\"Insufficient balance or invalid amount.\")\n",
    "\n",
    "    def __str__(self):\n",
    "        return f\"Account Number: {self.account_number}\\nAccount Holder: {self.account_holder_name}\\nBalance: {self.balance}\"\n",
    "\n",
    "\n",
    "account = BankAccount(\"123456789\", \"John Doe\", 1000.0)\n",
    "print(account)\n",
    "account.deposit(500)\n",
    "account.withdraw(300)\n",
    "print(account)\n"
   ]
  },
  {
   "cell_type": "markdown",
   "id": "9ca6dafa-7221-489e-aff3-e1401be5e567",
   "metadata": {},
   "source": [
    "#### Problem 2: Employee Management Create a class representing an employee with attributes like employee ID, name, and salary. Implement methods to calculate the yearly bonus and display employee details."
   ]
  },
  {
   "cell_type": "code",
   "execution_count": 53,
   "id": "dc6a2c5f-f06a-4e95-820c-585d9fc1673a",
   "metadata": {},
   "outputs": [
    {
     "name": "stdout",
     "output_type": "stream",
     "text": [
      "Employee ID: E123\n",
      "Name: Alice Smith\n",
      "Salary: 75000\n",
      "Yearly Bonus: 7500.0\n"
     ]
    }
   ],
   "source": [
    "class Employee:\n",
    "    def __init__(self, employee_id, name, salary):\n",
    "        self.employee_id = employee_id\n",
    "        self.name = name\n",
    "        self.salary = salary\n",
    "\n",
    "    def calculate_yearly_bonus(self, bonus_percentage):\n",
    "        bonus = self.salary * (bonus_percentage / 100)\n",
    "        return bonus\n",
    "\n",
    "    def display_details(self):\n",
    "        print(f\"Employee ID: {self.employee_id}\")\n",
    "        print(f\"Name: {self.name}\")\n",
    "        print(f\"Salary: {self.salary}\")\n",
    "\n",
    "\n",
    "employee = Employee(\"E123\", \"Alice Smith\", 75000)\n",
    "employee.display_details()\n",
    "bonus = employee.calculate_yearly_bonus(10)\n",
    "print(f\"Yearly Bonus: {bonus}\")\n"
   ]
  },
  {
   "cell_type": "markdown",
   "id": "8ae1e09c-b24a-46b5-9e96-077d53b56e9e",
   "metadata": {},
   "source": [
    "#### Problem 3: Vehicle Rental Create a class representing a vehicle rental system. Implement methods to rent a vehicle, return a vehicle, and display available vehicles."
   ]
  },
  {
   "cell_type": "code",
   "execution_count": 56,
   "id": "dd613d17-e2a3-4edb-8a66-263c596bd7c9",
   "metadata": {},
   "outputs": [
    {
     "name": "stdout",
     "output_type": "stream",
     "text": [
      "Vehicle Toyota Corolla added to the fleet.\n",
      "Vehicle Honda Civic added to the fleet.\n",
      "Vehicle Ford Focus added to the fleet.\n",
      "Available vehicles:\n",
      "Toyota Corolla\n",
      "Honda Civic\n",
      "Ford Focus\n",
      "Vehicle Honda Civic has been rented.\n",
      "Available vehicles:\n",
      "Toyota Corolla\n",
      "Ford Focus\n",
      "Vehicle Honda Civic has been returned.\n",
      "Available vehicles:\n",
      "Toyota Corolla\n",
      "Ford Focus\n",
      "Honda Civic\n"
     ]
    }
   ],
   "source": [
    "class VehicleRental:\n",
    "    def __init__(self):\n",
    "        self.available_vehicles = []\n",
    "\n",
    "    def add_vehicle(self, vehicle):\n",
    "        self.available_vehicles.append(vehicle)\n",
    "        print(f\"Vehicle {vehicle} added to the fleet.\")\n",
    "\n",
    "    def rent_vehicle(self, vehicle):\n",
    "        if vehicle in self.available_vehicles:\n",
    "            self.available_vehicles.remove(vehicle)\n",
    "            print(f\"Vehicle {vehicle} has been rented.\")\n",
    "        else:\n",
    "            print(f\"Vehicle {vehicle} is not available for rent.\")\n",
    "\n",
    "    def return_vehicle(self, vehicle):\n",
    "        self.available_vehicles.append(vehicle)\n",
    "        print(f\"Vehicle {vehicle} has been returned.\")\n",
    "\n",
    "    def display_available_vehicles(self):\n",
    "        if self.available_vehicles:\n",
    "            print(\"Available vehicles:\")\n",
    "            for vehicle in self.available_vehicles:\n",
    "                print(vehicle)\n",
    "        else:\n",
    "            print(\"No vehicles available.\")\n",
    "\n",
    "\n",
    "rental_system = VehicleRental()\n",
    "rental_system.add_vehicle(\"Toyota Corolla\")\n",
    "rental_system.add_vehicle(\"Honda Civic\")\n",
    "rental_system.add_vehicle(\"Ford Focus\")\n",
    "\n",
    "rental_system.display_available_vehicles()\n",
    "\n",
    "rental_system.rent_vehicle(\"Honda Civic\")\n",
    "rental_system.display_available_vehicles()\n",
    "\n",
    "rental_system.return_vehicle(\"Honda Civic\")\n",
    "rental_system.display_available_vehicles()\n"
   ]
  },
  {
   "cell_type": "markdown",
   "id": "20812112-bdb8-4e2a-9485-c76fdd56b024",
   "metadata": {},
   "source": [
    "#### Problem 4: Library Catalog Create classes representing a library and a book. Implement methods to add books to the library, borrow books, and display available books."
   ]
  },
  {
   "cell_type": "code",
   "execution_count": 59,
   "id": "693f19dd-87ea-4665-b827-52f7b74084cb",
   "metadata": {},
   "outputs": [
    {
     "name": "stdout",
     "output_type": "stream",
     "text": [
      "Added: To Kill a Mockingbird by Harper Lee (ISBN: 1234567890)\n",
      "Added: 1984 by George Orwell (ISBN: 1234567891)\n",
      "Added: The Great Gatsby by F. Scott Fitzgerald (ISBN: 1234567892)\n",
      "Available books:\n",
      "To Kill a Mockingbird by Harper Lee (ISBN: 1234567890)\n",
      "1984 by George Orwell (ISBN: 1234567891)\n",
      "The Great Gatsby by F. Scott Fitzgerald (ISBN: 1234567892)\n",
      "Borrowed: 1984 by George Orwell (ISBN: 1234567891)\n",
      "Available books:\n",
      "To Kill a Mockingbird by Harper Lee (ISBN: 1234567890)\n",
      "The Great Gatsby by F. Scott Fitzgerald (ISBN: 1234567892)\n",
      "Returned: 1984 by George Orwell (ISBN: 1234567891)\n",
      "Available books:\n",
      "To Kill a Mockingbird by Harper Lee (ISBN: 1234567890)\n",
      "1984 by George Orwell (ISBN: 1234567891)\n",
      "The Great Gatsby by F. Scott Fitzgerald (ISBN: 1234567892)\n"
     ]
    }
   ],
   "source": [
    "class Book:\n",
    "    def __init__(self, title, author, isbn):\n",
    "        self.title = title\n",
    "        self.author = author\n",
    "        self.isbn = isbn\n",
    "        self.is_borrowed = False\n",
    "\n",
    "    def __str__(self):\n",
    "        return f\"{self.title} by {self.author} (ISBN: {self.isbn})\"\n",
    "\n",
    "class Library:\n",
    "    def __init__(self):\n",
    "        self.books = []\n",
    "\n",
    "    def add_book(self, book):\n",
    "        self.books.append(book)\n",
    "        print(f\"Added: {book}\")\n",
    "\n",
    "    def borrow_book(self, isbn):\n",
    "        for book in self.books:\n",
    "            if book.isbn == isbn:\n",
    "                if not book.is_borrowed:\n",
    "                    book.is_borrowed = True\n",
    "                    print(f\"Borrowed: {book}\")\n",
    "                    return\n",
    "                else:\n",
    "                    print(f\"The book '{book.title}' is already borrowed.\")\n",
    "                    return\n",
    "        print(f\"No book found with ISBN: {isbn}\")\n",
    "\n",
    "    def return_book(self, isbn):\n",
    "        for book in self.books:\n",
    "            if book.isbn == isbn:\n",
    "                if book.is_borrowed:\n",
    "                    book.is_borrowed = False\n",
    "                    print(f\"Returned: {book}\")\n",
    "                    return\n",
    "                else:\n",
    "                    print(f\"The book '{book.title}' was not borrowed.\")\n",
    "                    return\n",
    "        print(f\"No book found with ISBN: {isbn}\")\n",
    "\n",
    "    def display_available_books(self):\n",
    "        available_books = [book for book in self.books if not book.is_borrowed]\n",
    "        if available_books:\n",
    "            print(\"Available books:\")\n",
    "            for book in available_books:\n",
    "                print(book)\n",
    "        else:\n",
    "            print(\"No available books.\")\n",
    "\n",
    "\n",
    "library = Library()\n",
    "book1 = Book(\"To Kill a Mockingbird\", \"Harper Lee\", \"1234567890\")\n",
    "book2 = Book(\"1984\", \"George Orwell\", \"1234567891\")\n",
    "book3 = Book(\"The Great Gatsby\", \"F. Scott Fitzgerald\", \"1234567892\")\n",
    "\n",
    "library.add_book(book1)\n",
    "library.add_book(book2)\n",
    "library.add_book(book3)\n",
    "\n",
    "library.display_available_books()\n",
    "\n",
    "library.borrow_book(\"1234567891\")\n",
    "library.display_available_books()\n",
    "\n",
    "library.return_book(\"1234567891\")\n",
    "library.display_available_books()\n"
   ]
  },
  {
   "cell_type": "markdown",
   "id": "b21f4ce7-b0fb-477a-bfe7-5a8571e10380",
   "metadata": {},
   "source": [
    "#### Problem 5: Product Inventory Create classes representing a product and an inventory system. Implement methods to add products to the inventory, update product quantity, and display available products."
   ]
  },
  {
   "cell_type": "code",
   "execution_count": 62,
   "id": "2b41c9c7-1b79-4bc5-9713-1c9e739aaea4",
   "metadata": {},
   "outputs": [
    {
     "name": "stdout",
     "output_type": "stream",
     "text": [
      "Added/Updated: ID: P001, Name: Laptop, Price: 1200.0, Quantity: 10\n",
      "Added/Updated: ID: P002, Name: Smartphone, Price: 800.0, Quantity: 15\n",
      "Added/Updated: ID: P003, Name: Tablet, Price: 500.0, Quantity: 5\n",
      "Available products:\n",
      "ID: P001, Name: Laptop, Price: 1200.0, Quantity: 10\n",
      "ID: P002, Name: Smartphone, Price: 800.0, Quantity: 15\n",
      "ID: P003, Name: Tablet, Price: 500.0, Quantity: 5\n",
      "Updated: ID: P002, Name: Smartphone, Price: 800.0, Quantity: 10\n",
      "Available products:\n",
      "ID: P001, Name: Laptop, Price: 1200.0, Quantity: 10\n",
      "ID: P002, Name: Smartphone, Price: 800.0, Quantity: 10\n",
      "ID: P003, Name: Tablet, Price: 500.0, Quantity: 5\n",
      "Updated: ID: P003, Name: Tablet, Price: 500.0, Quantity: 0\n",
      "Available products:\n",
      "ID: P001, Name: Laptop, Price: 1200.0, Quantity: 10\n",
      "ID: P002, Name: Smartphone, Price: 800.0, Quantity: 10\n"
     ]
    }
   ],
   "source": [
    "class Product:\n",
    "    def __init__(self, product_id, name, price, quantity):\n",
    "        self.product_id = product_id\n",
    "        self.name = name\n",
    "        self.price = price\n",
    "        self.quantity = quantity\n",
    "\n",
    "    def __str__(self):\n",
    "        return f\"ID: {self.product_id}, Name: {self.name}, Price: {self.price}, Quantity: {self.quantity}\"\n",
    "\n",
    "class Inventory:\n",
    "    def __init__(self):\n",
    "        self.products = {}\n",
    "\n",
    "    def add_product(self, product):\n",
    "        if product.product_id in self.products:\n",
    "            print(f\"Product with ID {product.product_id} already exists. Updating quantity.\")\n",
    "            self.products[product.product_id].quantity += product.quantity\n",
    "        else:\n",
    "            self.products[product.product_id] = product\n",
    "        print(f\"Added/Updated: {product}\")\n",
    "\n",
    "    def update_product_quantity(self, product_id, quantity):\n",
    "        if product_id in self.products:\n",
    "            self.products[product_id].quantity += quantity\n",
    "            if self.products[product_id].quantity < 0:\n",
    "                self.products[product_id].quantity = 0\n",
    "            print(f\"Updated: {self.products[product_id]}\")\n",
    "        else:\n",
    "            print(f\"No product found with ID: {product_id}\")\n",
    "\n",
    "    def display_available_products(self):\n",
    "        available_products = [product for product in self.products.values() if product.quantity > 0]\n",
    "        if available_products:\n",
    "            print(\"Available products:\")\n",
    "            for product in available_products:\n",
    "                print(product)\n",
    "        else:\n",
    "            print(\"No available products.\")\n",
    "\n",
    "\n",
    "inventory = Inventory()\n",
    "product1 = Product(\"P001\", \"Laptop\", 1200.0, 10)\n",
    "product2 = Product(\"P002\", \"Smartphone\", 800.0, 15)\n",
    "product3 = Product(\"P003\", \"Tablet\", 500.0, 5)\n",
    "\n",
    "inventory.add_product(product1)\n",
    "inventory.add_product(product2)\n",
    "inventory.add_product(product3)\n",
    "\n",
    "inventory.display_available_products()\n",
    "\n",
    "inventory.update_product_quantity(\"P002\", -5)\n",
    "inventory.display_available_products()\n",
    "\n",
    "inventory.update_product_quantity(\"P003\", -5)\n",
    "inventory.display_available_products()\n"
   ]
  },
  {
   "cell_type": "markdown",
   "id": "ffefbf5c-7815-4a43-bc05-596c6388e3af",
   "metadata": {},
   "source": [
    "#### Problem 6: Shape Calculation Create a class representing a shape with attributes like length, width, and height. Implement methods to calculate the area and perimeter of the shape."
   ]
  },
  {
   "cell_type": "code",
   "execution_count": 65,
   "id": "73f60d14-e603-429a-95ad-b7c4bfa87fcf",
   "metadata": {},
   "outputs": [
    {
     "name": "stdout",
     "output_type": "stream",
     "text": [
      "Shape with length: 10, width: 5\n",
      "Area: 50\n",
      "Perimeter: 30\n"
     ]
    }
   ],
   "source": [
    "class Shape:\n",
    "    def __init__(self, length, width):\n",
    "        self.length = length\n",
    "        self.width = width\n",
    "\n",
    "    def calculate_area(self):\n",
    "        return self.length * self.width\n",
    "\n",
    "    def calculate_perimeter(self):\n",
    "        return 2 * (self.length + self.width)\n",
    "\n",
    "    def __str__(self):\n",
    "        return f\"Shape with length: {self.length}, width: {self.width}\"\n",
    "\n",
    "\n",
    "shape = Shape(10, 5)\n",
    "print(shape)\n",
    "print(f\"Area: {shape.calculate_area()}\")\n",
    "print(f\"Perimeter: {shape.calculate_perimeter()}\")\n"
   ]
  },
  {
   "cell_type": "markdown",
   "id": "eb4faa80-da4f-4bbe-a30e-ea0dbffa1136",
   "metadata": {},
   "source": [
    "#### Problem 7: Student Management Create a class representing a student with attributes like student ID, name, and grades. Implement methods to calculate the average grade and display student details."
   ]
  },
  {
   "cell_type": "code",
   "execution_count": 68,
   "id": "c6b1a702-b307-4488-80c2-dc64c5dc96c1",
   "metadata": {},
   "outputs": [
    {
     "name": "stdout",
     "output_type": "stream",
     "text": [
      "Student ID: S001\n",
      "Name: John Doe\n",
      "Grades: [90, 85, 88]\n",
      "Average Grade: 87.67\n"
     ]
    }
   ],
   "source": [
    "class Student:\n",
    "    def __init__(self, student_id, name, grades=None):\n",
    "        self.student_id = student_id\n",
    "        self.name = name\n",
    "        self.grades = grades if grades is not None else []\n",
    "\n",
    "    def add_grade(self, grade):\n",
    "        self.grades.append(grade)\n",
    "\n",
    "    def calculate_average_grade(self):\n",
    "        if not self.grades:\n",
    "            return 0\n",
    "        return sum(self.grades) / len(self.grades)\n",
    "\n",
    "    def display_details(self):\n",
    "        print(f\"Student ID: {self.student_id}\")\n",
    "        print(f\"Name: {self.name}\")\n",
    "        print(f\"Grades: {self.grades}\")\n",
    "        print(f\"Average Grade: {self.calculate_average_grade():.2f}\")\n",
    "\n",
    "\n",
    "student = Student(\"S001\", \"John Doe\")\n",
    "student.add_grade(90)\n",
    "student.add_grade(85)\n",
    "student.add_grade(88)\n",
    "\n",
    "student.display_details()\n"
   ]
  },
  {
   "cell_type": "markdown",
   "id": "214d65b4-67b8-4e6b-ae01-1b75e0f2cf8c",
   "metadata": {},
   "source": [
    "#### Problem 8: Email Management Create a class representing an email with attributes like sender, recipient, and subject. Implement methods to send an email and display email details."
   ]
  },
  {
   "cell_type": "code",
   "execution_count": 71,
   "id": "a4eccd55-33f0-45e8-a24b-4dc8cbb41c44",
   "metadata": {},
   "outputs": [
    {
     "name": "stdout",
     "output_type": "stream",
     "text": [
      "Sender: alice@example.com\n",
      "Recipient: bob@example.com\n",
      "Subject: Meeting Reminder\n",
      "Body: Don't forget about the meeting tomorrow at 10 AM.\n",
      "Status: Not Sent\n",
      "Email sent to bob@example.com with subject: Meeting Reminder\n",
      "Sender: alice@example.com\n",
      "Recipient: bob@example.com\n",
      "Subject: Meeting Reminder\n",
      "Body: Don't forget about the meeting tomorrow at 10 AM.\n",
      "Status: Sent\n"
     ]
    }
   ],
   "source": [
    "class Email:\n",
    "    def __init__(self, sender, recipient, subject, body):\n",
    "        self.sender = sender\n",
    "        self.recipient = recipient\n",
    "        self.subject = subject\n",
    "        self.body = body\n",
    "        self.sent = False\n",
    "\n",
    "    def send_email(self):\n",
    "        if not self.sent:\n",
    "            self.sent = True\n",
    "            print(f\"Email sent to {self.recipient} with subject: {self.subject}\")\n",
    "        else:\n",
    "            print(\"Email has already been sent.\")\n",
    "\n",
    "    def display_details(self):\n",
    "        print(f\"Sender: {self.sender}\")\n",
    "        print(f\"Recipient: {self.recipient}\")\n",
    "        print(f\"Subject: {self.subject}\")\n",
    "        print(f\"Body: {self.body}\")\n",
    "        print(f\"Status: {'Sent' if self.sent else 'Not Sent'}\")\n",
    "\n",
    "email = Email(\"alice@example.com\", \"bob@example.com\", \"Meeting Reminder\", \"Don't forget about the meeting tomorrow at 10 AM.\")\n",
    "email.display_details()\n",
    "email.send_email()\n",
    "email.display_details()\n"
   ]
  },
  {
   "cell_type": "markdown",
   "id": "f57c6e80-b1ed-47ea-8546-fb4c5b169262",
   "metadata": {},
   "source": [
    "#### Problem 9: Social Media Profile Create a class representing a social media profile with attributes like username and posts. Implement methods to add posts, display posts, and search for posts by keyword."
   ]
  },
  {
   "cell_type": "code",
   "execution_count": 74,
   "id": "64cd64b0-315f-4418-b68c-099497a8bdec",
   "metadata": {},
   "outputs": [
    {
     "name": "stdout",
     "output_type": "stream",
     "text": [
      "Post added: Had a great day at the beach!\n",
      "Post added: Just finished reading a fantastic book.\n",
      "Post added: Looking forward to the weekend.\n",
      "Posts by john_doe:\n",
      "1. Had a great day at the beach!\n",
      "2. Just finished reading a fantastic book.\n",
      "3. Looking forward to the weekend.\n",
      "Posts containing 'great':\n",
      "Had a great day at the beach!\n",
      "No posts found containing the keyword 'holiday'.\n"
     ]
    }
   ],
   "source": [
    "class SocialMediaProfile:\n",
    "    def __init__(self, username):\n",
    "        self.username = username\n",
    "        self.posts = []\n",
    "\n",
    "    def add_post(self, post):\n",
    "        self.posts.append(post)\n",
    "        print(f\"Post added: {post}\")\n",
    "\n",
    "    def display_posts(self):\n",
    "        if not self.posts:\n",
    "            print(f\"{self.username} has no posts.\")\n",
    "        else:\n",
    "            print(f\"Posts by {self.username}:\")\n",
    "            for i, post in enumerate(self.posts, 1):\n",
    "                print(f\"{i}. {post}\")\n",
    "\n",
    "    def search_posts_by_keyword(self, keyword):\n",
    "        found_posts = [post for post in self.posts if keyword.lower() in post.lower()]\n",
    "        if not found_posts:\n",
    "            print(f\"No posts found containing the keyword '{keyword}'.\")\n",
    "        else:\n",
    "            print(f\"Posts containing '{keyword}':\")\n",
    "            for post in found_posts:\n",
    "                print(post)\n",
    "\n",
    "profile = SocialMediaProfile(\"john_doe\")\n",
    "profile.add_post(\"Had a great day at the beach!\")\n",
    "profile.add_post(\"Just finished reading a fantastic book.\")\n",
    "profile.add_post(\"Looking forward to the weekend.\")\n",
    "\n",
    "profile.display_posts()\n",
    "profile.search_posts_by_keyword(\"great\")\n",
    "profile.search_posts_by_keyword(\"holiday\")\n"
   ]
  },
  {
   "cell_type": "markdown",
   "id": "688a91e3-4d54-43df-82cc-90013a87db2b",
   "metadata": {},
   "source": [
    "#### Problem 10: ToDo List Create a class representing a ToDo list with attributes like tasks and due dates. Implement methods to add tasks, mark tasks as completed, and display pending tasks."
   ]
  },
  {
   "cell_type": "code",
   "execution_count": 79,
   "id": "21424140-1463-41a5-8d06-9f407430d5fd",
   "metadata": {},
   "outputs": [
    {
     "name": "stdout",
     "output_type": "stream",
     "text": [
      "Task added: Finish project\n",
      "Task added: Buy groceries\n",
      "Task added: Call client\n",
      "Pending tasks:\n",
      "1. Finish project\n",
      "2. Buy groceries\n",
      "   Due Date: 2024-07-20\n",
      "3. Call client\n",
      "   Due Date: 2024-07-18\n",
      "Task marked as completed: Buy groceries\n",
      "Pending tasks:\n",
      "1. Finish project\n",
      "2. Call client\n",
      "   Due Date: 2024-07-18\n",
      "Task marked as completed: Call client\n"
     ]
    }
   ],
   "source": [
    "class ToDoList:\n",
    "    def __init__(self):\n",
    "        self.tasks = []\n",
    "\n",
    "    def add_task(self, task, due_date=None):\n",
    "        self.tasks.append({\"task\": task, \"due_date\": due_date, \"completed\": False})\n",
    "        print(f\"Task added: {task}\")\n",
    "\n",
    "    def mark_task_completed(self, task_index):\n",
    "        if 0 <= task_index < len(self.tasks):\n",
    "            self.tasks[task_index][\"completed\"] = True\n",
    "            print(f\"Task marked as completed: {self.tasks[task_index]['task']}\")\n",
    "        else:\n",
    "            print(f\"Invalid task index: {task_index}. Task not marked as completed.\")\n",
    "\n",
    "    def display_pending_tasks(self):\n",
    "        pending_tasks = [task for task in self.tasks if not task[\"completed\"]]\n",
    "        if pending_tasks:\n",
    "            print(\"Pending tasks:\")\n",
    "            for i, task in enumerate(pending_tasks, 1):\n",
    "                print(f\"{i}. {task['task']}\")\n",
    "                if task['due_date']:\n",
    "                    print(f\"   Due Date: {task['due_date']}\")\n",
    "        else:\n",
    "            print(\"No pending tasks.\")\n",
    "\n",
    "\n",
    "todo_list = ToDoList()\n",
    "todo_list.add_task(\"Finish project\")\n",
    "todo_list.add_task(\"Buy groceries\", \"2024-07-20\")\n",
    "todo_list.add_task(\"Call client\", \"2024-07-18\")\n",
    "\n",
    "todo_list.display_pending_tasks()\n",
    "\n",
    "todo_list.mark_task_completed(1)\n",
    "todo_list.display_pending_tasks()\n",
    "\n",
    "todo_list.mark_task_completed(2)\n"
   ]
  },
  {
   "cell_type": "code",
   "execution_count": null,
   "id": "34a1edd8-d4fe-43ce-b710-2072020b6863",
   "metadata": {},
   "outputs": [],
   "source": []
  }
 ],
 "metadata": {
  "kernelspec": {
   "display_name": "Python 3 (ipykernel)",
   "language": "python",
   "name": "python3"
  },
  "language_info": {
   "codemirror_mode": {
    "name": "ipython",
    "version": 3
   },
   "file_extension": ".py",
   "mimetype": "text/x-python",
   "name": "python",
   "nbconvert_exporter": "python",
   "pygments_lexer": "ipython3",
   "version": "3.12.4"
  }
 },
 "nbformat": 4,
 "nbformat_minor": 5
}
