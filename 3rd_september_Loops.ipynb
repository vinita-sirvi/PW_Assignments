{
 "cells": [
  {
   "cell_type": "markdown",
   "id": "b562f19a-d7e5-43a0-a485-a21a2394c3f7",
   "metadata": {},
   "source": [
    "### 1. Write a Python program to print the numbers from 1 to 10 using a `for` loop."
   ]
  },
  {
   "cell_type": "code",
   "execution_count": 1,
   "id": "6c03b272-a8ea-43ca-ae4b-40265957c306",
   "metadata": {},
   "outputs": [
    {
     "name": "stdout",
     "output_type": "stream",
     "text": [
      "1\n",
      "2\n",
      "3\n",
      "4\n",
      "5\n",
      "6\n",
      "7\n",
      "8\n",
      "9\n",
      "10\n"
     ]
    }
   ],
   "source": [
    "for i in range(1,11):\n",
    "    print(i)"
   ]
  },
  {
   "cell_type": "markdown",
   "id": "dc221753-8cfc-44b6-9f87-e4d1024df01d",
   "metadata": {},
   "source": [
    "### 2. Create a program that calculates the sum of all numbers in a list using a `for` loop."
   ]
  },
  {
   "cell_type": "code",
   "execution_count": 12,
   "id": "b838568c-d940-4a84-917d-e8ef6d00d941",
   "metadata": {},
   "outputs": [
    {
     "name": "stdout",
     "output_type": "stream",
     "text": [
      "The sum of the numbers in the list is: 46\n"
     ]
    }
   ],
   "source": [
    "numbers = [1, 2, 3, 4, 5,31]\n",
    "sum=0\n",
    "for number in numbers:\n",
    "    sum += number\n",
    "print(\"The sum of the numbers in the list is:\",sum)"
   ]
  },
  {
   "cell_type": "markdown",
   "id": "15d1c65e-21f5-44e6-bba3-37166d192918",
   "metadata": {},
   "source": [
    "### 3. Write a program to print the characters of a string in reverse order using a `for` loop."
   ]
  },
  {
   "cell_type": "code",
   "execution_count": 13,
   "id": "94e5a3ed-dd43-4d0f-8d13-709c9406dea4",
   "metadata": {},
   "outputs": [
    {
     "name": "stdout",
     "output_type": "stream",
     "text": [
      "iniv\n"
     ]
    }
   ],
   "source": [
    "s =\"vini\"\n",
    "r_str=\"\"\n",
    "for char in reversed(s):\n",
    "    r_str += char\n",
    "print(r_str) "
   ]
  },
  {
   "cell_type": "markdown",
   "id": "c8409431-dfb1-4621-8e8c-34ae4747a8b0",
   "metadata": {
    "tags": []
   },
   "source": [
    "### 4. Develop a program that finds the factorial of a given number using a `for` loop."
   ]
  },
  {
   "cell_type": "code",
   "execution_count": 2,
   "id": "92b548c4-b9c2-4d6f-998f-45d3a2f1781b",
   "metadata": {},
   "outputs": [
    {
     "name": "stdin",
     "output_type": "stream",
     "text": [
      "Enter a number:  9\n"
     ]
    },
    {
     "name": "stdout",
     "output_type": "stream",
     "text": [
      "The factorial of 9 is 362880\n"
     ]
    }
   ],
   "source": [
    "num = int(input(\"Enter a number: \"))\n",
    "factorial = 1\n",
    "if num < 0:\n",
    "    print(\"Factorial is not defined for negative numbers.\")\n",
    "elif num == 0:\n",
    "    print(\"The factorial of 0 is 1.\")\n",
    "else:\n",
    "    for i in range(1, num + 1):\n",
    "        factorial *= i\n",
    "    print(\"The factorial of\", num, \"is\", factorial)"
   ]
  },
  {
   "cell_type": "markdown",
   "id": "225bfcff-70c8-42af-afbb-33c6ee489e48",
   "metadata": {},
   "source": [
    "### 5. Create a program to print the multiplication table of a given number using a `for` loop."
   ]
  },
  {
   "cell_type": "code",
   "execution_count": 1,
   "id": "4f19e91f-4539-4415-a456-84773f5f77b5",
   "metadata": {},
   "outputs": [
    {
     "name": "stdin",
     "output_type": "stream",
     "text": [
      "Enter a number:  6\n"
     ]
    },
    {
     "name": "stdout",
     "output_type": "stream",
     "text": [
      "Multiplication Table of 6:\n",
      "6 x 1 = 6\n",
      "6 x 2 = 12\n",
      "6 x 3 = 18\n",
      "6 x 4 = 24\n",
      "6 x 5 = 30\n",
      "6 x 6 = 36\n",
      "6 x 7 = 42\n",
      "6 x 8 = 48\n",
      "6 x 9 = 54\n",
      "6 x 10 = 60\n"
     ]
    }
   ],
   "source": [
    "number = int(input(\"Enter a number: \"))\n",
    "\n",
    "print(f\"Multiplication Table of {number}:\")\n",
    "for i in range(1, 11):\n",
    "    print(f\"{number} x {i} = {number * i}\")\n"
   ]
  },
  {
   "cell_type": "markdown",
   "id": "4201ea24-3f5c-4923-b870-2027f843cc72",
   "metadata": {},
   "source": [
    "### 6. Write a program that counts the number of even and odd numbers in a list using a `for` loop."
   ]
  },
  {
   "cell_type": "code",
   "execution_count": 5,
   "id": "09211f0a-8fb7-4d2e-8d8c-d567e0b613c1",
   "metadata": {},
   "outputs": [
    {
     "name": "stdout",
     "output_type": "stream",
     "text": [
      "Number of even numbers: 5\n",
      "Number of odd numbers: 4\n"
     ]
    }
   ],
   "source": [
    "numbers = [2, 5, 7, 10, 11, 12, 15, 16, 18]\n",
    "\n",
    "even_count = 0\n",
    "odd_count = 0\n",
    "\n",
    "for num in numbers:\n",
    "    if num % 2 == 0:\n",
    "        even_count += 1\n",
    "    else:\n",
    "        odd_count += 1\n",
    "\n",
    "print(f\"Number of even numbers: {even_count}\")\n",
    "print(f\"Number of odd numbers: {odd_count}\")\n"
   ]
  },
  {
   "cell_type": "markdown",
   "id": "0bce8a68-5ca2-488e-889e-827104d9f067",
   "metadata": {},
   "source": [
    "### 7. Develop a program that prints the squares of numbers from 1 to 5 using a `for` loop."
   ]
  },
  {
   "cell_type": "code",
   "execution_count": 3,
   "id": "1c538af6-de04-4a4e-ae10-4464e18dc190",
   "metadata": {},
   "outputs": [
    {
     "name": "stdout",
     "output_type": "stream",
     "text": [
      "Squares of numbers from 1 to 5:\n",
      "The square of 1 is 1\n",
      "The square of 2 is 4\n",
      "The square of 3 is 9\n",
      "The square of 4 is 16\n",
      "The square of 5 is 25\n"
     ]
    }
   ],
   "source": [
    "print(\"Squares of numbers from 1 to 5:\")\n",
    "for i in range(1, 6):\n",
    "    square = i ** 2\n",
    "    print(f\"The square of {i} is {square}\")"
   ]
  },
  {
   "cell_type": "markdown",
   "id": "14037c9c-e520-4a2e-9917-8d7461dfc11e",
   "metadata": {},
   "source": [
    "### 8. Create a program to find the length of a string without using the `len()` function."
   ]
  },
  {
   "cell_type": "code",
   "execution_count": 6,
   "id": "09925da9-29c3-485c-8f94-0b9474b24427",
   "metadata": {},
   "outputs": [
    {
     "name": "stdout",
     "output_type": "stream",
     "text": [
      "The length of the string is: 13\n"
     ]
    }
   ],
   "source": [
    "input_string = \"Hello, World!\"\n",
    "count = 0\n",
    "\n",
    "for _ in input_string:\n",
    "    count += 1\n",
    "\n",
    "print(f\"The length of the string is: {count}\")\n"
   ]
  },
  {
   "cell_type": "markdown",
   "id": "2be1b15c-1175-4a0c-9591-c60489d89150",
   "metadata": {},
   "source": [
    "### 9. Write a program that calculates the average of a list of numbers using a `for` loop."
   ]
  },
  {
   "cell_type": "code",
   "execution_count": 9,
   "id": "f13b3ea9-34ae-4db4-80f9-432fd5169ed7",
   "metadata": {},
   "outputs": [
    {
     "name": "stdout",
     "output_type": "stream",
     "text": [
      "The average of the numbers is: 20.0\n"
     ]
    }
   ],
   "source": [
    "numbers = [5, 10, 15, 20, 25, 30, 35]\n",
    "\n",
    "total = 0\n",
    "count = 0\n",
    "\n",
    "for num in numbers:\n",
    "    total += num\n",
    "    count += 1\n",
    "\n",
    "if count == 0:\n",
    "    print(\"Cannot calculate average of an empty list\")\n",
    "else:\n",
    "    average = total / count\n",
    "    print(f\"The average of the numbers is: {average}\")\n"
   ]
  },
  {
   "cell_type": "markdown",
   "id": "33c738dd-713d-4d99-b6ef-1ad698688dab",
   "metadata": {},
   "source": [
    "### 10. Develop a program that prints the first `n` Fibonacci numbers using a `for` loop."
   ]
  },
  {
   "cell_type": "code",
   "execution_count": 11,
   "id": "9933b14d-b957-443e-8265-cf12085a9790",
   "metadata": {},
   "outputs": [
    {
     "name": "stdout",
     "output_type": "stream",
     "text": [
      "The first 10 Fibonacci numbers are: [0, 1, 1, 2, 3, 5, 8, 13, 21, 34]\n"
     ]
    }
   ],
   "source": [
    "n = 10  # Replace with the number of Fibonacci numbers you want to print\n",
    "\n",
    "fib_list = []\n",
    "\n",
    "if n >= 1:\n",
    "    fib_list.append(0)\n",
    "if n >= 2:\n",
    "    fib_list.append(1)\n",
    "\n",
    "for i in range(2, n):\n",
    "    fib_list.append(fib_list[i - 1] + fib_list[i - 2])\n",
    "\n",
    "print(f\"The first {n} Fibonacci numbers are: {fib_list}\")\n"
   ]
  },
  {
   "cell_type": "markdown",
   "id": "e3a90cbf-141e-440f-ac11-0effd9815fab",
   "metadata": {},
   "source": [
    "### 11. Write a program to check if a given list contains any duplicates using a `for` loop."
   ]
  },
  {
   "cell_type": "code",
   "execution_count": 14,
   "id": "088acff1-f291-4d82-9f71-169937d7a611",
   "metadata": {},
   "outputs": [
    {
     "name": "stdout",
     "output_type": "stream",
     "text": [
      "The list contains duplicates.\n"
     ]
    }
   ],
   "source": [
    "my_list = [1, 2, 3, 4, 5, 6, 3]\n",
    "\n",
    "has_duplicates = False\n",
    "\n",
    "for i in range(len(my_list)):\n",
    "    for j in range(i + 1, len(my_list)):\n",
    "        if my_list[i] == my_list[j]:\n",
    "            has_duplicates = True\n",
    "            break\n",
    "\n",
    "if has_duplicates:\n",
    "    print(\"The list contains duplicates.\")\n",
    "else:\n",
    "    print(\"The list does not contain duplicates.\")"
   ]
  },
  {
   "cell_type": "markdown",
   "id": "df33592f-2d6a-4645-9afe-ed206022393d",
   "metadata": {},
   "source": [
    "### 12. Create a program that prints the prime numbers in a given range using a `for` loop."
   ]
  },
  {
   "cell_type": "code",
   "execution_count": 2,
   "id": "fb94afbb-50ed-4e11-a7ec-8e39fcef77a4",
   "metadata": {},
   "outputs": [
    {
     "name": "stdout",
     "output_type": "stream",
     "text": [
      "Prime numbers between 1 and 30:\n",
      "2\n",
      "3\n",
      "5\n",
      "7\n",
      "11\n",
      "13\n",
      "17\n",
      "19\n",
      "23\n",
      "29\n"
     ]
    }
   ],
   "source": [
    "start_range = 1\n",
    "end_range = 30\n",
    "\n",
    "print(f\"Prime numbers between {start_range} and {end_range}:\")\n",
    "for num in range(start_range, end_range + 1):\n",
    "    if num > 1:\n",
    "        is_prime = True\n",
    "        for i in range(2, int(num ** 0.5) + 1):\n",
    "            if num % i == 0:\n",
    "                is_prime = False\n",
    "                break\n",
    "        if is_prime:\n",
    "            print(num)"
   ]
  },
  {
   "cell_type": "markdown",
   "id": "8e732abe-83ed-4d51-9cba-f1cff27bc5b4",
   "metadata": {},
   "source": [
    "### 13. Develop a program that counts the number of vowels in a string using a `for` loop."
   ]
  },
  {
   "cell_type": "code",
   "execution_count": 5,
   "id": "fbd71ac5-854a-4c0b-9f12-83e0fb75c91d",
   "metadata": {},
   "outputs": [
    {
     "name": "stdin",
     "output_type": "stream",
     "text": [
      "Enter a string:  vinita choudhary\n"
     ]
    },
    {
     "name": "stdout",
     "output_type": "stream",
     "text": [
      "The number of vowels in the string is: 6\n"
     ]
    }
   ],
   "source": [
    "string = input(\"Enter a string: \")\n",
    "\n",
    "lowercase_string = string.lower()\n",
    "\n",
    "vowels = \"aeiou\"\n",
    "\n",
    "vowel_count = sum(lowercase_string.count(vowel) for vowel in vowels)\n",
    "\n",
    "print(f\"The number of vowels in the string is: {vowel_count}\")\n"
   ]
  },
  {
   "cell_type": "markdown",
   "id": "8246c429-3480-42b0-ba6f-44e934d47b14",
   "metadata": {},
   "source": [
    "### 14. Write a program to find the maximum element in a 2D list using a nested `for` loop."
   ]
  },
  {
   "cell_type": "code",
   "execution_count": 1,
   "id": "8e68e609-cc97-44f9-9309-ffb3b6fb6d27",
   "metadata": {},
   "outputs": [
    {
     "name": "stdout",
     "output_type": "stream",
     "text": [
      "Maximum element in the 2D list: 9\n"
     ]
    }
   ],
   "source": [
    "matrix = [\n",
    "    [3, 7, 2],\n",
    "    [9, 4, 6],\n",
    "    [5, 1, 8]\n",
    "]\n",
    "\n",
    "# Initialize max_element with the minimum possible value\n",
    "max_element = float('-inf')\n",
    "\n",
    "for row in matrix:\n",
    "    for element in row:\n",
    "        if element > max_element:\n",
    "            max_element = element\n",
    "\n",
    "print(\"Maximum element in the 2D list:\", max_element)\n"
   ]
  },
  {
   "cell_type": "markdown",
   "id": "a847974d-dbff-48fe-ad03-864585f5f683",
   "metadata": {},
   "source": [
    "### 15. Create a program that removes all occurrences of a specific element from a list using a `for` loop"
   ]
  },
  {
   "cell_type": "code",
   "execution_count": 2,
   "id": "ea8f27d6-e762-4541-a58f-83e8896388ec",
   "metadata": {},
   "outputs": [
    {
     "name": "stdout",
     "output_type": "stream",
     "text": [
      "Original list: [4, 2, 5, 2, 8, 2, 9]\n",
      "List after removing element 2 : [4, 5, 8, 9]\n"
     ]
    }
   ],
   "source": [
    "my_list = [4, 2, 5, 2, 8, 2, 9]\n",
    "element_to_remove = 2\n",
    "\n",
    "print(\"Original list:\", my_list)\n",
    "\n",
    "index = 0\n",
    "while index < len(my_list):\n",
    "    if my_list[index] == element_to_remove:\n",
    "        my_list.pop(index)\n",
    "    else:\n",
    "        index += 1\n",
    "\n",
    "print(\"List after removing element\", element_to_remove, \":\", my_list)\n"
   ]
  },
  {
   "cell_type": "markdown",
   "id": "82590a99-be5f-4e71-9708-86bf9907d298",
   "metadata": {},
   "source": [
    "### 16. Develop a program that generates a multiplication table for numbers from 1 to 5 using a nested `for` loop ."
   ]
  },
  {
   "cell_type": "code",
   "execution_count": 4,
   "id": "e0b9bf4d-22cf-4e4f-8d2d-1bf463955eda",
   "metadata": {},
   "outputs": [
    {
     "name": "stdout",
     "output_type": "stream",
     "text": [
      "Multiplication table for 1:\n",
      "1 x 1 = 1\n",
      "1 x 2 = 2\n",
      "1 x 3 = 3\n",
      "1 x 4 = 4\n",
      "1 x 5 = 5\n",
      "1 x 6 = 6\n",
      "1 x 7 = 7\n",
      "1 x 8 = 8\n",
      "1 x 9 = 9\n",
      "1 x 10 = 10\n",
      "\n",
      "Multiplication table for 2:\n",
      "2 x 1 = 2\n",
      "2 x 2 = 4\n",
      "2 x 3 = 6\n",
      "2 x 4 = 8\n",
      "2 x 5 = 10\n",
      "2 x 6 = 12\n",
      "2 x 7 = 14\n",
      "2 x 8 = 16\n",
      "2 x 9 = 18\n",
      "2 x 10 = 20\n",
      "\n",
      "Multiplication table for 3:\n",
      "3 x 1 = 3\n",
      "3 x 2 = 6\n",
      "3 x 3 = 9\n",
      "3 x 4 = 12\n",
      "3 x 5 = 15\n",
      "3 x 6 = 18\n",
      "3 x 7 = 21\n",
      "3 x 8 = 24\n",
      "3 x 9 = 27\n",
      "3 x 10 = 30\n",
      "\n",
      "Multiplication table for 4:\n",
      "4 x 1 = 4\n",
      "4 x 2 = 8\n",
      "4 x 3 = 12\n",
      "4 x 4 = 16\n",
      "4 x 5 = 20\n",
      "4 x 6 = 24\n",
      "4 x 7 = 28\n",
      "4 x 8 = 32\n",
      "4 x 9 = 36\n",
      "4 x 10 = 40\n",
      "\n",
      "Multiplication table for 5:\n",
      "5 x 1 = 5\n",
      "5 x 2 = 10\n",
      "5 x 3 = 15\n",
      "5 x 4 = 20\n",
      "5 x 5 = 25\n",
      "5 x 6 = 30\n",
      "5 x 7 = 35\n",
      "5 x 8 = 40\n",
      "5 x 9 = 45\n",
      "5 x 10 = 50\n",
      "\n"
     ]
    }
   ],
   "source": [
    "for i in range(1, 6):  # Loop for the multiplicand from 1 to 5\n",
    "    print(f\"Multiplication table for {i}:\")\n",
    "    for j in range(1, 11):  # Loop for the multiplier from 1 to 10\n",
    "        result = i * j\n",
    "        print(f\"{i} x {j} = {result}\")\n",
    "    print()  # Add an empty line between tables\n"
   ]
  },
  {
   "cell_type": "markdown",
   "id": "f70ddfb8-33c5-4d7f-a612-106b6865d7ab",
   "metadata": {},
   "source": [
    "### 17. Write a program that converts a list of Fahrenheit temperatures to Celsius using a `for` loop."
   ]
  },
  {
   "cell_type": "code",
   "execution_count": 6,
   "id": "f1e3f448-85e7-48a4-a1ff-47a7fe26000b",
   "metadata": {},
   "outputs": [
    {
     "name": "stdout",
     "output_type": "stream",
     "text": [
      "Fahrenheit temperatures: [32, 68, 86, 104, 212]\n",
      "Celsius temperatures: [0.0, 20.0, 30.0, 40.0, 100.0]\n"
     ]
    }
   ],
   "source": [
    "fahrenheit_temperatures = [32, 68, 86, 104, 212]\n",
    "\n",
    "# Convert Fahrenheit to Celsius using a for loop\n",
    "celsius_temperatures = []\n",
    "for temp_f in fahrenheit_temperatures:\n",
    "    # Conversion formula: (F - 32) * 5/9 = C\n",
    "    temp_c = (temp_f - 32) * 5 / 9\n",
    "    celsius_temperatures.append(temp_c)\n",
    "print(\"Fahrenheit temperatures:\", fahrenheit_temperatures)\n",
    "print(\"Celsius temperatures:\", celsius_temperatures)\n"
   ]
  },
  {
   "cell_type": "markdown",
   "id": "05b21c3e-6199-491c-8b93-1f3e2f27b060",
   "metadata": {},
   "source": [
    "### 18. Create a program to print the common elements from two lists using a `for` loop."
   ]
  },
  {
   "cell_type": "code",
   "execution_count": 8,
   "id": "68e50c5a-0293-451c-b521-7908f8ebfa6f",
   "metadata": {},
   "outputs": [
    {
     "name": "stdout",
     "output_type": "stream",
     "text": [
      "List 1: [1, 2, 3, 4, 5]\n",
      "List 2: [3, 4, 5, 6, 7]\n",
      "Common elements: [3, 4, 5]\n"
     ]
    }
   ],
   "source": [
    "list1 = [1, 2, 3, 4, 5]\n",
    "list2 = [3, 4, 5, 6, 7]\n",
    "\n",
    "print(\"List 1:\", list1)\n",
    "print(\"List 2:\", list2)\n",
    "\n",
    "common_elements = []\n",
    "\n",
    "for element in list1:\n",
    "    if element in list2:\n",
    "        common_elements.append(element)\n",
    "\n",
    "print(\"Common elements:\", common_elements)\n"
   ]
  },
  {
   "cell_type": "markdown",
   "id": "458e1212-e6f8-4b6f-b77d-e07295abafaf",
   "metadata": {},
   "source": [
    "### 19. Develop a program that prints the pattern of right-angled triangles using a `for` loop. Use ‘*’ to draw the pattern"
   ]
  },
  {
   "cell_type": "code",
   "execution_count": 10,
   "id": "92012657-18fa-458a-9375-dae4c1b2734d",
   "metadata": {},
   "outputs": [
    {
     "name": "stdout",
     "output_type": "stream",
     "text": [
      "* \n",
      "* * \n",
      "* * * \n",
      "* * * * \n",
      "* * * * * \n"
     ]
    }
   ],
   "source": [
    "num_rows = 5\n",
    "\n",
    "for i in range(1, num_rows + 1):\n",
    "    for j in range(i):\n",
    "        print(\"*\", end=\" \")\n",
    "    print()\n"
   ]
  },
  {
   "cell_type": "markdown",
   "id": "ade640f3-f1ac-446f-8653-b9e2187d2a13",
   "metadata": {},
   "source": [
    "### 20. Write a program to find the greatest common divisor (GCD) of two numbers using a `for` loop."
   ]
  },
  {
   "cell_type": "code",
   "execution_count": 12,
   "id": "8a1aba0e-83c9-47ee-82f5-bbaf2244e2d1",
   "metadata": {},
   "outputs": [
    {
     "name": "stdout",
     "output_type": "stream",
     "text": [
      "Numbers: 48 and 60\n",
      "Greatest Common Divisor (GCD): 12\n"
     ]
    }
   ],
   "source": [
    "num1 = 48\n",
    "num2 = 60\n",
    "\n",
    "print(\"Numbers:\", num1, \"and\", num2)\n",
    "\n",
    "minimum = min(num1, num2)\n",
    "\n",
    "gcd = 1\n",
    "\n",
    "for i in range(1, minimum + 1):\n",
    "    if num1 % i == 0 and num2 % i == 0:\n",
    "        gcd = i \n",
    "print(\"Greatest Common Divisor (GCD):\", gcd)\n"
   ]
  },
  {
   "cell_type": "markdown",
   "id": "928d2a5c-682d-49e4-89c5-de752783b803",
   "metadata": {},
   "source": [
    "### 21. Create a program that calculates the sum of the digits of numbers in a list using a list comprehension."
   ]
  },
  {
   "cell_type": "code",
   "execution_count": 13,
   "id": "e95d5ca4-e1aa-457a-a06c-cd6e485aefe2",
   "metadata": {},
   "outputs": [
    {
     "name": "stdout",
     "output_type": "stream",
     "text": [
      "Original numbers: [123, 456, 789]\n",
      "Sum of digits for each number: [6, 15, 24]\n"
     ]
    }
   ],
   "source": [
    "numbers = [123, 456, 789]\n",
    "\n",
    "sum_of_digits = [sum(int(digit) for digit in str(num)) for num in numbers]\n",
    "\n",
    "print(\"Original numbers:\", numbers)\n",
    "print(\"Sum of digits for each number:\", sum_of_digits)\n"
   ]
  },
  {
   "cell_type": "markdown",
   "id": "be4924fb-7830-42b8-bdcf-4695075feb51",
   "metadata": {},
   "source": [
    "### 22. Write a program to find the prime factors of a given number using a `for` loop and list comprehension."
   ]
  },
  {
   "cell_type": "code",
   "execution_count": 15,
   "id": "40728c20-4ae6-4b72-b046-75b348a8bf7d",
   "metadata": {},
   "outputs": [
    {
     "name": "stdout",
     "output_type": "stream",
     "text": [
      "Prime factors of 84 are: [2, 3, 7]\n"
     ]
    }
   ],
   "source": [
    "number = 84\n",
    "\n",
    "prime_factors = [i for i in range(2, number + 1) if number % i == 0 and all(i % j != 0 for j in range(2, i))]\n",
    "\n",
    "print(\"Prime factors of\", number, \"are:\", prime_factors)\n"
   ]
  },
  {
   "cell_type": "markdown",
   "id": "3e7d138d-53db-4c9f-9ce1-333fc79e1e0e",
   "metadata": {},
   "source": [
    "### 23. Develop a program that extracts unique elements from a list and stores them in a new list using a list comprehension."
   ]
  },
  {
   "cell_type": "code",
   "execution_count": 16,
   "id": "4f74e825-0531-4b60-8787-0bfd960f2f2b",
   "metadata": {},
   "outputs": [
    {
     "name": "stdout",
     "output_type": "stream",
     "text": [
      "Original list: [1, 2, 2, 3, 4, 4, 5, 5, 6, 6]\n",
      "List with unique elements: [1, 2, 3, 4, 5, 6]\n"
     ]
    }
   ],
   "source": [
    "original_list = [1, 2, 2, 3, 4, 4, 5, 5, 6, 6]\n",
    "\n",
    "unique_elements = [x for i, x in enumerate(original_list) if original_list.index(x) == i]\n",
    "\n",
    "print(\"Original list:\", original_list)\n",
    "print(\"List with unique elements:\", unique_elements)\n"
   ]
  },
  {
   "cell_type": "markdown",
   "id": "07650145-1514-4867-ac22-fc5704f1b429",
   "metadata": {},
   "source": [
    "### 24. Create a program that generates a list of all palindromic numbers up to a specified limit using a list comprehension."
   ]
  },
  {
   "cell_type": "code",
   "execution_count": 18,
   "id": "88198c72-5d58-4b3a-a23b-410e743c3eb2",
   "metadata": {},
   "outputs": [
    {
     "name": "stdout",
     "output_type": "stream",
     "text": [
      "Palindromic numbers up to 1000 are: [1, 2, 3, 4, 5, 6, 7, 8, 9, 11, 22, 33, 44, 55, 66, 77, 88, 99, 101, 111, 121, 131, 141, 151, 161, 171, 181, 191, 202, 212, 222, 232, 242, 252, 262, 272, 282, 292, 303, 313, 323, 333, 343, 353, 363, 373, 383, 393, 404, 414, 424, 434, 444, 454, 464, 474, 484, 494, 505, 515, 525, 535, 545, 555, 565, 575, 585, 595, 606, 616, 626, 636, 646, 656, 666, 676, 686, 696, 707, 717, 727, 737, 747, 757, 767, 777, 787, 797, 808, 818, 828, 838, 848, 858, 868, 878, 888, 898, 909, 919, 929, 939, 949, 959, 969, 979, 989, 999]\n"
     ]
    }
   ],
   "source": [
    "limit = 1000\n",
    "\n",
    "palindromic_numbers = [num for num in range(1, limit + 1) if str(num) == str(num)[::-1]]\n",
    "\n",
    "print(\"Palindromic numbers up to\", limit, \"are:\", palindromic_numbers)\n"
   ]
  },
  {
   "cell_type": "markdown",
   "id": "9e70e665-dcc6-4528-8088-1ada3579fc3c",
   "metadata": {},
   "source": [
    "### 25. Write a program to flatten a nested list using list comprehension."
   ]
  },
  {
   "cell_type": "code",
   "execution_count": 21,
   "id": "9e2c5c1d-8308-4ff6-8b3b-8cdeab1d9711",
   "metadata": {},
   "outputs": [
    {
     "name": "stdout",
     "output_type": "stream",
     "text": [
      "Original nested list: [[1, 2, 3], [4, 5], [6, 7, 8, 9], [10, 11]]\n",
      "Flattened list: [1, 2, 3, 4, 5, 6, 7, 8, 9, 10, 11]\n"
     ]
    }
   ],
   "source": [
    "nested_list = [[1, 2, 3], [4, 5], [6, 7, 8, 9], [10,11]]\n",
    "\n",
    "flattened_list = [element for sublist in nested_list for element in sublist]\n",
    "\n",
    "print(\"Original nested list:\", nested_list)\n",
    "print(\"Flattened list:\", flattened_list)\n"
   ]
  },
  {
   "cell_type": "markdown",
   "id": "7cb7f838-3271-4ece-90a9-5d4249f72d6e",
   "metadata": {},
   "source": [
    "### 26. Develop a program that computes the sum of even and odd numbers in a list separately using list comprehension."
   ]
  },
  {
   "cell_type": "code",
   "execution_count": 22,
   "id": "7487bc2e-c532-4805-8244-961ca6ef56b4",
   "metadata": {},
   "outputs": [
    {
     "name": "stdout",
     "output_type": "stream",
     "text": [
      "Original list: [1, 2, 3, 4, 5, 6, 7, 8, 9]\n",
      "Sum of even numbers: 20\n",
      "Sum of odd numbers: 25\n"
     ]
    }
   ],
   "source": [
    "numbers = [1, 2, 3, 4, 5, 6, 7, 8, 9]\n",
    "\n",
    "sum_even = sum(num for num in numbers if num % 2 == 0)\n",
    "sum_odd = sum(num for num in numbers if num % 2 != 0)\n",
    "\n",
    "print(\"Original list:\", numbers)\n",
    "print(\"Sum of even numbers:\", sum_even)\n",
    "print(\"Sum of odd numbers:\", sum_odd)\n"
   ]
  },
  {
   "cell_type": "markdown",
   "id": "b4fc4cef-7741-4e60-9323-f121f40fd3ae",
   "metadata": {},
   "source": [
    "### 27. Create a program that generates a list of squares of odd numbers between 1 and 10 using list comprehension."
   ]
  },
  {
   "cell_type": "code",
   "execution_count": 23,
   "id": "8a434cc7-43d4-486d-a445-edc0de96a640",
   "metadata": {},
   "outputs": [
    {
     "name": "stdout",
     "output_type": "stream",
     "text": [
      "Squares of odd numbers between 1 and 10: [1, 9, 25, 49, 81]\n"
     ]
    }
   ],
   "source": [
    "squares_of_odd = [num ** 2 for num in range(1, 11) if num % 2 != 0]\n",
    "print(\"Squares of odd numbers between 1 and 10:\", squares_of_odd)\n"
   ]
  },
  {
   "cell_type": "markdown",
   "id": "e068645d-75ab-497c-85ac-effb8753ed17",
   "metadata": {},
   "source": [
    "### 28. Write a program that combines two lists into a dictionary using list comprehension."
   ]
  },
  {
   "cell_type": "code",
   "execution_count": 24,
   "id": "e87c750b-8380-4d7e-ba04-64f24e659d41",
   "metadata": {},
   "outputs": [
    {
     "name": "stdout",
     "output_type": "stream",
     "text": [
      "Combined dictionary: {'a': 1, 'b': 2, 'c': 3}\n"
     ]
    }
   ],
   "source": [
    "keys = ['a', 'b', 'c']\n",
    "values = [1, 2, 3]\n",
    "\n",
    "combined_dict = {keys[i]: values[i] for i in range(min(len(keys), len(values)))}\n",
    "\n",
    "print(\"Combined dictionary:\", combined_dict)\n"
   ]
  },
  {
   "cell_type": "markdown",
   "id": "00af49cf-b0d6-4738-a73e-ee5eb67c76ac",
   "metadata": {},
   "source": [
    "### 29. Develop a program that extracts the vowels from a string and stores them in a list using list comprehension."
   ]
  },
  {
   "cell_type": "code",
   "execution_count": 25,
   "id": "8691cb1e-7542-4005-9099-bd59952967b8",
   "metadata": {},
   "outputs": [
    {
     "name": "stdout",
     "output_type": "stream",
     "text": [
      "Vowels in the string: ['e', 'o', 'o', 'a', 'e', 'o', 'u']\n"
     ]
    }
   ],
   "source": [
    "string = \"Hello, how are you?\"\n",
    "\n",
    "vowels = [char for char in string if char.lower() in 'aeiou']\n",
    "\n",
    "print(\"Vowels in the string:\", vowels)\n"
   ]
  },
  {
   "cell_type": "markdown",
   "id": "86c2f28c-17a0-42e2-b4e5-b31228c49302",
   "metadata": {},
   "source": [
    "### 30. Create a program that removes all non-numeric characters from a list of strings using list comprehension."
   ]
  },
  {
   "cell_type": "code",
   "execution_count": 26,
   "id": "37c8d192-985a-4eea-a262-740d29c416d3",
   "metadata": {},
   "outputs": [
    {
     "name": "stdout",
     "output_type": "stream",
     "text": [
      "List with only numeric characters: ['123', '45', '678', '910']\n"
     ]
    }
   ],
   "source": [
    "string_list = ['abc123', '45def', '6g7h8', '9i10j']\n",
    "\n",
    "numeric_list = [''.join(char for char in string if char.isdigit()) for string in string_list]\n",
    "\n",
    "print(\"List with only numeric characters:\", numeric_list)\n"
   ]
  },
  {
   "cell_type": "markdown",
   "id": "14bfff73-b2d0-4a75-bff6-724b84cba5d2",
   "metadata": {},
   "source": [
    "### Write a program to generate a list of prime numbers using the Sieve of Eratosthenes algorithm and list comprehension."
   ]
  },
  {
   "cell_type": "code",
   "execution_count": 27,
   "id": "c577eff7-abed-4d7d-b145-f2eccb1fd1a1",
   "metadata": {},
   "outputs": [
    {
     "name": "stdout",
     "output_type": "stream",
     "text": [
      "Prime numbers up to 50 are: [2, 3, 5, 6, 7, 8, 10, 11, 12, 13, 14, 15, 16, 17, 18, 19, 20, 21, 22, 23, 24, 26, 27, 28, 29, 30, 31, 32, 33, 34, 35, 37, 38, 39, 40, 41, 42, 43, 44, 45, 46, 47, 48, 50]\n"
     ]
    }
   ],
   "source": [
    "limit = 50\n",
    "\n",
    "sieve = [True] * (limit + 1)\n",
    "sieve[0] = sieve[1] = False\n",
    "\n",
    "# Apply the Sieve of Eratosthenes algorithm\n",
    "[sieve.__setitem__(i * i, False) for i in range(2, int(limit ** 0.5) + 1) if sieve[i]]\n",
    "prime_numbers = [num for num in range(2, limit + 1) if sieve[num]]\n",
    "\n",
    "print(\"Prime numbers up to\", limit, \"are:\", prime_numbers)\n"
   ]
  },
  {
   "cell_type": "markdown",
   "id": "fcd06f76-3b07-4396-b99b-20581f98967c",
   "metadata": {},
   "source": [
    "### 32. Create a program that generates a list of all Pythagorean triplets up to a specified limit using list comprehension."
   ]
  },
  {
   "cell_type": "code",
   "execution_count": 29,
   "id": "59cc700c-2b18-47f2-826f-4c1e2763f6f4",
   "metadata": {},
   "outputs": [
    {
     "name": "stdout",
     "output_type": "stream",
     "text": [
      "Pythagorean triplets up to 10 are: [(3, 4, 5), (6, 8, 10)]\n"
     ]
    }
   ],
   "source": [
    "limit = 10\n",
    "\n",
    "pythagorean_triplets = [(a, b, c) for a in range(1, limit + 1) for b in range(a, limit + 1) for c in range(b, limit + 1) if a**2 + b**2 == c**2]\n",
    "\n",
    "print(\"Pythagorean triplets up to\", limit, \"are:\", pythagorean_triplets)\n"
   ]
  },
  {
   "cell_type": "markdown",
   "id": "593d9ed3-3cb4-4b2e-8989-5d62b5d60c73",
   "metadata": {},
   "source": [
    "### 33. Develop a program that generates a list of all possible combinations of two lists using list comprehension."
   ]
  },
  {
   "cell_type": "code",
   "execution_count": 30,
   "id": "7848752c-daf3-4439-a065-773e2a8f44e4",
   "metadata": {},
   "outputs": [
    {
     "name": "stdout",
     "output_type": "stream",
     "text": [
      "All possible combinations of two lists:\n",
      "[('a', 1), ('a', 2), ('a', 3), ('b', 1), ('b', 2), ('b', 3), ('c', 1), ('c', 2), ('c', 3)]\n"
     ]
    }
   ],
   "source": [
    "list1 = ['a', 'b', 'c']\n",
    "list2 = [1, 2, 3]\n",
    "\n",
    "combinations = [(x, y) for x in list1 for y in list2]\n",
    "\n",
    "print(\"All possible combinations of two lists:\")\n",
    "print(combinations)\n"
   ]
  },
  {
   "cell_type": "markdown",
   "id": "07da8d3a-4792-416b-bcd4-9db36be3509c",
   "metadata": {},
   "source": [
    "### 34. Write a program that calculates the mean, median, and mode of a list of numbers using list comprehension."
   ]
  },
  {
   "cell_type": "code",
   "execution_count": 31,
   "id": "9a95c47b-3ea6-4f87-af67-5833d02e0b38",
   "metadata": {},
   "outputs": [
    {
     "name": "stdout",
     "output_type": "stream",
     "text": [
      "Mean: 5.083333333333333\n",
      "Median: 5.5\n",
      "Mode: 6\n"
     ]
    }
   ],
   "source": [
    "numbers = [4, 2, 6, 3, 6, 9, 2, 4, 6, 5, 8, 6]\n",
    "\n",
    "mean = sum(numbers) / len(numbers)\n",
    "\n",
    "sorted_numbers = sorted(numbers)\n",
    "length = len(sorted_numbers)\n",
    "median = (sorted_numbers[length // 2] + sorted_numbers[(length - 1) // 2]) / 2 if length % 2 == 0 else sorted_numbers[length // 2]\n",
    "\n",
    "mode = max(set(numbers), key=numbers.count)\n",
    "\n",
    "print(\"Mean:\", mean)\n",
    "print(\"Median:\", median)\n",
    "print(\"Mode:\", mode)\n"
   ]
  },
  {
   "cell_type": "markdown",
   "id": "deb5e34e-390e-4ada-9a26-1d659a1e277d",
   "metadata": {},
   "source": [
    "### 35. Create a program that generates Pascal's triangle up to a specified number of rows using list comprehension."
   ]
  },
  {
   "cell_type": "code",
   "execution_count": 37,
   "id": "c09fd393-3065-4fd9-9035-4a163538f494",
   "metadata": {},
   "outputs": [
    {
     "name": "stdout",
     "output_type": "stream",
     "text": [
      "[1]\n",
      "[1, 1]\n",
      "[1, 2, 1]\n",
      "[1, 3, 3, 1]\n",
      "[1, 4, 6, 4, 1]\n"
     ]
    }
   ],
   "source": [
    "# Define the number of rows for Pascal's triangle\n",
    "num_rows = 5\n",
    "\n",
    "# Generate Pascal's triangle\n",
    "triangle = []\n",
    "for row in range(num_rows):\n",
    "    new_row = [1] * (row + 1)\n",
    "    for col in range(1, row):\n",
    "        new_row[col] = triangle[row - 1][col - 1] + triangle[row - 1][col]\n",
    "    triangle.append(new_row)\n",
    "\n",
    "# Display Pascal's triangle\n",
    "for row in triangle:\n",
    "    print(row)\n",
    "\n"
   ]
  },
  {
   "cell_type": "markdown",
   "id": "3ddeda15-e124-40d1-8d1d-b828abdcccd6",
   "metadata": {},
   "source": [
    "### 36. Develop a program that calculates the sum of the digits of a factorial of numbers from 1 to 5 using list comprehension."
   ]
  },
  {
   "cell_type": "markdown",
   "id": "c1aff1ce-aa3e-4e69-9327-8e940dc3bcb5",
   "metadata": {},
   "source": [
    "factorials = [1]\n",
    "for i in range(1, 6):\n",
    "    factorials.append(factorials[-1] * i)\n",
    "\n",
    "sum_of_digits = [sum(int(digit) for digit in str(factorial)) for factorial in factorials]\n",
    "\n",
    "print(\"Sum of digits of factorials from 1 to 5:\", sum_of_digits)\n"
   ]
  },
  {
   "cell_type": "markdown",
   "id": "8075c5ab-2d73-4828-a610-89d24d4a19c1",
   "metadata": {},
   "source": [
    "### 37. Write a program that finds the longest word in a sentence using list comprehension."
   ]
  },
  {
   "cell_type": "code",
   "execution_count": 44,
   "id": "c9106e76-6062-4494-bc6d-de2dd233be4f",
   "metadata": {},
   "outputs": [
    {
     "name": "stdout",
     "output_type": "stream",
     "text": [
      "The longest word in the sentence is: quick\n"
     ]
    }
   ],
   "source": [
    "sentence = \"The quick brown fox jumps over the lazy dog\"\n",
    "\n",
    "longest_word = max((word for word in sentence.split()), key=len)\n",
    "\n",
    "print(\"The longest word in the sentence is:\", longest_word)\n"
   ]
  },
  {
   "cell_type": "markdown",
   "id": "85a50545-0755-4ba6-afe2-345007bac2d4",
   "metadata": {},
   "source": [
    "### 38. Create a program that filters a list of strings to include only those with more than three vowels using list comprehension."
   ]
  },
  {
   "cell_type": "code",
   "execution_count": 45,
   "id": "e0521efc-0536-44d7-85fd-b765e3101eca",
   "metadata": {},
   "outputs": [
    {
     "name": "stdout",
     "output_type": "stream",
     "text": [
      "Strings with more than three vowels: ['watermelon']\n"
     ]
    }
   ],
   "source": [
    "string_list = [\"apple\", \"banana\", \"orange\", \"watermelon\", \"grape\"]\n",
    "\n",
    "filtered_strings = [string for string in string_list if sum(1 for char in string if char.lower() in 'aeiou') > 3]\n",
    "\n",
    "print(\"Strings with more than three vowels:\", filtered_strings)\n"
   ]
  },
  {
   "cell_type": "markdown",
   "id": "69629390-d175-4632-81e7-54b41423a1d8",
   "metadata": {},
   "source": [
    "### 39. Develop a program that calculates the sum of the digits of numbers from 1 to 1000 using list comprehension."
   ]
  },
  {
   "cell_type": "code",
   "execution_count": 46,
   "id": "9186c070-8d7d-4bc1-9a1e-7023d007f486",
   "metadata": {},
   "outputs": [
    {
     "name": "stdout",
     "output_type": "stream",
     "text": [
      "Total sum of digits from 1 to 1000: 13501\n"
     ]
    }
   ],
   "source": [
    "sum_of_digits = [sum(int(digit) for digit in str(num)) for num in range(1, 1001)]\n",
    "\n",
    "total_sum = sum(sum_of_digits)\n",
    "\n",
    "print(\"Total sum of digits from 1 to 1000:\", total_sum)\n"
   ]
  },
  {
   "cell_type": "markdown",
   "id": "5660cb09-2224-441d-9428-40819feb8679",
   "metadata": {},
   "source": [
    "### 40. Write a program that generates a list of prime palindromic numbers using list comprehension."
   ]
  },
  {
   "cell_type": "code",
   "execution_count": 49,
   "id": "8d7573a8-ef49-4275-a881-0ff899afefca",
   "metadata": {},
   "outputs": [
    {
     "name": "stdout",
     "output_type": "stream",
     "text": [
      "List of prime palindromic numbers up to 1000: [2, 3, 5, 7, 11, 101, 131, 151, 181, 191, 313, 353, 373, 383, 727, 757, 787, 797, 919, 929]\n"
     ]
    }
   ],
   "source": [
    "prime_palindromes = [num for num in range(2, 1000) if all(num % i != 0 for i in range(2, int(num ** 0.5) + 1)) and str(num) == str(num)[::-1]]\n",
    "print(\"List of prime palindromic numbers up to 1000:\", prime_palindromes)"
   ]
  },
  {
   "cell_type": "code",
   "execution_count": null,
   "id": "24a72363-151f-45e9-85d2-871f2434eb10",
   "metadata": {},
   "outputs": [],
   "source": []
  }
 ],
 "metadata": {
  "kernelspec": {
   "display_name": "Python 3 (ipykernel)",
   "language": "python",
   "name": "python3"
  },
  "language_info": {
   "codemirror_mode": {
    "name": "ipython",
    "version": 3
   },
   "file_extension": ".py",
   "mimetype": "text/x-python",
   "name": "python",
   "nbconvert_exporter": "python",
   "pygments_lexer": "ipython3",
   "version": "3.10.8"
  }
 },
 "nbformat": 4,
 "nbformat_minor": 5
}
