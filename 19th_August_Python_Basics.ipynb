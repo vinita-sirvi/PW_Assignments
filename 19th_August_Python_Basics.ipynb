{
 "cells": [
  {
   "cell_type": "markdown",
   "id": "b72898d5-301f-4884-9bef-69092d249f02",
   "metadata": {},
   "source": [
    "# Python Basics Variable"
   ]
  },
  {
   "cell_type": "markdown",
   "id": "998227cb-84a8-42d1-8f56-0c27761d42c9",
   "metadata": {},
   "source": [
    "### 1. Declare two variables, `x` and `y`, and assign them integer values. Swap the values of these variables without using any temporary variable."
   ]
  },
  {
   "cell_type": "code",
   "execution_count": 5,
   "id": "2eb647e1-dfef-485d-a04e-49c48967e004",
   "metadata": {},
   "outputs": [
    {
     "name": "stdout",
     "output_type": "stream",
     "text": [
      "x is equal to :  9\n",
      "y is equal to :  6\n"
     ]
    }
   ],
   "source": [
    "x= 6\n",
    "y =9\n",
    "x,y=y,x\n",
    "print(\"x is equal to : \",x)\n",
    "print(\"y is equal to : \",y)"
   ]
  },
  {
   "cell_type": "markdown",
   "id": "d3701aa9-df67-40f4-94e5-cf20bf0fab3f",
   "metadata": {},
   "source": [
    "### 2. Create a program that calculates the area of a rectangle. Take the length and width as inputs from the user and store them in variables. Calculate and display the area."
   ]
  },
  {
   "cell_type": "code",
   "execution_count": 6,
   "id": "cc4c5e0b-8c72-44f2-b5fb-2e68a8fea598",
   "metadata": {},
   "outputs": [
    {
     "name": "stdin",
     "output_type": "stream",
     "text": [
      "Enter length of the rectangle 6\n",
      "Enter breath of the rectanlge 9\n"
     ]
    },
    {
     "name": "stdout",
     "output_type": "stream",
     "text": [
      "Area of rectangle is :  54\n"
     ]
    }
   ],
   "source": [
    "L= int(input(\"Enter length of the rectangle\"))\n",
    "B= int(input(\"Enter breath of the rectanlge\"))\n",
    "AREA= L*B\n",
    "print(\"Area of rectangle is : \", AREA)"
   ]
  },
  {
   "cell_type": "markdown",
   "id": "5896f7d6-3879-4eaf-91be-876d42b67c9c",
   "metadata": {},
   "source": [
    "### 3. Write a Python program that converts temperatures from Celsius to Fahrenheit. Take the temperature in Celsius as input, store it in a variable, convert it to Fahrenheit, and display the result."
   ]
  },
  {
   "cell_type": "code",
   "execution_count": 10,
   "id": "51a0a840-1e14-40c1-8542-0ae4bb9d7a20",
   "metadata": {},
   "outputs": [
    {
     "name": "stdin",
     "output_type": "stream",
     "text": [
      "Enter the temprature in celsius:  25.8\n"
     ]
    },
    {
     "name": "stdout",
     "output_type": "stream",
     "text": [
      "The temprature in fahrenheit is :  78.44\n"
     ]
    }
   ],
   "source": [
    "C = float(input(\"Enter the temprature in celsius: \"))\n",
    "F=C*(9/5) +32\n",
    "print(\"The temprature in fahrenheit is : \", F)"
   ]
  },
  {
   "cell_type": "markdown",
   "id": "8487370d-3bfd-4b7b-8eb5-9d6b849a6d6e",
   "metadata": {},
   "source": [
    "# String Based Questions"
   ]
  },
  {
   "cell_type": "markdown",
   "id": "8a4c1deb-b974-479e-9145-6ed620e1bff1",
   "metadata": {},
   "source": [
    "### 1. Write a Python program that takes a string as input and prints the length of the string."
   ]
  },
  {
   "cell_type": "code",
   "execution_count": 12,
   "id": "599367d4-6441-45fd-a6ae-9aadd49683de",
   "metadata": {},
   "outputs": [
    {
     "name": "stdin",
     "output_type": "stream",
     "text": [
      "Enter the string value:  Vinita Choudhary\n"
     ]
    },
    {
     "name": "stdout",
     "output_type": "stream",
     "text": [
      "16\n"
     ]
    }
   ],
   "source": [
    "A = str(input(\"Enter the string value: \"))\n",
    "print(len(A))"
   ]
  },
  {
   "cell_type": "markdown",
   "id": "91429140-dbc1-411d-ad72-d87683367958",
   "metadata": {},
   "source": [
    "### 2. Create a program that takes a sentence from the user and counts the number of vowels (a, e, i, o, u) in the string."
   ]
  },
  {
   "cell_type": "code",
   "execution_count": 17,
   "id": "445b107d-340b-4bcc-84c9-a07da73da18d",
   "metadata": {},
   "outputs": [
    {
     "name": "stdin",
     "output_type": "stream",
     "text": [
      "Enter the string :  Apple\n"
     ]
    },
    {
     "name": "stdout",
     "output_type": "stream",
     "text": [
      "Number of vowels in sentence is:  2\n"
     ]
    }
   ],
   "source": [
    "S= str(input(\"Enter the string : \"))\n",
    "vowels=\"aeiouAEIOU\"\n",
    "count=0\n",
    "for i in S:\n",
    "    if i in vowels:\n",
    "        count+=1\n",
    "print(\"Number of vowels in sentence is: \", count)"
   ]
  },
  {
   "cell_type": "markdown",
   "id": "0ec397b5-072a-442b-a2d9-6bc1bc93ef1c",
   "metadata": {},
   "source": [
    "### 3. Given a string, reverse the order of characters using string slicing and print the reversed string."
   ]
  },
  {
   "cell_type": "code",
   "execution_count": 19,
   "id": "e41a916d-ccac-4c9d-a0ea-385481f42865",
   "metadata": {},
   "outputs": [
    {
     "name": "stdout",
     "output_type": "stream",
     "text": [
      "The reverse string is :  eerhsanahD\n"
     ]
    }
   ],
   "source": [
    "A= \"Dhanashree\"\n",
    "R=A[::-1]\n",
    "print(\"The reverse string is : \", R)"
   ]
  },
  {
   "cell_type": "markdown",
   "id": "4e7df451-9413-43ac-9b41-f8974a87553d",
   "metadata": {},
   "source": [
    "### 4. Write a program that takes a string as input and checks if it is a palindrome (reads the same forwards and backwards)."
   ]
  },
  {
   "cell_type": "code",
   "execution_count": 26,
   "id": "5d93f85d-ba58-46c7-9039-0b0d5b880879",
   "metadata": {},
   "outputs": [
    {
     "name": "stdin",
     "output_type": "stream",
     "text": [
      "Enter the string:  Rar\n"
     ]
    },
    {
     "name": "stdout",
     "output_type": "stream",
     "text": [
      "The entered string is a palindrome.\n"
     ]
    }
   ],
   "source": [
    "S= str(input(\"Enter the string: \"))\n",
    "C=S.lower()\n",
    "if C == C[::-1]:\n",
    "    print(\"The entered string is a palindrome.\")\n",
    "else:\n",
    "    print(\"The entered string is not a palindrome.\")"
   ]
  },
  {
   "cell_type": "markdown",
   "id": "cd575c45-a0a7-45d2-9c63-a182565838f3",
   "metadata": {},
   "source": [
    "### 5. Create a program that takes a string as input and removes all the spaces from it. Print the modified string without spaces."
   ]
  },
  {
   "cell_type": "code",
   "execution_count": 31,
   "id": "baa75dce-7400-4524-9bc7-fd3240d71bbd",
   "metadata": {},
   "outputs": [
    {
     "name": "stdin",
     "output_type": "stream",
     "text": [
      "Enter the string value:  Vinita Choudhary\n"
     ]
    },
    {
     "name": "stdout",
     "output_type": "stream",
     "text": [
      "Modified string is :  VinitaChoudhary\n"
     ]
    }
   ],
   "source": [
    "S= str(input(\"Enter the string value: \"))\n",
    "C=S.replace(\" \", \"\")\n",
    "print(\"Modified string is : \",C)"
   ]
  },
  {
   "cell_type": "code",
   "execution_count": null,
   "id": "28e191a2-331b-4e6b-9e5c-bb62505452b5",
   "metadata": {},
   "outputs": [],
   "source": []
  }
 ],
 "metadata": {
  "kernelspec": {
   "display_name": "Python 3 (ipykernel)",
   "language": "python",
   "name": "python3"
  },
  "language_info": {
   "codemirror_mode": {
    "name": "ipython",
    "version": 3
   },
   "file_extension": ".py",
   "mimetype": "text/x-python",
   "name": "python",
   "nbconvert_exporter": "python",
   "pygments_lexer": "ipython3",
   "version": "3.10.8"
  }
 },
 "nbformat": 4,
 "nbformat_minor": 5
}
