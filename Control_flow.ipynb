{
 "cells": [
  {
   "cell_type": "markdown",
   "id": "8a8a5d1b-7ec5-49c1-9cca-5ee2b1495a01",
   "metadata": {},
   "source": [
    "### 1. Write a Python program to check if a given number is positive or negative."
   ]
  },
  {
   "cell_type": "code",
   "execution_count": 1,
   "id": "2ef3ec51-f1c0-4da3-a30e-63ae818c5768",
   "metadata": {},
   "outputs": [
    {
     "name": "stdin",
     "output_type": "stream",
     "text": [
      "Enter a number:  -9\n"
     ]
    },
    {
     "name": "stdout",
     "output_type": "stream",
     "text": [
      "The number is negative.\n"
     ]
    }
   ],
   "source": [
    "number = float(input(\"Enter a number: \"))\n",
    "\n",
    "if number > 0:\n",
    "    print(\"The number is positive.\")\n",
    "elif number < 0:\n",
    "    print(\"The number is negative.\")\n",
    "else:\n",
    "    print(\"The number is zero.\")\n"
   ]
  },
  {
   "cell_type": "markdown",
   "id": "3e7101c7-a704-4ff3-a0ae-64272668364c",
   "metadata": {},
   "source": [
    "### 2. Create a program that determines if a person is eligible to vote based on their age."
   ]
  },
  {
   "cell_type": "code",
   "execution_count": 3,
   "id": "f0c0af79-5a7f-4a24-a857-a1f495bc00cb",
   "metadata": {},
   "outputs": [
    {
     "name": "stdin",
     "output_type": "stream",
     "text": [
      "Enter your age:  21\n"
     ]
    },
    {
     "name": "stdout",
     "output_type": "stream",
     "text": [
      "You are eligible to vote.\n"
     ]
    }
   ],
   "source": [
    "age = int(input(\"Enter your age: \"))\n",
    "\n",
    "if age >= 18:\n",
    "    print(\"You are eligible to vote.\")\n",
    "else:\n",
    "    print(\"You are not eligible to vote yet.\")\n"
   ]
  },
  {
   "cell_type": "markdown",
   "id": "c707b129-e14c-4f8e-8ac6-32c0d36a899a",
   "metadata": {},
   "source": [
    "### 3. Develop a program to find the maximum of two numbers using if-else statements."
   ]
  },
  {
   "cell_type": "code",
   "execution_count": 4,
   "id": "97d8bd46-5ef3-48d5-8357-583f89d69688",
   "metadata": {},
   "outputs": [
    {
     "name": "stdin",
     "output_type": "stream",
     "text": [
      "Enter the first number:  4\n",
      "Enter the second number:  17\n"
     ]
    },
    {
     "name": "stdout",
     "output_type": "stream",
     "text": [
      "The maximum number is: 17.0\n"
     ]
    }
   ],
   "source": [
    "num1 = float(input(\"Enter the first number: \"))\n",
    "num2 = float(input(\"Enter the second number: \"))\n",
    "\n",
    "if num1 > num2:\n",
    "    print(\"The maximum number is:\", num1)\n",
    "elif num2 > num1:\n",
    "    print(\"The maximum number is:\", num2)\n",
    "else:\n",
    "    print(\"Both numbers are equal.\")\n"
   ]
  },
  {
   "cell_type": "markdown",
   "id": "4e0b3a09-a897-49d9-bdf4-9bc81ecbea69",
   "metadata": {},
   "source": [
    "### 4. Write a Python script to classify a given year as a leap year or not."
   ]
  },
  {
   "cell_type": "code",
   "execution_count": 19,
   "id": "bcea7a55-9bdb-4737-95a6-629e1d552d7f",
   "metadata": {},
   "outputs": [
    {
     "name": "stdin",
     "output_type": "stream",
     "text": [
      "Enter a year:  2020\n"
     ]
    },
    {
     "name": "stdout",
     "output_type": "stream",
     "text": [
      "2020 is a leap year.\n"
     ]
    }
   ],
   "source": [
    "year = int(input(\"Enter a year: \"))\n",
    "\n",
    "if (year % 4 == 0 and year % 100 != 0) or (year % 400 == 0):\n",
    "    print(year, \"is a leap year.\")\n",
    "else:\n",
    "    print(year, \"is not a leap year.\")\n"
   ]
  },
  {
   "cell_type": "markdown",
   "id": "0cd2a2f9-b7d5-482e-a5c9-4abddaa26c9c",
   "metadata": {},
   "source": [
    "### 5. Create a program that checks whether a character is a vowel or a consonant."
   ]
  },
  {
   "cell_type": "code",
   "execution_count": 7,
   "id": "bf742429-91c5-4e0f-ac27-37eb20253319",
   "metadata": {},
   "outputs": [
    {
     "name": "stdin",
     "output_type": "stream",
     "text": [
      "Enter a character:  C\n"
     ]
    },
    {
     "name": "stdout",
     "output_type": "stream",
     "text": [
      "The character 'C' is a consonant.\n"
     ]
    }
   ],
   "source": [
    "char = input(\"Enter a character: \")\n",
    "\n",
    "if char.isalpha() and len(char) == 1:\n",
    "    if char.lower() in 'aeiou':\n",
    "        print(f\"The character '{char}' is a vowel.\")\n",
    "    else:\n",
    "        print(f\"The character '{char}' is a consonant.\")\n",
    "else:\n",
    "    print(\"Please enter a single alphabet character.\")\n"
   ]
  },
  {
   "cell_type": "markdown",
   "id": "8ab8e3e0-ad06-4c38-b960-87ab7cac4215",
   "metadata": {},
   "source": [
    "### 6. Implement a program to determine whether a given number is even or odd."
   ]
  },
  {
   "cell_type": "code",
   "execution_count": 8,
   "id": "da40917b-3669-4846-b447-c4100e53bff4",
   "metadata": {},
   "outputs": [
    {
     "name": "stdin",
     "output_type": "stream",
     "text": [
      "Enter a number:  53\n"
     ]
    },
    {
     "name": "stdout",
     "output_type": "stream",
     "text": [
      "The number 53 is odd.\n"
     ]
    }
   ],
   "source": [
    "number = int(input(\"Enter a number: \"))\n",
    "\n",
    "if number % 2 == 0:\n",
    "    print(f\"The number {number} is even.\")\n",
    "else:\n",
    "    print(f\"The number {number} is odd.\")\n"
   ]
  },
  {
   "cell_type": "markdown",
   "id": "986beec0-bf8c-47d0-b8ce-61e7f84d87ef",
   "metadata": {},
   "source": [
    "### 7. Write a Python function to calculate the absolute value of a number without using the `abs()` function."
   ]
  },
  {
   "cell_type": "code",
   "execution_count": 10,
   "id": "7f0d13f8-f4ed-46cb-8196-ed03e640b6ab",
   "metadata": {},
   "outputs": [
    {
     "name": "stdin",
     "output_type": "stream",
     "text": [
      "Enter a number:  67.8\n"
     ]
    },
    {
     "name": "stdout",
     "output_type": "stream",
     "text": [
      "The absolute value of 67.8 is 67.8\n"
     ]
    }
   ],
   "source": [
    "number = float(input(\"Enter a number: \"))\n",
    "\n",
    "absolute_value = number if number >= 0 else -number\n",
    "\n",
    "print(\"The absolute value of\", number, \"is\", absolute_value)\n"
   ]
  },
  {
   "cell_type": "markdown",
   "id": "da989725-1f89-4643-b0d7-9794dbe3dcc2",
   "metadata": {},
   "source": [
    "### 8. Develop a program that determines the largest of three given numbers using if-else statements."
   ]
  },
  {
   "cell_type": "code",
   "execution_count": 11,
   "id": "cea97511-261d-4e72-b5af-f9615d78d4fb",
   "metadata": {},
   "outputs": [
    {
     "name": "stdin",
     "output_type": "stream",
     "text": [
      "Enter the first number:  76\n",
      "Enter the second number:  54\n",
      "Enter the third number:  32\n"
     ]
    },
    {
     "name": "stdout",
     "output_type": "stream",
     "text": [
      "The largest number among 76.0 , 54.0 , and 32.0 is: 76.0\n"
     ]
    }
   ],
   "source": [
    "num1 = float(input(\"Enter the first number: \"))\n",
    "num2 = float(input(\"Enter the second number: \"))\n",
    "num3 = float(input(\"Enter the third number: \"))\n",
    "\n",
    "if num1 >= num2 and num1 >= num3:\n",
    "    largest = num1\n",
    "elif num2 >= num1 and num2 >= num3:\n",
    "    largest = num2\n",
    "else:\n",
    "    largest = num3\n",
    "\n",
    "print(\"The largest number among\", num1, \",\", num2, \", and\", num3, \"is:\", largest)\n"
   ]
  },
  {
   "cell_type": "markdown",
   "id": "079a5cea-a02d-4646-b317-7dbf0544ea87",
   "metadata": {},
   "source": [
    "### 9. Create a program that checks if a given string is a palindrome."
   ]
  },
  {
   "cell_type": "code",
   "execution_count": 14,
   "id": "47e57a92-b32c-4600-84d7-f83fcd92fa89",
   "metadata": {},
   "outputs": [
    {
     "name": "stdin",
     "output_type": "stream",
     "text": [
      "Enter a string:  Sirvi\n"
     ]
    },
    {
     "name": "stdout",
     "output_type": "stream",
     "text": [
      "The string 'Sirvi' is not a palindrome.\n"
     ]
    }
   ],
   "source": [
    "string = input(\"Enter a string: \")\n",
    "\n",
    "cleaned_string = string.replace(\" \", \"\").lower()\n",
    "\n",
    "if cleaned_string == cleaned_string[::-1]:\n",
    "    print(f\"The string '{string}' is a palindrome.\")\n",
    "else:\n",
    "    print(f\"The string '{string}' is not a palindrome.\")\n"
   ]
  },
  {
   "cell_type": "markdown",
   "id": "8b3af4bf-8a78-4b31-9436-1c7b1be1cf8b",
   "metadata": {},
   "source": [
    "### 10. Write a Python program to calculate the grade based on a student's score."
   ]
  },
  {
   "cell_type": "code",
   "execution_count": 15,
   "id": "aa14621b-d5a9-49ef-9daa-872aa7a4cfa3",
   "metadata": {},
   "outputs": [
    {
     "name": "stdin",
     "output_type": "stream",
     "text": [
      "Enter the student's score:  56\n"
     ]
    },
    {
     "name": "stdout",
     "output_type": "stream",
     "text": [
      "The student's grade for a score of 56.0 is: F\n"
     ]
    }
   ],
   "source": [
    "score = float(input(\"Enter the student's score: \"))\n",
    "\n",
    "if score >= 90:\n",
    "    grade = 'A'\n",
    "elif score >= 80:\n",
    "    grade = 'B'\n",
    "elif score >= 70:\n",
    "    grade = 'C'\n",
    "elif score >= 60:\n",
    "    grade = 'D'\n",
    "else:\n",
    "    grade = 'F'\n",
    "\n",
    "print(f\"The student's grade for a score of {score} is: {grade}\")\n"
   ]
  },
  {
   "cell_type": "markdown",
   "id": "a9f5410d-364c-44c1-ba23-923ac4c205b7",
   "metadata": {},
   "source": [
    "### 11. Write a program to find the largest among three numbers using nested if-else statements."
   ]
  },
  {
   "cell_type": "code",
   "execution_count": 16,
   "id": "dc1a8766-a8b7-4d61-b286-ff4d7587805f",
   "metadata": {},
   "outputs": [
    {
     "name": "stdin",
     "output_type": "stream",
     "text": [
      "Enter the first number:  34\n",
      "Enter the second number:  23\n",
      "Enter the third number:  78\n"
     ]
    },
    {
     "name": "stdout",
     "output_type": "stream",
     "text": [
      "The largest number among 34.0 , 23.0 , and 78.0 is: 78.0\n"
     ]
    }
   ],
   "source": [
    "num1 = float(input(\"Enter the first number: \"))\n",
    "num2 = float(input(\"Enter the second number: \"))\n",
    "num3 = float(input(\"Enter the third number: \"))\n",
    "\n",
    "if num1 >= num2:\n",
    "    if num1 >= num3:\n",
    "        largest = num1\n",
    "    else:\n",
    "        largest = num3\n",
    "else:\n",
    "    if num2 >= num3:\n",
    "        largest = num2\n",
    "    else:\n",
    "        largest = num3\n",
    "\n",
    "print(\"The largest number among\", num1, \",\", num2, \", and\", num3, \"is:\", largest)\n"
   ]
  },
  {
   "cell_type": "markdown",
   "id": "6723395c-3ee7-46bc-b98b-52acff1c9a21",
   "metadata": {},
   "source": [
    "### 12. Implement a program to determine if a triangle is equilateral, isosceles, or scalene."
   ]
  },
  {
   "cell_type": "code",
   "execution_count": 17,
   "id": "8759ad28-060d-4dc2-9289-4383e983784b",
   "metadata": {},
   "outputs": [
    {
     "name": "stdin",
     "output_type": "stream",
     "text": [
      "Enter the length of side 1:  34\n",
      "Enter the length of side 2:  23\n",
      "Enter the length of side 3:  21\n"
     ]
    },
    {
     "name": "stdout",
     "output_type": "stream",
     "text": [
      "The triangle with side lengths 34.0, 23.0, 21.0 is a(n) scalene triangle.\n"
     ]
    }
   ],
   "source": [
    "side1 = float(input(\"Enter the length of side 1: \"))\n",
    "side2 = float(input(\"Enter the length of side 2: \"))\n",
    "side3 = float(input(\"Enter the length of side 3: \"))\n",
    "\n",
    "if side1 == side2 == side3:\n",
    "    triangle_type = \"equilateral\"\n",
    "elif side1 == side2 or side1 == side3 or side2 == side3:\n",
    "    triangle_type = \"isosceles\"\n",
    "else:\n",
    "    triangle_type = \"scalene\"\n",
    "\n",
    "print(f\"The triangle with side lengths {side1}, {side2}, {side3} is a(n) {triangle_type} triangle.\")\n"
   ]
  },
  {
   "cell_type": "markdown",
   "id": "5c52f7d9-0849-4ed0-b12b-910e86fcfd0b",
   "metadata": {},
   "source": [
    "### 13. Develop a program that checks if a year is a leap year and also if it is a century year."
   ]
  },
  {
   "cell_type": "code",
   "execution_count": 18,
   "id": "db549084-aaf3-4f21-9cac-dfa6f56cefb7",
   "metadata": {},
   "outputs": [
    {
     "name": "stdin",
     "output_type": "stream",
     "text": [
      "Enter a year:  2016\n"
     ]
    },
    {
     "name": "stdout",
     "output_type": "stream",
     "text": [
      "2016 is a leap year.\n",
      "2016 is not a century year.\n"
     ]
    }
   ],
   "source": [
    "year = int(input(\"Enter a year: \"))\n",
    "\n",
    "is_leap_year = (year % 4 == 0 and year % 100 != 0) or (year % 400 == 0)\n",
    "\n",
    "is_century_year = year % 100 == 0\n",
    "\n",
    "if is_leap_year:\n",
    "    print(year, \"is a leap year.\")\n",
    "else:\n",
    "    print(year, \"is not a leap year.\")\n",
    "\n",
    "if is_century_year:\n",
    "    print(year, \"is a century year.\")\n",
    "else:\n",
    "    print(year, \"is not a century year.\")\n"
   ]
  },
  {
   "cell_type": "markdown",
   "id": "f0d9df1e-3ab4-4f9b-970b-19ac15767912",
   "metadata": {},
   "source": [
    "### 14. Write a Python script to determine if a number is positive, negative, or zero."
   ]
  },
  {
   "cell_type": "code",
   "execution_count": 20,
   "id": "d910ecc0-9a1f-429b-a542-be37e832ee96",
   "metadata": {},
   "outputs": [
    {
     "name": "stdin",
     "output_type": "stream",
     "text": [
      "Enter a number:  54\n"
     ]
    },
    {
     "name": "stdout",
     "output_type": "stream",
     "text": [
      "The number is positive.\n"
     ]
    }
   ],
   "source": [
    "number = float(input(\"Enter a number: \"))\n",
    "\n",
    "if number > 0:\n",
    "    print(\"The number is positive.\")\n",
    "elif number < 0:\n",
    "    print(\"The number is negative.\")\n",
    "else:\n",
    "    print(\"The number is zero.\")\n"
   ]
  },
  {
   "cell_type": "markdown",
   "id": "6ebe973a-8736-4cec-b7a4-d2ae09d42761",
   "metadata": {},
   "source": [
    "### 15. Create a program to check if a person is a teenager (between 13 and 19 years old)."
   ]
  },
  {
   "cell_type": "code",
   "execution_count": 21,
   "id": "e1ddb8f4-b01d-4fe3-b7b9-dafa8e87aab9",
   "metadata": {},
   "outputs": [
    {
     "name": "stdin",
     "output_type": "stream",
     "text": [
      "Enter your age:  17\n"
     ]
    },
    {
     "name": "stdout",
     "output_type": "stream",
     "text": [
      "You are a teenager.\n"
     ]
    }
   ],
   "source": [
    "age = int(input(\"Enter your age: \"))\n",
    "\n",
    "if 13 <= age <= 19:\n",
    "    print(\"You are a teenager.\")\n",
    "else:\n",
    "    print(\"You are not a teenager.\")\n"
   ]
  },
  {
   "cell_type": "markdown",
   "id": "eb97036d-f3cd-4ce7-9d0c-240df5b4f923",
   "metadata": {},
   "source": [
    "### 16. Develop a program that determines the type of angle based on its measure (acute, obtuse, or right)."
   ]
  },
  {
   "cell_type": "code",
   "execution_count": 22,
   "id": "079cc126-4161-4033-b794-8e9930ac922d",
   "metadata": {},
   "outputs": [
    {
     "name": "stdin",
     "output_type": "stream",
     "text": [
      "Enter the angle measure in degrees (0-180):  90\n"
     ]
    },
    {
     "name": "stdout",
     "output_type": "stream",
     "text": [
      "The angle with measure 90.0 degrees is a(n) Right angle.\n"
     ]
    }
   ],
   "source": [
    "angle = float(input(\"Enter the angle measure in degrees (0-180): \"))\n",
    "\n",
    "if angle > 0 and angle < 90:\n",
    "    angle_type = \"Acute angle\"\n",
    "elif angle == 90:\n",
    "    angle_type = \"Right angle\"\n",
    "elif angle > 90 and angle < 180:\n",
    "    angle_type = \"Obtuse angle\"\n",
    "else:\n",
    "    angle_type = \"Invalid input for angle measure\"\n",
    "\n",
    "print(f\"The angle with measure {angle} degrees is a(n) {angle_type}.\")\n"
   ]
  },
  {
   "cell_type": "markdown",
   "id": "19fa244a-726b-4302-ba80-08413f0a6630",
   "metadata": {},
   "source": [
    "### 17. Write a Python program to calculate the roots of a quadratic equation."
   ]
  },
  {
   "cell_type": "code",
   "execution_count": 2,
   "id": "f40e83a0-9fb2-4e34-b3fe-ded4331a6023",
   "metadata": {},
   "outputs": [
    {
     "name": "stdin",
     "output_type": "stream",
     "text": [
      "Enter the coefficient 'a':  2\n",
      "Enter the coefficient 'b':  4\n",
      "Enter the constant term 'c':  6\n"
     ]
    },
    {
     "name": "stdout",
     "output_type": "stream",
     "text": [
      "The roots of the quadratic equation are complex: -1.0 + 1.4142135623730951i and -1.0 - 1.4142135623730951i\n"
     ]
    }
   ],
   "source": [
    "a = float(input(\"Enter the coefficient 'a': \"))\n",
    "b = float(input(\"Enter the coefficient 'b': \"))\n",
    "c = float(input(\"Enter the constant term 'c': \"))\n",
    "\n",
    "discriminant = b**2 - 4*a*c\n",
    "\n",
    "if discriminant > 0:\n",
    "    root1 = (-b + (discriminant ** 0.5)) / (2*a)\n",
    "    root2 = (-b - (discriminant ** 0.5)) / (2*a)\n",
    "    print(f\"The roots of the quadratic equation are real and distinct: {root1} and {root2}\")\n",
    "elif discriminant == 0:\n",
    "    root = -b / (2*a)\n",
    "    print(f\"The roots of the quadratic equation are real and equal: {root}\")\n",
    "else:\n",
    "    real_part = -b / (2*a)\n",
    "    imaginary_part = ((-discriminant) ** 0.5) / (2*a)\n",
    "    print(f\"The roots of the quadratic equation are complex: {real_part} + {imaginary_part}i and {real_part} - {imaginary_part}i\")\n"
   ]
  },
  {
   "cell_type": "markdown",
   "id": "71b0863a-994f-40cb-aec1-834857f47d0a",
   "metadata": {},
   "source": [
    "### 18. Implement a program to determine the day of the week based on a user-provided number (1 for Monday, 2 for Tuesday, etc.)."
   ]
  },
  {
   "cell_type": "code",
   "execution_count": 3,
   "id": "e01962d2-9eb2-4659-aad6-7f340826c7e4",
   "metadata": {},
   "outputs": [
    {
     "name": "stdin",
     "output_type": "stream",
     "text": [
      "Enter a number (1 for Monday, 2 for Tuesday, etc.):  5\n"
     ]
    },
    {
     "name": "stdout",
     "output_type": "stream",
     "text": [
      "The day of the week is: Friday\n"
     ]
    }
   ],
   "source": [
    "days = {\n",
    "    1: \"Monday\",\n",
    "    2: \"Tuesday\",\n",
    "    3: \"Wednesday\",\n",
    "    4: \"Thursday\",\n",
    "    5: \"Friday\",\n",
    "    6: \"Saturday\",\n",
    "    7: \"Sunday\"\n",
    "}\n",
    "\n",
    "user_input = int(input(\"Enter a number (1 for Monday, 2 for Tuesday, etc.): \"))\n",
    "\n",
    "if user_input in days:\n",
    "    day_of_week = days[user_input]\n",
    "    print(\"The day of the week is:\", day_of_week)\n",
    "else:\n",
    "    print(\"Invalid input. Please enter a number between 1 and 7.\")\n"
   ]
  },
  {
   "cell_type": "markdown",
   "id": "b47621ed-4784-446b-a26c-11ad9e77c244",
   "metadata": {},
   "source": [
    "### 19. Create a program that determines if a year is a leap year and also if it is evenly divisible by 400."
   ]
  },
  {
   "cell_type": "code",
   "execution_count": 4,
   "id": "356577f5-9394-4b28-8338-6b2a29643557",
   "metadata": {},
   "outputs": [
    {
     "name": "stdin",
     "output_type": "stream",
     "text": [
      "Enter a year:  2021\n"
     ]
    },
    {
     "name": "stdout",
     "output_type": "stream",
     "text": [
      "2021 is not a leap year or not evenly divisible by 400.\n"
     ]
    }
   ],
   "source": [
    "year = int(input(\"Enter a year: \"))\n",
    "\n",
    "if (year % 4 == 0 and year % 100 != 0) or (year % 400 == 0):\n",
    "    print(f\"{year} is a leap year.\")\n",
    "    if year % 400 == 0:\n",
    "        print(f\"{year} is also evenly divisible by 400.\")\n",
    "else:\n",
    "    print(f\"{year} is not a leap year or not evenly divisible by 400.\")\n"
   ]
  },
  {
   "cell_type": "markdown",
   "id": "1ec42342-2419-46ff-8663-2bdbdf78622f",
   "metadata": {},
   "source": [
    "### 20. Develop a program that checks if a given number is prime or not using nested if-else statements."
   ]
  },
  {
   "cell_type": "code",
   "execution_count": 5,
   "id": "199da089-2d35-4c5c-91c2-d115c584b2ad",
   "metadata": {},
   "outputs": [
    {
     "name": "stdin",
     "output_type": "stream",
     "text": [
      "Enter a number:  45\n"
     ]
    },
    {
     "name": "stdout",
     "output_type": "stream",
     "text": [
      "45 is not a prime number.\n"
     ]
    }
   ],
   "source": [
    "num = int(input(\"Enter a number: \"))\n",
    "\n",
    "if num > 1:\n",
    "    is_prime = True\n",
    "    for i in range(2, num):\n",
    "        if num % i == 0:\n",
    "            is_prime = False\n",
    "            break\n",
    "\n",
    "    if is_prime:\n",
    "        print(f\"{num} is a prime number.\")\n",
    "    else:\n",
    "        print(f\"{num} is not a prime number.\")\n",
    "else:\n",
    "    print(f\"{num} is not a prime number.\")\n"
   ]
  },
  {
   "cell_type": "markdown",
   "id": "439c37bc-fbe7-4826-b7d7-883fd2de3b29",
   "metadata": {},
   "source": [
    "### 21. Write a Python program to assign grades based on different ranges of scores using elif statements."
   ]
  },
  {
   "cell_type": "code",
   "execution_count": 7,
   "id": "e1e8fcbf-d6a7-4cd1-9fd8-b4c188bf52cb",
   "metadata": {},
   "outputs": [
    {
     "name": "stdin",
     "output_type": "stream",
     "text": [
      "Enter the score:  87\n"
     ]
    },
    {
     "name": "stdout",
     "output_type": "stream",
     "text": [
      "The grade for the score 87.0 is: B\n"
     ]
    }
   ],
   "source": [
    "score = float(input(\"Enter the score: \"))\n",
    "\n",
    "if score >= 90:\n",
    "    grade = 'A'\n",
    "elif score >= 80:\n",
    "    grade = 'B'\n",
    "elif score >= 70:\n",
    "    grade = 'C'\n",
    "elif score >= 60:\n",
    "    grade = 'D'\n",
    "else:\n",
    "    grade = 'F'\n",
    "\n",
    "print(f\"The grade for the score {score} is: {grade}\")\n"
   ]
  },
  {
   "cell_type": "markdown",
   "id": "732677f0-bfd9-40cd-ab6b-9c3924e23946",
   "metadata": {},
   "source": [
    "### 22. Implement a program to determine the type of a triangle based on its angles."
   ]
  },
  {
   "cell_type": "code",
   "execution_count": 10,
   "id": "83148ccd-a420-4c5d-802b-90e907f8f36a",
   "metadata": {},
   "outputs": [
    {
     "name": "stdin",
     "output_type": "stream",
     "text": [
      "Enter the first angle of the triangle:  20\n",
      "Enter the second angle of the triangle:  20\n",
      "Enter the third angle of the triangle:  140\n"
     ]
    },
    {
     "name": "stdout",
     "output_type": "stream",
     "text": [
      "This is an isosceles triangle.\n"
     ]
    }
   ],
   "source": [
    "angle1 = int(input(\"Enter the first angle of the triangle: \"))\n",
    "angle2 = int(input(\"Enter the second angle of the triangle: \"))\n",
    "angle3 = int(input(\"Enter the third angle of the triangle: \"))\n",
    "\n",
    "# Check if the angles form a valid triangle\n",
    "if angle1 + angle2 + angle3 == 180 and angle1 > 0 and angle2 > 0 and angle3 > 0:\n",
    "    if angle1 == angle2 == angle3:\n",
    "        print(\"This is an equilateral triangle.\")\n",
    "    elif angle1 == angle2 or angle1 == angle3 or angle2 == angle3:\n",
    "        print(\"This is an isosceles triangle.\")\n",
    "    else:\n",
    "        print(\"This is a scalene triangle.\")\n",
    "else:\n",
    "    print(\"These angles do not form a valid triangle.\")\n"
   ]
  },
  {
   "cell_type": "markdown",
   "id": "5d560c3b-f666-4e3b-aa95-79858e20f4b5",
   "metadata": {},
   "source": [
    "### 23. Develop a program to categorize a given person's BMI into underweight, normal, overweight, or obese using elif statements."
   ]
  },
  {
   "cell_type": "code",
   "execution_count": 12,
   "id": "4bee4ede-a464-4550-9726-e96dab1082dc",
   "metadata": {},
   "outputs": [
    {
     "name": "stdin",
     "output_type": "stream",
     "text": [
      "Enter your weight in kilograms:  52\n",
      "Enter your height in meters:  5.5\n"
     ]
    },
    {
     "name": "stdout",
     "output_type": "stream",
     "text": [
      "Your BMI is: 1.72\n",
      "You are categorized as: underweight\n"
     ]
    }
   ],
   "source": [
    "weight = float(input(\"Enter your weight in kilograms: \"))\n",
    "height = float(input(\"Enter your height in meters: \"))\n",
    "\n",
    "bmi = weight / (height ** 2)\n",
    "\n",
    "if bmi < 18.5:\n",
    "    category = \"underweight\"\n",
    "elif 18.5 <= bmi < 25:\n",
    "    category = \"normal weight\"\n",
    "elif 25 <= bmi < 30:\n",
    "    category = \"overweight\"\n",
    "else:\n",
    "    category = \"obese\"\n",
    "\n",
    "print(f\"Your BMI is: {bmi:.2f}\")\n",
    "print(f\"You are categorized as: {category}\")\n"
   ]
  },
  {
   "cell_type": "markdown",
   "id": "7950b2fc-cf61-47d4-95f5-1bd7216ac576",
   "metadata": {},
   "source": [
    "### 24. Create a program that determines whether a given number is positive, negative, or zero using elif statements."
   ]
  },
  {
   "cell_type": "code",
   "execution_count": 13,
   "id": "919b80d0-fa06-49fc-80f6-c3c21332ebbd",
   "metadata": {},
   "outputs": [
    {
     "name": "stdin",
     "output_type": "stream",
     "text": [
      "Enter a number:  8\n"
     ]
    },
    {
     "name": "stdout",
     "output_type": "stream",
     "text": [
      "The number is positive.\n"
     ]
    }
   ],
   "source": [
    "number = float(input(\"Enter a number: \"))\n",
    "\n",
    "if number > 0:\n",
    "    print(\"The number is positive.\")\n",
    "elif number < 0:\n",
    "    print(\"The number is negative.\")\n",
    "else:\n",
    "    print(\"The number is zero.\")\n"
   ]
  },
  {
   "cell_type": "markdown",
   "id": "e92d65f2-f909-49f5-8800-9c95aca4ba6e",
   "metadata": {},
   "source": [
    "### 25. Write a Python script to determine the type of a character (uppercase, lowercase, or special) using elif statements."
   ]
  },
  {
   "cell_type": "code",
   "execution_count": 14,
   "id": "6ae94e86-d1e6-4950-8cd0-67b98eedd051",
   "metadata": {},
   "outputs": [
    {
     "name": "stdin",
     "output_type": "stream",
     "text": [
      "Enter a character:  a\n"
     ]
    },
    {
     "name": "stdout",
     "output_type": "stream",
     "text": [
      "The character is lowercase.\n"
     ]
    }
   ],
   "source": [
    "char = input(\"Enter a character: \")\n",
    "\n",
    "if char.isupper():\n",
    "    print(\"The character is uppercase.\")\n",
    "elif char.islower():\n",
    "    print(\"The character is lowercase.\")\n",
    "elif not char.isalpha() and not char.isdigit():\n",
    "    print(\"The character is a special character.\")\n",
    "else:\n",
    "    print(\"The character is not a letter.\")\n"
   ]
  },
  {
   "cell_type": "markdown",
   "id": "a7998740-2cd4-4fa9-bee1-10e05be33f53",
   "metadata": {},
   "source": [
    "### 26. Implement a program to calculate the discounted price based on different purchase amounts using elif statements."
   ]
  },
  {
   "cell_type": "code",
   "execution_count": 16,
   "id": "4726939e-b1f5-47d7-b4ba-e17944b4b582",
   "metadata": {},
   "outputs": [
    {
     "name": "stdin",
     "output_type": "stream",
     "text": [
      "Enter the purchase amount:  120\n"
     ]
    },
    {
     "name": "stdout",
     "output_type": "stream",
     "text": [
      "The discounted price after 5.0% discount is: $114.00\n"
     ]
    }
   ],
   "source": [
    "purchase_amount = float(input(\"Enter the purchase amount: \"))\n",
    "\n",
    "if purchase_amount < 100:\n",
    "    discount = 0\n",
    "elif purchase_amount < 500:\n",
    "    discount = 0.05\n",
    "elif purchase_amount < 1000:\n",
    "    discount = 0.1\n",
    "else:\n",
    "    discount = 0.15\n",
    "\n",
    "discounted_price = purchase_amount - (purchase_amount * discount)\n",
    "\n",
    "print(f\"The discounted price after {discount * 100}% discount is: ${discounted_price:.2f}\")\n"
   ]
  },
  {
   "cell_type": "markdown",
   "id": "79c6b52c-f57f-4466-9ef6-77c8f808c94e",
   "metadata": {},
   "source": [
    "### 27. Develop a program to calculate the electricity bill based on different consumption slabs using elif statements."
   ]
  },
  {
   "cell_type": "code",
   "execution_count": 17,
   "id": "3a63c46c-8037-46a7-8bdc-d5df21291710",
   "metadata": {},
   "outputs": [
    {
     "name": "stdin",
     "output_type": "stream",
     "text": [
      "Enter the total units consumed:  1144\n"
     ]
    },
    {
     "name": "stdout",
     "output_type": "stream",
     "text": [
      "The electricity bill for 1144.0 units is: $1561.00\n"
     ]
    }
   ],
   "source": [
    "units = float(input(\"Enter the total units consumed: \"))\n",
    "\n",
    "if units <= 50:\n",
    "    bill = units * 0.50\n",
    "elif units <= 150:\n",
    "    bill = 50 * 0.50 + (units - 50) * 0.75\n",
    "elif units <= 250:\n",
    "    bill = 50 * 0.50 + 100 * 0.75 + (units - 150) * 1.20\n",
    "else:\n",
    "    bill = 50 * 0.50 + 100 * 0.75 + 100 * 1.20 + (units - 250) * 1.50\n",
    "\n",
    "print(f\"The electricity bill for {units} units is: ${bill:.2f}\")"
   ]
  },
  {
   "cell_type": "markdown",
   "id": "52fea69a-a45d-45da-b86c-11702bcf2613",
   "metadata": {},
   "source": [
    "### 28. Create a program to determine the type of quadrilateral based on its angles and sides using elif statements."
   ]
  },
  {
   "cell_type": "code",
   "execution_count": 19,
   "id": "35ccf3c9-8279-4242-8795-ee0f5cba3556",
   "metadata": {},
   "outputs": [
    {
     "name": "stdin",
     "output_type": "stream",
     "text": [
      "Enter the first angle of the quadrilateral:  90\n",
      "Enter the second angle of the quadrilateral:  40\n",
      "Enter the third angle of the quadrilateral:  90\n",
      "Enter the fourth angle of the quadrilateral:  40\n",
      "Enter the length of side 1:  12\n",
      "Enter the length of side 2:  13\n",
      "Enter the length of side 3:  12\n",
      "Enter the length of side 4:  13\n"
     ]
    },
    {
     "name": "stdout",
     "output_type": "stream",
     "text": [
      "This is a general quadrilateral.\n"
     ]
    }
   ],
   "source": [
    "angle1 = int(input(\"Enter the first angle of the quadrilateral: \"))\n",
    "angle2 = int(input(\"Enter the second angle of the quadrilateral: \"))\n",
    "angle3 = int(input(\"Enter the third angle of the quadrilateral: \"))\n",
    "angle4 = int(input(\"Enter the fourth angle of the quadrilateral: \"))\n",
    "\n",
    "side1 = float(input(\"Enter the length of side 1: \"))\n",
    "side2 = float(input(\"Enter the length of side 2: \"))\n",
    "side3 = float(input(\"Enter the length of side 3: \"))\n",
    "side4 = float(input(\"Enter the length of side 4: \"))\n",
    "\n",
    "if angle1 == angle2 == angle3 == angle4 == 90:\n",
    "    if side1 == side2 == side3 == side4:\n",
    "        print(\"This is a square.\")\n",
    "    else:\n",
    "        print(\"This is a rectangle.\")\n",
    "elif side1 == side2 == side3 == side4:\n",
    "    print(\"This is a rhombus.\")\n",
    "elif side1 == side2 and side3 != side4 or side1 == side3 and side2 != side4 or side1 == side4 and side2 != side3:\n",
    "    print(\"This is a trapezoid.\")\n",
    "else:\n",
    "    print(\"This is a general quadrilateral.\")\n"
   ]
  },
  {
   "cell_type": "markdown",
   "id": "82c964cb-1c78-47bf-ac3b-a4df932485b7",
   "metadata": {},
   "source": [
    "### 29. Write a Python script to determine the season based on a user-provided month using elif statements."
   ]
  },
  {
   "cell_type": "code",
   "execution_count": 21,
   "id": "ebdb64b0-8399-443c-b38a-a16cb12d57be",
   "metadata": {},
   "outputs": [
    {
     "name": "stdin",
     "output_type": "stream",
     "text": [
      "Enter the month (e.g., January, February, etc.):  March\n"
     ]
    },
    {
     "name": "stdout",
     "output_type": "stream",
     "text": [
      "The season for March is: Spring\n"
     ]
    }
   ],
   "source": [
    "month = input(\"Enter the month (e.g., January, February, etc.): \")\n",
    "\n",
    "spring_months = [\"March\", \"April\", \"May\"]\n",
    "summer_months = [\"June\", \"July\", \"August\"]\n",
    "autumn_months = [\"September\", \"October\", \"November\"]\n",
    "winter_months = [\"December\", \"January\", \"February\"]\n",
    "\n",
    "if month in spring_months:\n",
    "    season = \"Spring\"\n",
    "elif month in summer_months:\n",
    "    season = \"Summer\"\n",
    "elif month in autumn_months:\n",
    "    season = \"Autumn\"\n",
    "elif month in winter_months:\n",
    "    season = \"Winter\"\n",
    "else:\n",
    "    season = \"Unknown\"\n",
    "\n",
    "if season != \"Unknown\":\n",
    "    print(f\"The season for {month} is: {season}\")\n",
    "else:\n",
    "    print(\"Please enter a valid month.\")"
   ]
  },
  {
   "cell_type": "markdown",
   "id": "211b93ad-f550-428c-bba3-ea74bd06d7be",
   "metadata": {},
   "source": [
    "### 30. Implement a program to determine the type of a year (leap or common) and month (30 or 31 days) using elif statements."
   ]
  },
  {
   "cell_type": "code",
   "execution_count": 23,
   "id": "b472a348-07a0-4e1a-adbe-fca050416938",
   "metadata": {},
   "outputs": [
    {
     "name": "stdin",
     "output_type": "stream",
     "text": [
      "Enter a year:  2023\n",
      "Enter a month (e.g., January, February, etc.):  January\n"
     ]
    },
    {
     "name": "stdout",
     "output_type": "stream",
     "text": [
      "2023 is a common year.\n",
      "The month of January in 2023 has 31 days.\n"
     ]
    }
   ],
   "source": [
    "year = int(input(\"Enter a year: \"))\n",
    "month = input(\"Enter a month (e.g., January, February, etc.): \")\n",
    "\n",
    "# Check if the year is a leap year\n",
    "if (year % 4 == 0 and year % 100 != 0) or (year % 400 == 0):\n",
    "    year_type = \"leap\"\n",
    "else:\n",
    "    year_type = \"common\"\n",
    "\n",
    "# Check the number of days in the entered month\n",
    "months_30_days = [\"April\", \"June\", \"September\", \"November\"]\n",
    "months_31_days = [\"January\", \"March\", \"May\", \"July\", \"August\", \"October\", \"December\"]\n",
    "\n",
    "if month in months_30_days:\n",
    "    days_in_month = 30\n",
    "elif month in months_31_days:\n",
    "    days_in_month = 31\n",
    "elif year_type == \"leap\" and month == \"February\":\n",
    "    days_in_month = 29\n",
    "else:\n",
    "    days_in_month = 28\n",
    "\n",
    "if year_type == \"leap\":\n",
    "    print(f\"{year} is a leap year.\")\n",
    "else:\n",
    "    print(f\"{year} is a common year.\")\n",
    "\n",
    "print(f\"The month of {month} in {year} has {days_in_month} days.\")\n"
   ]
  },
  {
   "cell_type": "markdown",
   "id": "62cd8357-1e43-4e49-9236-48d70229ce0d",
   "metadata": {},
   "source": [
    "# Basic level"
   ]
  },
  {
   "cell_type": "markdown",
   "id": "14a0ce4e-43ff-4915-a519-a7add72e2f91",
   "metadata": {},
   "source": [
    "### 1. Write a Python program that checks if a given number is positive, negative, or zero."
   ]
  },
  {
   "cell_type": "code",
   "execution_count": 24,
   "id": "9b2a0337-5c75-4bd4-90e2-8ab92f193286",
   "metadata": {},
   "outputs": [
    {
     "name": "stdin",
     "output_type": "stream",
     "text": [
      "Enter a number:  12\n"
     ]
    },
    {
     "name": "stdout",
     "output_type": "stream",
     "text": [
      "The number is positive.\n"
     ]
    }
   ],
   "source": [
    "number = float(input(\"Enter a number: \"))\n",
    "\n",
    "if number > 0:\n",
    "    print(\"The number is positive.\")\n",
    "elif number < 0:\n",
    "    print(\"The number is negative.\")\n",
    "else:\n",
    "    print(\"The number is zero.\")"
   ]
  },
  {
   "cell_type": "markdown",
   "id": "abb9bbc7-369a-4712-8c71-72597f3b9921",
   "metadata": {},
   "source": [
    "### 2. Create a program to determine if a person is eligible to vote based on their age."
   ]
  },
  {
   "cell_type": "code",
   "execution_count": 25,
   "id": "2d59eab4-e4fa-4ef1-9336-bd83da124cea",
   "metadata": {},
   "outputs": [
    {
     "name": "stdin",
     "output_type": "stream",
     "text": [
      "Enter your age:  17\n"
     ]
    },
    {
     "name": "stdout",
     "output_type": "stream",
     "text": [
      "You are not eligible to vote yet.\n"
     ]
    }
   ],
   "source": [
    "voting_age = 18\n",
    "\n",
    "age = int(input(\"Enter your age: \"))\n",
    "\n",
    "if age >= voting_age:\n",
    "    print(\"You are eligible to vote!\")\n",
    "else:\n",
    "    print(\"You are not eligible to vote yet.\")"
   ]
  },
  {
   "cell_type": "markdown",
   "id": "09d80aed-f14b-497e-a55e-d9b164b81b3c",
   "metadata": {},
   "source": [
    "### 3. Write a program to find the maximum of two given numbers using conditional statements."
   ]
  },
  {
   "cell_type": "code",
   "execution_count": 26,
   "id": "5ae1c57b-0e7e-400b-aa86-cb1179372dec",
   "metadata": {},
   "outputs": [
    {
     "name": "stdin",
     "output_type": "stream",
     "text": [
      "Enter the first number:  45\n",
      "Enter the second number:  68\n"
     ]
    },
    {
     "name": "stdout",
     "output_type": "stream",
     "text": [
      "The maximum of 45.0 and 68.0 is: 68.0\n"
     ]
    }
   ],
   "source": [
    "num1 = float(input(\"Enter the first number: \"))\n",
    "num2 = float(input(\"Enter the second number: \"))\n",
    "\n",
    "if num1 > num2:\n",
    "    maximum = num1\n",
    "else:\n",
    "    maximum = num2\n",
    "\n",
    "print(f\"The maximum of {num1} and {num2} is: {maximum}\")"
   ]
  },
  {
   "cell_type": "markdown",
   "id": "a91444f4-f233-4604-92d8-9b19fef6133b",
   "metadata": {},
   "source": [
    "### 4. Develop a program that calculates the grade of a student based on their exam score."
   ]
  },
  {
   "cell_type": "code",
   "execution_count": 27,
   "id": "3649040e-b9cc-45ad-b634-1f6393e7f95c",
   "metadata": {},
   "outputs": [
    {
     "name": "stdin",
     "output_type": "stream",
     "text": [
      "Enter the exam score:  70\n"
     ]
    },
    {
     "name": "stdout",
     "output_type": "stream",
     "text": [
      "The grade for the score 70.0 is: C\n"
     ]
    }
   ],
   "source": [
    "score = float(input(\"Enter the exam score: \"))\n",
    "\n",
    "if score >= 90:\n",
    "    grade = 'A'\n",
    "elif score >= 80:\n",
    "    grade = 'B'\n",
    "elif score >= 70:\n",
    "    grade = 'C'\n",
    "elif score >= 60:\n",
    "    grade = 'D'\n",
    "else:\n",
    "    grade = 'F'\n",
    "\n",
    "print(f\"The grade for the score {score} is: {grade}\")"
   ]
  },
  {
   "cell_type": "markdown",
   "id": "022aac2a-f147-456e-9893-546858219db9",
   "metadata": {},
   "source": [
    "### 5. Create a program that checks if a year is a leap year or not."
   ]
  },
  {
   "cell_type": "code",
   "execution_count": 28,
   "id": "b3fa3004-5526-4cec-b302-841167ef6252",
   "metadata": {},
   "outputs": [
    {
     "name": "stdin",
     "output_type": "stream",
     "text": [
      "Enter a year:  2022\n"
     ]
    },
    {
     "name": "stdout",
     "output_type": "stream",
     "text": [
      "2022 is not a leap year.\n"
     ]
    }
   ],
   "source": [
    "year = int(input(\"Enter a year: \"))\n",
    "\n",
    "if (year % 4 == 0 and year % 100 != 0) or (year % 400 == 0):\n",
    "    print(f\"{year} is a leap year.\")\n",
    "else:\n",
    "    print(f\"{year} is not a leap year.\")"
   ]
  },
  {
   "cell_type": "markdown",
   "id": "d904bcc1-b517-45b8-9c7d-fee017a98c28",
   "metadata": {},
   "source": [
    "### 6. Write a program to classify a triangle based on its sides' lengths."
   ]
  },
  {
   "cell_type": "code",
   "execution_count": 29,
   "id": "274d5ca6-ff43-436b-9c43-1f19a54b9736",
   "metadata": {},
   "outputs": [
    {
     "name": "stdin",
     "output_type": "stream",
     "text": [
      "Enter the length of side 1:  40\n",
      "Enter the length of side 2:  23\n",
      "Enter the length of side 3:  87\n"
     ]
    },
    {
     "name": "stdout",
     "output_type": "stream",
     "text": [
      "The triangle with side lengths 40.0, 23.0, 87.0 is: scalene\n"
     ]
    }
   ],
   "source": [
    "side1 = float(input(\"Enter the length of side 1: \"))\n",
    "side2 = float(input(\"Enter the length of side 2: \"))\n",
    "side3 = float(input(\"Enter the length of side 3: \"))\n",
    "\n",
    "if side1 == side2 == side3:\n",
    "    triangle_type = \"equilateral\"\n",
    "elif side1 == side2 or side1 == side3 or side2 == side3:\n",
    "    triangle_type = \"isosceles\"\n",
    "else:\n",
    "    triangle_type = \"scalene\"\n",
    "\n",
    "print(f\"The triangle with side lengths {side1}, {side2}, {side3} is: {triangle_type}\")"
   ]
  },
  {
   "cell_type": "markdown",
   "id": "1f54c8d0-e01b-47fe-a27e-c3d5697485f0",
   "metadata": {},
   "source": [
    "### 7. Build a program that determines the largest of three given numbers."
   ]
  },
  {
   "cell_type": "code",
   "execution_count": 30,
   "id": "d504113c-9a56-4c05-a4d0-368db29ccf3d",
   "metadata": {},
   "outputs": [
    {
     "name": "stdin",
     "output_type": "stream",
     "text": [
      "Enter the first number:  23\n",
      "Enter the second number:  67\n",
      "Enter the third number:  45\n"
     ]
    },
    {
     "name": "stdout",
     "output_type": "stream",
     "text": [
      "The largest number among 23.0, 67.0, and 45.0 is: 67.0\n"
     ]
    }
   ],
   "source": [
    "num1 = float(input(\"Enter the first number: \"))\n",
    "num2 = float(input(\"Enter the second number: \"))\n",
    "num3 = float(input(\"Enter the third number: \"))\n",
    "\n",
    "if num1 >= num2 and num1 >= num3:\n",
    "    largest = num1\n",
    "elif num2 >= num1 and num2 >= num3:\n",
    "    largest = num2\n",
    "else:\n",
    "    largest = num3\n",
    "\n",
    "print(f\"The largest number among {num1}, {num2}, and {num3} is: {largest}\")"
   ]
  },
  {
   "cell_type": "markdown",
   "id": "2245922c-158a-49ed-948b-271b0df844a5",
   "metadata": {},
   "source": [
    "### 8. Develop a program that checks whether a character is a vowel or a consonant."
   ]
  },
  {
   "cell_type": "code",
   "execution_count": 31,
   "id": "0b0ca16c-6e4c-4841-b1ab-157fa3c0926a",
   "metadata": {},
   "outputs": [
    {
     "name": "stdin",
     "output_type": "stream",
     "text": [
      "Enter a character:  L\n"
     ]
    },
    {
     "name": "stdout",
     "output_type": "stream",
     "text": [
      "The character 'L' is a consonant.\n"
     ]
    }
   ],
   "source": [
    "character = input(\"Enter a character: \")\n",
    "\n",
    "if character.isalpha() and len(character) == 1:\n",
    "    if character.lower() in ['a', 'e', 'i', 'o', 'u']:\n",
    "        print(f\"The character '{character}' is a vowel.\")\n",
    "    else:\n",
    "        print(f\"The character '{character}' is a consonant.\")\n",
    "else:\n",
    "    print(\"Please enter a single alphabet character.\")"
   ]
  },
  {
   "cell_type": "markdown",
   "id": "32951800-154c-4d81-838a-0b01f6d4f691",
   "metadata": {},
   "source": [
    "### 9. Create a program to calculate the total cost of a shopping cart based on discounts."
   ]
  },
  {
   "cell_type": "code",
   "execution_count": 33,
   "id": "178dafe7-3a8d-47b8-854a-4c084abd12c4",
   "metadata": {},
   "outputs": [
    {
     "name": "stdin",
     "output_type": "stream",
     "text": [
      "Enter the price of the product:  67\n",
      "Enter the quantity of the product:  11\n"
     ]
    },
    {
     "name": "stdout",
     "output_type": "stream",
     "text": [
      "The total cost of 11 items is: $663.30\n"
     ]
    }
   ],
   "source": [
    "product_price = float(input(\"Enter the price of the product: \"))\n",
    "product_quantity = int(input(\"Enter the quantity of the product: \"))\n",
    "\n",
    "total_cost = product_price * product_quantity\n",
    "\n",
    "if product_quantity >= 10:\n",
    "    total_cost *= 0.9\n",
    "\n",
    "print(f\"The total cost of {product_quantity} items is: ${total_cost:.2f}\")"
   ]
  },
  {
   "cell_type": "markdown",
   "id": "508f70cc-9dac-4f5a-9448-31327af64b83",
   "metadata": {},
   "source": [
    "### 10. Write a program that checks if a given number is even or odd."
   ]
  },
  {
   "cell_type": "code",
   "execution_count": 34,
   "id": "6aaa143d-be0b-409c-92a9-ca1b51ec1059",
   "metadata": {},
   "outputs": [
    {
     "name": "stdin",
     "output_type": "stream",
     "text": [
      "Enter a number:  56\n"
     ]
    },
    {
     "name": "stdout",
     "output_type": "stream",
     "text": [
      "The number 56 is even.\n"
     ]
    }
   ],
   "source": [
    "number = int(input(\"Enter a number: \"))\n",
    "\n",
    "if number % 2 == 0:\n",
    "    print(f\"The number {number} is even.\")\n",
    "else:\n",
    "    print(f\"The number {number} is odd.\")"
   ]
  },
  {
   "cell_type": "markdown",
   "id": "a7e9ad34-7ff2-4395-84c5-5c9331dc97c6",
   "metadata": {},
   "source": [
    "### 11. Write a program that calculates the roots of a quadratic equation ."
   ]
  },
  {
   "cell_type": "code",
   "execution_count": 35,
   "id": "482ab158-bc43-48f5-afce-a90806556855",
   "metadata": {},
   "outputs": [
    {
     "name": "stdin",
     "output_type": "stream",
     "text": [
      "Enter the coefficient a:  78\n",
      "Enter the coefficient b:  43\n",
      "Enter the coefficient c:  12\n"
     ]
    },
    {
     "name": "stdout",
     "output_type": "stream",
     "text": [
      "The roots of the quadratic equation are complex: -0.27564102564102566 + 0.2790487033292169i and -0.27564102564102566 - 0.2790487033292169i\n"
     ]
    }
   ],
   "source": [
    "a = float(input(\"Enter the coefficient a: \"))\n",
    "b = float(input(\"Enter the coefficient b: \"))\n",
    "c = float(input(\"Enter the coefficient c: \"))\n",
    "\n",
    "discriminant = b**2 - 4 * a * c\n",
    "\n",
    "if discriminant > 0:\n",
    "    root1 = (-b + (discriminant ** 0.5)) / (2 * a)\n",
    "    root2 = (-b - (discriminant ** 0.5)) / (2 * a)\n",
    "    print(f\"The roots of the quadratic equation are real and distinct: {root1} and {root2}\")\n",
    "elif discriminant == 0:\n",
    "    root = -b / (2 * a)\n",
    "    print(f\"The root of the quadratic equation is real and equal: {root}\")\n",
    "else:\n",
    "    real_part = -b / (2 * a)\n",
    "    imaginary_part = ((-discriminant) ** 0.5) / (2 * a)\n",
    "    print(f\"The roots of the quadratic equation are complex: {real_part} + {imaginary_part}i and {real_part} - {imaginary_part}i\")\n"
   ]
  },
  {
   "cell_type": "markdown",
   "id": "8f7894a3-7486-4e3f-9055-f41592b02c6f",
   "metadata": {},
   "source": [
    "### 12. Create a program that determines the day of the week based on the day number (1-7)."
   ]
  },
  {
   "cell_type": "code",
   "execution_count": 36,
   "id": "6774342c-dc9f-4aff-959d-9fbac6120f60",
   "metadata": {},
   "outputs": [
    {
     "name": "stdin",
     "output_type": "stream",
     "text": [
      "Enter the day number (1-7):  6\n"
     ]
    },
    {
     "name": "stdout",
     "output_type": "stream",
     "text": [
      "The day of the week for day number 6 is: Saturday\n"
     ]
    }
   ],
   "source": [
    "day_number = int(input(\"Enter the day number (1-7): \"))\n",
    "\n",
    "if day_number == 1:\n",
    "    day = \"Monday\"\n",
    "elif day_number == 2:\n",
    "    day = \"Tuesday\"\n",
    "elif day_number == 3:\n",
    "    day = \"Wednesday\"\n",
    "elif day_number == 4:\n",
    "    day = \"Thursday\"\n",
    "elif day_number == 5:\n",
    "    day = \"Friday\"\n",
    "elif day_number == 6:\n",
    "    day = \"Saturday\"\n",
    "elif day_number == 7:\n",
    "    day = \"Sunday\"\n",
    "else:\n",
    "    day = \"Invalid day number. Please enter a number between 1 and 7.\"\n",
    "\n",
    "print(f\"The day of the week for day number {day_number} is: {day}\")"
   ]
  },
  {
   "cell_type": "markdown",
   "id": "76dde2eb-3613-45a9-bbf5-10fd534d7e4c",
   "metadata": {},
   "source": [
    "### 13. Develop a program that calculates the factorial of a given number using recursion."
   ]
  },
  {
   "cell_type": "code",
   "execution_count": 37,
   "id": "45c4827d-e2bd-4133-996b-676f509ea276",
   "metadata": {},
   "outputs": [
    {
     "name": "stdin",
     "output_type": "stream",
     "text": [
      "Enter a number to calculate its factorial:  8\n"
     ]
    },
    {
     "name": "stdout",
     "output_type": "stream",
     "text": [
      "The factorial of 8 is: 40320\n"
     ]
    }
   ],
   "source": [
    "number = int(input(\"Enter a number to calculate its factorial: \"))\n",
    "\n",
    "factorial = 1\n",
    "\n",
    "if number < 0:\n",
    "    print(\"Factorial is not defined for negative numbers.\")\n",
    "elif number == 0 or number == 1:\n",
    "    print(f\"The factorial of {number} is: 1\")\n",
    "else:\n",
    "    for i in range(2, number + 1):\n",
    "        factorial *= i\n",
    "\n",
    "    print(f\"The factorial of {number} is: {factorial}\")"
   ]
  },
  {
   "cell_type": "markdown",
   "id": "460e8436-bdfb-460b-ad63-db5168328f07",
   "metadata": {},
   "source": [
    "### 14. Write a program to find the largest among three numbers without using the `max()` function."
   ]
  },
  {
   "cell_type": "code",
   "execution_count": 38,
   "id": "b6e24cf3-0aec-4ce8-98bd-33d4d89d3525",
   "metadata": {},
   "outputs": [
    {
     "name": "stdin",
     "output_type": "stream",
     "text": [
      "Enter the first number:  65\n",
      "Enter the second number:  21\n",
      "Enter the third number:  11\n"
     ]
    },
    {
     "name": "stdout",
     "output_type": "stream",
     "text": [
      "The largest number among 65.0, 21.0, and 11.0 is: 65.0\n"
     ]
    }
   ],
   "source": [
    "num1 = float(input(\"Enter the first number: \"))\n",
    "num2 = float(input(\"Enter the second number: \"))\n",
    "num3 = float(input(\"Enter the third number: \"))\n",
    "\n",
    "largest = num1\n",
    "\n",
    "if num2 > largest:\n",
    "    largest = num2\n",
    "\n",
    "if num3 > largest:\n",
    "    largest = num3\n",
    "\n",
    "print(f\"The largest number among {num1}, {num2}, and {num3} is: {largest}\")"
   ]
  },
  {
   "cell_type": "markdown",
   "id": "006aea64-0d6d-4f55-9818-069788d96102",
   "metadata": {},
   "source": [
    "### 15. Create a program that simulates a basic ATM transaction menu."
   ]
  },
  {
   "cell_type": "code",
   "execution_count": 39,
   "id": "eca0e478-b1c7-4346-8e43-43795e511c85",
   "metadata": {},
   "outputs": [
    {
     "name": "stdout",
     "output_type": "stream",
     "text": [
      "Welcome to the ATM!\n",
      "\n",
      "Please select an option:\n",
      "1. Check Balance\n",
      "2. Withdraw Money\n",
      "3. Deposit Money\n",
      "4. Exit\n"
     ]
    },
    {
     "name": "stdin",
     "output_type": "stream",
     "text": [
      "Enter your choice (1-4):  3\n",
      "Enter the amount to deposit:  689\n"
     ]
    },
    {
     "name": "stdout",
     "output_type": "stream",
     "text": [
      "Deposit successful. Your current balance is: $1689.0\n",
      "\n",
      "Please select an option:\n",
      "1. Check Balance\n",
      "2. Withdraw Money\n",
      "3. Deposit Money\n",
      "4. Exit\n"
     ]
    },
    {
     "name": "stdin",
     "output_type": "stream",
     "text": [
      "Enter your choice (1-4):  3\n",
      "Enter the amount to deposit:  32\n"
     ]
    },
    {
     "name": "stdout",
     "output_type": "stream",
     "text": [
      "Deposit successful. Your current balance is: $1721.0\n",
      "\n",
      "Please select an option:\n",
      "1. Check Balance\n",
      "2. Withdraw Money\n",
      "3. Deposit Money\n",
      "4. Exit\n"
     ]
    },
    {
     "name": "stdin",
     "output_type": "stream",
     "text": [
      "Enter your choice (1-4):  4\n"
     ]
    },
    {
     "name": "stdout",
     "output_type": "stream",
     "text": [
      "Thank you for using the ATM. Goodbye!\n"
     ]
    }
   ],
   "source": [
    "print(\"Welcome to the ATM!\")\n",
    "balance = 1000  \n",
    "\n",
    "while True:\n",
    "    print(\"\\nPlease select an option:\")\n",
    "    print(\"1. Check Balance\")\n",
    "    print(\"2. Withdraw Money\")\n",
    "    print(\"3. Deposit Money\")\n",
    "    print(\"4. Exit\")\n",
    "\n",
    "    choice = input(\"Enter your choice (1-4): \")\n",
    "\n",
    "    if choice == '1':\n",
    "        print(f\"Your current balance is: ${balance}\")\n",
    "    elif choice == '2':\n",
    "        amount = float(input(\"Enter the amount to withdraw: \"))\n",
    "        if amount > balance:\n",
    "            print(\"Insufficient funds!\")\n",
    "        else:\n",
    "            balance -= amount\n",
    "            print(f\"Withdrawal successful. Your current balance is: ${balance}\")\n",
    "    elif choice == '3':\n",
    "        amount = float(input(\"Enter the amount to deposit: \"))\n",
    "        balance += amount\n",
    "        print(f\"Deposit successful. Your current balance is: ${balance}\")\n",
    "    elif choice == '4':\n",
    "        print(\"Thank you for using the ATM. Goodbye!\")\n",
    "        break\n",
    "    else:\n",
    "        print(\"Invalid choice. Please enter a valid option (1-4).\")\n"
   ]
  },
  {
   "cell_type": "markdown",
   "id": "0b1146c0-083f-42c7-a246-a5be40fe8c65",
   "metadata": {},
   "source": [
    "### 16. Build a program that checks if a given string is a palindrome or not."
   ]
  },
  {
   "cell_type": "code",
   "execution_count": 40,
   "id": "fc31bca4-5da0-45ce-b045-9be7542a8b6d",
   "metadata": {},
   "outputs": [
    {
     "name": "stdin",
     "output_type": "stream",
     "text": [
      "Enter a string:  vini\n"
     ]
    },
    {
     "name": "stdout",
     "output_type": "stream",
     "text": [
      "The string 'vini' is not a palindrome.\n"
     ]
    }
   ],
   "source": [
    "string = input(\"Enter a string: \")\n",
    "cleaned_string = ''.join(e for e in string if e.isalnum()).lower()\n",
    "if cleaned_string == cleaned_string[::-1]:\n",
    "    print(f\"The string '{string}' is a palindrome.\")\n",
    "else:\n",
    "    print(f\"The string '{string}' is not a palindrome.\")"
   ]
  },
  {
   "cell_type": "markdown",
   "id": "d9611d2e-fcac-4126-8e2d-e6405ea3f19a",
   "metadata": {},
   "source": [
    "### 17. Write a program that calculates the average of a list of numbers, excluding the smallest and largest values."
   ]
  },
  {
   "cell_type": "code",
   "execution_count": 41,
   "id": "7a6748b2-9011-44ef-9b9b-f88be2dcfbae",
   "metadata": {},
   "outputs": [
    {
     "name": "stdin",
     "output_type": "stream",
     "text": [
      "Enter a list of numbers separated by spaces:  123\n"
     ]
    },
    {
     "name": "stdout",
     "output_type": "stream",
     "text": [
      "Please enter at least three numbers.\n"
     ]
    }
   ],
   "source": [
    "numbers = [float(x) for x in input(\"Enter a list of numbers separated by spaces: \").split()]\n",
    "\n",
    "if len(numbers) < 3:\n",
    "    print(\"Please enter at least three numbers.\")\n",
    "else:\n",
    "    numbers.sort()\n",
    "    numbers = numbers[1:-1]  # Exclude the smallest and largest values\n",
    "    average = sum(numbers) / len(numbers)\n",
    "    print(f\"The average of the numbers (excluding smallest and largest) is: {average:.2f}\")"
   ]
  },
  {
   "cell_type": "markdown",
   "id": "37a02124-c6bf-4068-877a-cc54c21da645",
   "metadata": {},
   "source": [
    "### 18. Develop a program that converts a given temperature from Celsius to Fahrenheit."
   ]
  },
  {
   "cell_type": "code",
   "execution_count": 42,
   "id": "bc2d8dcd-4e7f-45fa-ad85-b20af0b390af",
   "metadata": {},
   "outputs": [
    {
     "name": "stdin",
     "output_type": "stream",
     "text": [
      "Enter the temperature in Celsius:  1.1\n"
     ]
    },
    {
     "name": "stdout",
     "output_type": "stream",
     "text": [
      "The temperature 1.1°C in Fahrenheit is: 33.98°F\n"
     ]
    }
   ],
   "source": [
    "celsius = float(input(\"Enter the temperature in Celsius: \"))\n",
    "\n",
    "fahrenheit = (celsius * 9/5) + 32\n",
    "\n",
    "print(f\"The temperature {celsius}°C in Fahrenheit is: {fahrenheit}°F\")\n"
   ]
  },
  {
   "cell_type": "markdown",
   "id": "0b63f381-1ffc-4c2e-b37a-93d7f9045126",
   "metadata": {},
   "source": [
    "### 19. Create a program that simulates a basic calculator for addition, subtraction, multiplication, and division."
   ]
  },
  {
   "cell_type": "code",
   "execution_count": 43,
   "id": "6881bb41-2aec-4006-a5c0-9bd27b84a292",
   "metadata": {},
   "outputs": [
    {
     "name": "stdout",
     "output_type": "stream",
     "text": [
      "Welcome to the Basic Calculator!\n",
      "\n",
      "Select operation:\n",
      "1. Addition\n",
      "2. Subtraction\n",
      "3. Multiplication\n",
      "4. Division\n",
      "5. Exit\n"
     ]
    },
    {
     "name": "stdin",
     "output_type": "stream",
     "text": [
      "Enter choice (1-5):  4\n",
      "Enter first number:  11\n",
      "Enter second number:  23\n"
     ]
    },
    {
     "name": "stdout",
     "output_type": "stream",
     "text": [
      "The result of 11.0 / 23.0 is: 0.4782608695652174\n",
      "\n",
      "Select operation:\n",
      "1. Addition\n",
      "2. Subtraction\n",
      "3. Multiplication\n",
      "4. Division\n",
      "5. Exit\n"
     ]
    },
    {
     "name": "stdin",
     "output_type": "stream",
     "text": [
      "Enter choice (1-5):  5\n"
     ]
    },
    {
     "name": "stdout",
     "output_type": "stream",
     "text": [
      "Thank you for using the Basic Calculator. Goodbye!\n"
     ]
    }
   ],
   "source": [
    "print(\"Welcome to the Basic Calculator!\")\n",
    "\n",
    "while True:\n",
    "    print(\"\\nSelect operation:\")\n",
    "    print(\"1. Addition\")\n",
    "    print(\"2. Subtraction\")\n",
    "    print(\"3. Multiplication\")\n",
    "    print(\"4. Division\")\n",
    "    print(\"5. Exit\")\n",
    "\n",
    "    choice = input(\"Enter choice (1-5): \")\n",
    "\n",
    "    if choice in ('1', '2', '3', '4'):\n",
    "        num1 = float(input(\"Enter first number: \"))\n",
    "        num2 = float(input(\"Enter second number: \"))\n",
    "\n",
    "        if choice == '1':\n",
    "            result = num1 + num2\n",
    "            print(f\"The result of {num1} + {num2} is: {result}\")\n",
    "        elif choice == '2':\n",
    "            result = num1 - num2\n",
    "            print(f\"The result of {num1} - {num2} is: {result}\")\n",
    "        elif choice == '3':\n",
    "            result = num1 * num2\n",
    "            print(f\"The result of {num1} * {num2} is: {result}\")\n",
    "        elif choice == '4':\n",
    "            if num2 != 0:\n",
    "                result = num1 / num2\n",
    "                print(f\"The result of {num1} / {num2} is: {result}\")\n",
    "            else:\n",
    "                print(\"Division by zero is not allowed.\")\n",
    "    elif choice == '5':\n",
    "        print(\"Thank you for using the Basic Calculator. Goodbye!\")\n",
    "        break\n",
    "    else:\n",
    "        print(\"Invalid input. Please enter a valid choice (1-5).\")"
   ]
  },
  {
   "cell_type": "markdown",
   "id": "2785b34d-9198-4606-a572-6e11d0b746df",
   "metadata": {},
   "source": [
    "### 20. Write a program that determines the roots of a cubic equation using the Cardano formula."
   ]
  },
  {
   "cell_type": "code",
   "execution_count": 1,
   "id": "2c2bd224-eb71-49c9-8f71-c8872bdede26",
   "metadata": {},
   "outputs": [
    {
     "name": "stdin",
     "output_type": "stream",
     "text": [
      "Enter the coefficient a:  34\n",
      "Enter the coefficient b:  78\n",
      "Enter the coefficient c:  67\n",
      "Enter the coefficient d:  55\n"
     ]
    },
    {
     "name": "stdout",
     "output_type": "stream",
     "text": [
      "Root 1: (-1.138536640379545-0.011505504827920633j)\n",
      "Root 2: (-0.5764458216971903-0.33083195325202075j)\n",
      "Root 3: (-0.5791351849820883+0.34233745807994137j)\n"
     ]
    }
   ],
   "source": [
    "import cmath\n",
    "\n",
    "\n",
    "a = float(input(\"Enter the coefficient a: \"))\n",
    "b = float(input(\"Enter the coefficient b: \"))\n",
    "c = float(input(\"Enter the coefficient c: \"))\n",
    "d = float(input(\"Enter the coefficient d: \"))\n",
    "\n",
    "# Discriminant and its square root\n",
    "delta = 18 * a * b * c * d - 4 * b**3 * d + b**2 * c**2 - 4 * a * c**3 - 27 * a**2 * d**2\n",
    "delta_root = cmath.sqrt(delta)\n",
    "\n",
    "\n",
    "C = ((delta_root + 27 * a**2 * d - 9 * a * b * c) / 2)**(1/3)\n",
    "u = (-1 + 1j * cmath.sqrt(3)) / 2\n",
    "\n",
    "if delta == 0:\n",
    "    root = -(b / (3 * a))\n",
    "    print(\"Root:\", root)\n",
    "elif delta > 0:\n",
    "    root_real = -(1 / (3 * a)) * (b + C + (delta_root - 3 * b * C) / (9 * a * C))\n",
    "    root_complex_1 = -(1 / (3 * a)) * (b + u * C + u**2 * (delta_root - 3 * b * C) / (9 * a * C))\n",
    "    root_complex_2 = -(1 / (3 * a)) * (b + u**2 * C + u * (delta_root - 3 * b * C) / (9 * a * C))\n",
    "    \n",
    "    print(\"Real Root:\", root_real)\n",
    "    print(\"Complex Root 1:\", root_complex_1)\n",
    "    print(\"Complex Root 2:\", root_complex_2)\n",
    "else:\n",
    "    # Three real roots\n",
    "    root_1 = -(1 / (3 * a)) * (b + C + (delta_root - 3 * b * C) / (9 * a * C))\n",
    "    root_2 = -(1 / (3 * a)) * (b + u * C + u**2 * (delta_root - 3 * b * C) / (9 * a * C))\n",
    "    root_3 = -(1 / (3 * a)) * (b + u**2 * C + u * (delta_root - 3 * b * C) / (9 * a * C))\n",
    "    \n",
    "    print(\"Root 1:\", root_1)\n",
    "    print(\"Root 2:\", root_2)\n",
    "    print(\"Root 3:\", root_3)\n"
   ]
  },
  {
   "cell_type": "markdown",
   "id": "d01f9ad5-97e8-4646-8c31-b6d16609c250",
   "metadata": {},
   "source": [
    "### 21. Create a program that calculates the income tax based on the user's income and tax brackets."
   ]
  },
  {
   "cell_type": "code",
   "execution_count": 3,
   "id": "48bf47f3-a35f-41a0-b2a9-dac516562f90",
   "metadata": {},
   "outputs": [
    {
     "name": "stdin",
     "output_type": "stream",
     "text": [
      "Enter your income:  600000\n"
     ]
    },
    {
     "name": "stdout",
     "output_type": "stream",
     "text": [
      "Your income tax is: 229000.00\n"
     ]
    }
   ],
   "source": [
    "income = float(input(\"Enter your income: \"))\n",
    "\n",
    "brackets = [10000, 30000, 70000, float('inf')]\n",
    "rates = [0.1, 0.2, 0.3, 0.4]\n",
    "\n",
    "# Calculate tax based on income and tax brackets\n",
    "tax = 0\n",
    "previous_bracket = 0\n",
    "\n",
    "for i in range(len(brackets)):\n",
    "    if income <= brackets[i]:\n",
    "        tax += (income - previous_bracket) * rates[i]\n",
    "        break\n",
    "    else:\n",
    "        tax += (brackets[i] - previous_bracket) * rates[i]\n",
    "        previous_bracket = brackets[i]\n",
    "\n",
    "# Display income tax\n",
    "print(f\"Your income tax is: {tax:.2f}\")\n"
   ]
  },
  {
   "cell_type": "markdown",
   "id": "d7fb1d47-914a-42a8-b95d-c712c2a7bdfc",
   "metadata": {},
   "source": [
    "### 22. Write a program that simulates a rock-paper-scissors game against the computer."
   ]
  },
  {
   "cell_type": "code",
   "execution_count": 5,
   "id": "44de8401-00b6-470a-8249-c32b78166f52",
   "metadata": {},
   "outputs": [
    {
     "name": "stdin",
     "output_type": "stream",
     "text": [
      "Enter your choice (rock, paper, scissors):  scissors\n"
     ]
    },
    {
     "name": "stdout",
     "output_type": "stream",
     "text": [
      "You choose: scissors\n",
      "Computer choose: paper\n",
      "You win!\n"
     ]
    }
   ],
   "source": [
    "import random\n",
    "\n",
    "user_choice = input(\"Enter your choice (rock, paper, scissors): \").lower()\n",
    "\n",
    "computer_choice = random.choice([\"rock\", \"paper\", \"scissors\"])\n",
    "\n",
    "print(f\"You choose: {user_choice}\")\n",
    "print(f\"Computer choose: {computer_choice}\")\n",
    "\n",
    "if user_choice == computer_choice:\n",
    "    print(\"It's a tie!\")\n",
    "elif (user_choice == \"rock\" and computer_choice == \"scissors\") or \\\n",
    "     (user_choice == \"paper\" and computer_choice == \"rock\") or \\\n",
    "     (user_choice == \"scissors\" and computer_choice == \"paper\"):\n",
    "    print(\"You win!\")\n",
    "else:\n",
    "    print(\"Computer wins!\")\n"
   ]
  },
  {
   "cell_type": "markdown",
   "id": "2ccc756a-e063-44e7-a44f-c6389652b118",
   "metadata": {},
   "source": [
    "### 23. Develop a program that generates a random password based on user preferences (length, complexity)."
   ]
  },
  {
   "cell_type": "code",
   "execution_count": 6,
   "id": "e5c403f4-43cb-4078-a165-92f90305db61",
   "metadata": {},
   "outputs": [
    {
     "name": "stdin",
     "output_type": "stream",
     "text": [
      "Enter the length of the password:  7\n",
      "Enter the desired complexity (easy, medium, hard):  medium\n"
     ]
    },
    {
     "name": "stdout",
     "output_type": "stream",
     "text": [
      "Generated Password: KC9vvz1\n"
     ]
    }
   ],
   "source": [
    "import random\n",
    "import string\n",
    "\n",
    "length = int(input(\"Enter the length of the password: \"))\n",
    "complexity = input(\"Enter the desired complexity (easy, medium, hard): \").lower()\n",
    "\n",
    "if complexity == \"easy\":\n",
    "    characters = string.ascii_letters  # only letters\n",
    "elif complexity == \"medium\":\n",
    "    characters = string.ascii_letters + string.digits  # letters and digits\n",
    "elif complexity == \"hard\":\n",
    "    characters = string.ascii_letters + string.digits + string.punctuation  # letters, digits, and punctuation\n",
    "else:\n",
    "    print(\"Invalid complexity choice. Please choose from easy, medium, or hard.\")\n",
    "    exit()\n",
    "\n",
    "# Generate random password\n",
    "password = ''.join(random.choice(characters) for _ in range(length))\n",
    "\n",
    "print(\"Generated Password:\", password)\n"
   ]
  },
  {
   "cell_type": "markdown",
   "id": "ff2bc6b1-6cac-4a0c-bb1f-4cd8dd98326c",
   "metadata": {},
   "source": [
    "### 24. Create a program that implements a simple text-based adventure game with branching scenarios."
   ]
  },
  {
   "cell_type": "code",
   "execution_count": 7,
   "id": "0a3b5741-13c8-4774-acfe-994535479dc9",
   "metadata": {},
   "outputs": [
    {
     "name": "stdout",
     "output_type": "stream",
     "text": [
      "Welcome to the Text Adventure Game!\n",
      "\n",
      "You find yourself standing in front of two doors.\n"
     ]
    },
    {
     "name": "stdin",
     "output_type": "stream",
     "text": [
      "Do you want to go through the 'left' door or the 'right' door?  right\n"
     ]
    },
    {
     "name": "stdout",
     "output_type": "stream",
     "text": [
      "\n",
      "You enter a dark cave. There's a mysterious sound. What do you want to do?\n"
     ]
    },
    {
     "name": "stdin",
     "output_type": "stream",
     "text": [
      "Do you want to 'investigate' the sound or 'run' away?  run\n"
     ]
    },
    {
     "name": "stdout",
     "output_type": "stream",
     "text": [
      "\n",
      "You run away from the cave, narrowly escaping danger. You survive!\n",
      "\n",
      "Thanks for playing the Text Adventure Game!\n"
     ]
    }
   ],
   "source": [
    "import time\n",
    "\n",
    "print(\"Welcome to the Text Adventure Game!\")\n",
    "\n",
    "# Scenario 1\n",
    "print(\"\\nYou find yourself standing in front of two doors.\")\n",
    "choice1 = input(\"Do you want to go through the 'left' door or the 'right' door? \").lower()\n",
    "\n",
    "if choice1 == \"left\":\n",
    "    # Scenario 2\n",
    "    print(\"\\nYou enter a room filled with treasure! What do you want to do?\")\n",
    "    choice2 = input(\"Do you want to 'take' the treasure or 'leave' the room? \").lower()\n",
    "\n",
    "    if choice2 == \"take\":\n",
    "        print(\"\\nCongratulations! You are now rich. You win!\")\n",
    "    elif choice2 == \"leave\":\n",
    "        print(\"\\nYou decided to leave the treasure room. Better luck next time.\")\n",
    "    else:\n",
    "        print(\"\\nInvalid choice. Game over!\")\n",
    "\n",
    "elif choice1 == \"right\":\n",
    "    # Scenario 3\n",
    "    print(\"\\nYou enter a dark cave. There's a mysterious sound. What do you want to do?\")\n",
    "    choice3 = input(\"Do you want to 'investigate' the sound or 'run' away? \").lower()\n",
    "\n",
    "    if choice3 == \"investigate\":\n",
    "        print(\"\\nYou find a friendly dragon! It offers to guide you out of the cave. You win!\")\n",
    "    elif choice3 == \"run\":\n",
    "        print(\"\\nYou run away from the cave, narrowly escaping danger. You survive!\")\n",
    "    else:\n",
    "        print(\"\\nInvalid choice. Game over!\")\n",
    "\n",
    "else:\n",
    "    print(\"\\nInvalid choice. Game over!\")\n",
    "\n",
    "# Add a delay before exiting the program\n",
    "time.sleep(2)\n",
    "print(\"\\nThanks for playing the Text Adventure Game!\")\n"
   ]
  },
  {
   "cell_type": "markdown",
   "id": "04dc2397-386d-4d43-86b9-36a194dfc3e9",
   "metadata": {},
   "source": [
    "### 25. Build a program that solves a linear equation for x, considering different cases."
   ]
  },
  {
   "cell_type": "code",
   "execution_count": 10,
   "id": "89ab401b-c2a2-4524-907f-a5aaf0a07d4c",
   "metadata": {},
   "outputs": [
    {
     "name": "stdin",
     "output_type": "stream",
     "text": [
      "Enter the coefficient of x:  5\n",
      "Enter the constant term:  -25\n"
     ]
    },
    {
     "name": "stdout",
     "output_type": "stream",
     "text": [
      "The solution for x is: 5.0\n"
     ]
    }
   ],
   "source": [
    "a = float(input(\"Enter the coefficient of x: \"))\n",
    "b = float(input(\"Enter the constant term: \"))\n",
    "\n",
    "# Check different cases of the linear equation ax + b = 0\n",
    "if a == 0 and b == 0:\n",
    "    print(\"Infinite solutions (the equation is always true)\")\n",
    "\n",
    "elif a == 0 and b != 0:\n",
    "    print(\"No solution (the equation is always false)\")\n",
    "\n",
    "else:\n",
    "    # Solve the linear equation ax + b = 0\n",
    "    x = -b / a\n",
    "    print(f\"The solution for x is: {x}\")\n"
   ]
  },
  {
   "cell_type": "markdown",
   "id": "1256269c-a670-4351-acda-d3f0e07bfd3a",
   "metadata": {},
   "source": [
    "### 26. Write a program that simulates a basic quiz game with multiple-choice questions and scoring."
   ]
  },
  {
   "cell_type": "code",
   "execution_count": 11,
   "id": "c745fc10-e144-4529-bf4c-182f748c3a24",
   "metadata": {},
   "outputs": [
    {
     "name": "stdout",
     "output_type": "stream",
     "text": [
      "\n",
      "Question 1: What is the capital of France?\n",
      "A. Paris\n",
      "B. Berlin\n",
      "C. Madrid\n",
      "D. Rome\n"
     ]
    },
    {
     "name": "stdin",
     "output_type": "stream",
     "text": [
      "Your choice (A, B, C, or D):  A\n"
     ]
    },
    {
     "name": "stdout",
     "output_type": "stream",
     "text": [
      "Correct!\n",
      "\n",
      "Question 2: Which planet is known as the Red Planet?\n",
      "A. Venus\n",
      "B. Mars\n",
      "C. Jupiter\n",
      "D. Saturn\n"
     ]
    },
    {
     "name": "stdin",
     "output_type": "stream",
     "text": [
      "Your choice (A, B, C, or D):  B\n"
     ]
    },
    {
     "name": "stdout",
     "output_type": "stream",
     "text": [
      "Correct!\n",
      "\n",
      "Question 3: Who wrote 'Romeo and Juliet'?\n",
      "A. Charles Dickens\n",
      "B. William Shakespeare\n",
      "C. Jane Austen\n",
      "D. Mark Twain\n"
     ]
    },
    {
     "name": "stdin",
     "output_type": "stream",
     "text": [
      "Your choice (A, B, C, or D):  D\n"
     ]
    },
    {
     "name": "stdout",
     "output_type": "stream",
     "text": [
      "Wrong! The correct answer is B.\n",
      "\n",
      "Your final score is: 2 out of 3\n"
     ]
    }
   ],
   "source": [
    "questions = [\n",
    "    \"What is the capital of France?\",\n",
    "    \"Which planet is known as the Red Planet?\",\n",
    "    \"Who wrote 'Romeo and Juliet'?\",\n",
    "]\n",
    "\n",
    "options = [\n",
    "    [\"A. Paris\", \"B. Berlin\", \"C. Madrid\", \"D. Rome\"],\n",
    "    [\"A. Venus\", \"B. Mars\", \"C. Jupiter\", \"D. Saturn\"],\n",
    "    [\"A. Charles Dickens\", \"B. William Shakespeare\", \"C. Jane Austen\", \"D. Mark Twain\"],\n",
    "]\n",
    "\n",
    "correct_answers = [\"A\", \"B\", \"B\"]\n",
    "\n",
    "score = 0\n",
    "\n",
    "for i in range(len(questions)):\n",
    "    print(f\"\\nQuestion {i + 1}: {questions[i]}\")\n",
    "    \n",
    "    for option in options[i]:\n",
    "        print(option)\n",
    "    \n",
    "    user_answer = input(\"Your choice (A, B, C, or D): \").upper()\n",
    "\n",
    "    if user_answer == correct_answers[i]:\n",
    "        print(\"Correct!\")\n",
    "        score += 1\n",
    "    else:\n",
    "        print(f\"Wrong! The correct answer is {correct_answers[i]}.\")\n",
    "\n",
    "print(f\"\\nYour final score is: {score} out of {len(questions)}\")\n"
   ]
  },
  {
   "cell_type": "markdown",
   "id": "9e014c47-1285-4952-9255-b0dec77ed369",
   "metadata": {},
   "source": [
    "### 27. Develop a program that determines whether a given year is a prime number or not."
   ]
  },
  {
   "cell_type": "code",
   "execution_count": 12,
   "id": "f0bd8703-118b-47ef-92dc-01f91788ce3d",
   "metadata": {},
   "outputs": [
    {
     "name": "stdin",
     "output_type": "stream",
     "text": [
      "Enter a year:  2022\n"
     ]
    },
    {
     "name": "stdout",
     "output_type": "stream",
     "text": [
      "2022 is not a prime number.\n"
     ]
    }
   ],
   "source": [
    "year = int(input(\"Enter a year: \"))\n",
    "\n",
    "if year > 1:\n",
    "    is_prime = True\n",
    "    for i in range(2, int(year**0.5) + 1):\n",
    "        if year % i == 0:\n",
    "            is_prime = False\n",
    "            break\n",
    "    if is_prime:\n",
    "        print(f\"{year} is a prime number.\")\n",
    "    else:\n",
    "        print(f\"{year} is not a prime number.\")\n",
    "else:\n",
    "    print(\"Please enter a year greater than 1.\")\n"
   ]
  },
  {
   "cell_type": "markdown",
   "id": "1ee39aa9-395c-46e9-901c-197892a0e24f",
   "metadata": {},
   "source": [
    "### 28. Create a program that sorts three numbers in ascending order using conditional statements."
   ]
  },
  {
   "cell_type": "code",
   "execution_count": 13,
   "id": "77cbe636-03b6-4f25-bf38-565ad4108e41",
   "metadata": {},
   "outputs": [
    {
     "name": "stdin",
     "output_type": "stream",
     "text": [
      "Enter the first number:  5\n",
      "Enter the second number:  8\n",
      "Enter the third number:  7\n"
     ]
    },
    {
     "name": "stdout",
     "output_type": "stream",
     "text": [
      "Sorted numbers in ascending order: (5.0, 7.0, 8.0)\n"
     ]
    }
   ],
   "source": [
    "num1 = float(input(\"Enter the first number: \"))\n",
    "num2 = float(input(\"Enter the second number: \"))\n",
    "num3 = float(input(\"Enter the third number: \"))\n",
    "\n",
    "if num1 <= num2 <= num3:\n",
    "    sorted_nums = (num1, num2, num3)\n",
    "elif num1 <= num3 <= num2:\n",
    "    sorted_nums = (num1, num3, num2)\n",
    "elif num2 <= num1 <= num3:\n",
    "    sorted_nums = (num2, num1, num3)\n",
    "elif num2 <= num3 <= num1:\n",
    "    sorted_nums = (num2, num3, num1)\n",
    "elif num3 <= num1 <= num2:\n",
    "    sorted_nums = (num3, num1, num2)\n",
    "else:\n",
    "    sorted_nums = (num3, num2, num1)\n",
    "\n",
    "print(\"Sorted numbers in ascending order:\", sorted_nums)\n"
   ]
  },
  {
   "cell_type": "markdown",
   "id": "15eedf99-9cd8-4764-8fd0-ff41123e3e4c",
   "metadata": {},
   "source": [
    "### 29. Build a program that determines the roots of a quartic equation using numerical methods."
   ]
  },
  {
   "cell_type": "code",
   "execution_count": 14,
   "id": "b4646e52-0108-4595-96ef-98cc07f7de7c",
   "metadata": {},
   "outputs": [
    {
     "name": "stdin",
     "output_type": "stream",
     "text": [
      "Enter coefficient a:  5\n",
      "Enter coefficient b:  4\n",
      "Enter coefficient c:  8\n",
      "Enter coefficient d:  2\n",
      "Enter coefficient e:  9\n",
      "Enter an initial guess for a root:  625\n",
      "Enter the number of iterations for Newton's method:  3\n"
     ]
    },
    {
     "name": "stdout",
     "output_type": "stream",
     "text": [
      "Approximate root: 263.55534215031537\n"
     ]
    }
   ],
   "source": [
    "# Input coefficients of the quartic equation ax^4 + bx^3 + cx^2 + dx + e = 0\n",
    "a = float(input(\"Enter coefficient a: \"))\n",
    "b = float(input(\"Enter coefficient b: \"))\n",
    "c = float(input(\"Enter coefficient c: \"))\n",
    "d = float(input(\"Enter coefficient d: \"))\n",
    "e = float(input(\"Enter coefficient e: \"))\n",
    "\n",
    "x0 = float(input(\"Enter an initial guess for a root: \"))\n",
    "\n",
    "iterations = int(input(\"Enter the number of iterations for Newton's method: \"))\n",
    "\n",
    "for _ in range(iterations):\n",
    "    f_x = a * x0**4 + b * x0**3 + c * x0**2 + d * x0 + e\n",
    "    f_prime_x = 4 * a * x0**3 + 3 * b * x0**2 + 2 * c * x0 + d\n",
    "    x0 = x0 - f_x / f_prime_x\n",
    "\n",
    "print(\"Approximate root:\", x0)\n"
   ]
  },
  {
   "cell_type": "markdown",
   "id": "5ff8749b-efa9-4ea2-9d19-85d21d93fda4",
   "metadata": {},
   "source": [
    "### 30. Write a program that calculates the BMI (Body Mass Index) and provides health recommendations based on the user's input."
   ]
  },
  {
   "cell_type": "code",
   "execution_count": 15,
   "id": "f16e4a16-6b24-4bfc-a280-834e57e4ed3c",
   "metadata": {},
   "outputs": [
    {
     "name": "stdin",
     "output_type": "stream",
     "text": [
      "Enter your weight (in kilograms):  53\n",
      "Enter your height (in meters):  1.6764\n"
     ]
    },
    {
     "name": "stdout",
     "output_type": "stream",
     "text": [
      "Your BMI is: 18.86\n",
      "Normal weight: Keep up the good work!\n"
     ]
    }
   ],
   "source": [
    "weight = float(input(\"Enter your weight (in kilograms): \"))\n",
    "height = float(input(\"Enter your height (in meters): \"))\n",
    "\n",
    "bmi = weight / (height ** 2)\n",
    "\n",
    "print(f\"Your BMI is: {bmi:.2f}\")\n",
    "\n",
    "# Health recommendations based on BMI categories\n",
    "if bmi < 18.5:\n",
    "    print(\"Underweight: Consider gaining some weight for better health.\")\n",
    "elif 18.5 <= bmi < 24.9:\n",
    "    print(\"Normal weight: Keep up the good work!\")\n",
    "elif 25 <= bmi < 29.9:\n",
    "    print(\"Overweight: Consider losing some weight for better health.\")\n",
    "else:\n",
    "    print(\"Obese: It's recommended to consult with a healthcare professional for personalized advice.\")\n"
   ]
  },
  {
   "cell_type": "markdown",
   "id": "604199a9-7948-4a24-b905-1d1844570494",
   "metadata": {},
   "source": [
    "### 31. Create a program that validates a password based on complexity rules (length, characters, etc.)."
   ]
  },
  {
   "cell_type": "code",
   "execution_count": 17,
   "id": "3d7d30aa-0841-44a1-87d5-e5d4396e2a52",
   "metadata": {},
   "outputs": [
    {
     "name": "stdin",
     "output_type": "stream",
     "text": [
      "Enter your password:  vini609@\n"
     ]
    },
    {
     "name": "stdout",
     "output_type": "stream",
     "text": [
      "Password must contain at least one uppercase letter.\n"
     ]
    }
   ],
   "source": [
    "password = input(\"Enter your password: \")\n",
    "\n",
    "# Set complexity rules\n",
    "min_length = 8\n",
    "requires_digit = True\n",
    "requires_uppercase = True\n",
    "requires_lowercase = True\n",
    "requires_special_char = True\n",
    "\n",
    "if len(password) < min_length:\n",
    "    print(\"Password is too short. Minimum length is\", min_length)\n",
    "elif requires_digit and not any(char.isdigit() for char in password):\n",
    "    print(\"Password must contain at least one digit.\")\n",
    "elif requires_uppercase and not any(char.isupper() for char in password):\n",
    "    print(\"Password must contain at least one uppercase letter.\")\n",
    "elif requires_lowercase and not any(char.islower() for char in password):\n",
    "    print(\"Password must contain at least one lowercase letter.\")\n",
    "elif requires_special_char and not any(char in \"!@#$%^&*()-_=+[]{}|;:'\\\",.<>?/\" for char in password):\n",
    "    print(\"Password must contain at least one special character (!@#$%^&*()-_=+[]{}|;:'\\\",.<>?/)\")\n",
    "else:\n",
    "    print(\"Password is valid!\")\n"
   ]
  },
  {
   "cell_type": "markdown",
   "id": "8c3b4e18-51e7-4719-a3ee-3f7704e1dd88",
   "metadata": {},
   "source": [
    "### 32. Develop a program that performs matrix addition and subtraction based on user input."
   ]
  },
  {
   "cell_type": "code",
   "execution_count": 18,
   "id": "f5a5a273-3ec0-4a75-9b40-b75b5d8a2364",
   "metadata": {},
   "outputs": [
    {
     "name": "stdin",
     "output_type": "stream",
     "text": [
      "Enter the number of rows for the matrices:  3\n",
      "Enter the number of columns for the matrices:  3\n"
     ]
    },
    {
     "name": "stdout",
     "output_type": "stream",
     "text": [
      "\n",
      "Enter elements for Matrix 1:\n"
     ]
    },
    {
     "name": "stdin",
     "output_type": "stream",
     "text": [
      "Enter element at position (1, 1):  2\n",
      "Enter element at position (1, 2):  4\n",
      "Enter element at position (1, 3):  7\n",
      "Enter element at position (2, 1):  6\n",
      "Enter element at position (2, 2):  5\n",
      "Enter element at position (2, 3):  9\n",
      "Enter element at position (3, 1):  1\n",
      "Enter element at position (3, 2):  2\n",
      "Enter element at position (3, 3):  3\n"
     ]
    },
    {
     "name": "stdout",
     "output_type": "stream",
     "text": [
      "\n",
      "Enter elements for Matrix 2:\n"
     ]
    },
    {
     "name": "stdin",
     "output_type": "stream",
     "text": [
      "Enter element at position (1, 1):  4\n",
      "Enter element at position (1, 2):  5\n",
      "Enter element at position (1, 3):  6\n",
      "Enter element at position (2, 1):  7\n",
      "Enter element at position (2, 2):  8\n",
      "Enter element at position (2, 3):  9\n",
      "Enter element at position (3, 1):  1\n",
      "Enter element at position (3, 2):  2\n",
      "Enter element at position (3, 3):  3\n"
     ]
    },
    {
     "name": "stdout",
     "output_type": "stream",
     "text": [
      "\n",
      "Matrix 1:\n",
      "[2.0, 4.0, 7.0]\n",
      "[6.0, 5.0, 9.0]\n",
      "[1.0, 2.0, 3.0]\n",
      "\n",
      "Matrix 2:\n",
      "[4.0, 5.0, 6.0]\n",
      "[7.0, 8.0, 9.0]\n",
      "[1.0, 2.0, 3.0]\n"
     ]
    },
    {
     "name": "stdin",
     "output_type": "stream",
     "text": [
      "\n",
      "Enter the operation (addition or subtraction):  addition\n"
     ]
    },
    {
     "name": "stdout",
     "output_type": "stream",
     "text": [
      "\n",
      "Result Matrix:\n",
      "[6.0, 9.0, 13.0]\n",
      "[13.0, 13.0, 18.0]\n",
      "[2.0, 4.0, 6.0]\n"
     ]
    }
   ],
   "source": [
    "rows = int(input(\"Enter the number of rows for the matrices: \"))\n",
    "cols = int(input(\"Enter the number of columns for the matrices: \"))\n",
    "\n",
    "matrix1 = [[0] * cols for _ in range(rows)]\n",
    "matrix2 = [[0] * cols for _ in range(rows)]\n",
    "\n",
    "print(\"\\nEnter elements for Matrix 1:\")\n",
    "for i in range(rows):\n",
    "    for j in range(cols):\n",
    "        matrix1[i][j] = float(input(f\"Enter element at position ({i + 1}, {j + 1}): \"))\n",
    "\n",
    "print(\"\\nEnter elements for Matrix 2:\")\n",
    "for i in range(rows):\n",
    "    for j in range(cols):\n",
    "        matrix2[i][j] = float(input(f\"Enter element at position ({i + 1}, {j + 1}): \"))\n",
    "\n",
    "print(\"\\nMatrix 1:\")\n",
    "for row in matrix1:\n",
    "    print(row)\n",
    "\n",
    "print(\"\\nMatrix 2:\")\n",
    "for row in matrix2:\n",
    "    print(row)\n",
    "\n",
    "# Get user input for operation (addition or subtraction)\n",
    "operation = input(\"\\nEnter the operation (addition or subtraction): \").lower()\n",
    "\n",
    "# Perform matrix addition or subtraction based on user input\n",
    "result_matrix = [[0] * cols for _ in range(rows)]\n",
    "\n",
    "if operation == \"addition\":\n",
    "    for i in range(rows):\n",
    "        for j in range(cols):\n",
    "            result_matrix[i][j] = matrix1[i][j] + matrix2[i][j]\n",
    "elif operation == \"subtraction\":\n",
    "    for i in range(rows):\n",
    "        for j in range(cols):\n",
    "            result_matrix[i][j] = matrix1[i][j] - matrix2[i][j]\n",
    "else:\n",
    "    print(\"Invalid operation. Please enter 'addition' or 'subtraction'.\")\n",
    "\n",
    "print(\"\\nResult Matrix:\")\n",
    "for row in result_matrix:\n",
    "    print(row)\n"
   ]
  },
  {
   "cell_type": "markdown",
   "id": "1208b649-7647-44c1-81d6-d97b61e522b7",
   "metadata": {},
   "source": [
    "### 33. Write a program that calculates the greatest common divisor (GCD) of two numbers using the Euclidean algorithm."
   ]
  },
  {
   "cell_type": "code",
   "execution_count": 19,
   "id": "4058f7d9-6384-4e9f-93e0-f8a160b0f047",
   "metadata": {},
   "outputs": [
    {
     "name": "stdin",
     "output_type": "stream",
     "text": [
      "Enter the first number:  45\n",
      "Enter the second number:  50\n"
     ]
    },
    {
     "name": "stdout",
     "output_type": "stream",
     "text": [
      "The GCD of 45 and 50 is: 5\n"
     ]
    }
   ],
   "source": [
    "num1 = int(input(\"Enter the first number: \"))\n",
    "num2 = int(input(\"Enter the second number: \"))\n",
    "\n",
    "a, b = num1, num2\n",
    "\n",
    "while b != 0:\n",
    "    temp = b\n",
    "    b = a % b\n",
    "    a = temp\n",
    "\n",
    "gcd = a\n",
    "\n",
    "print(f\"The GCD of {num1} and {num2} is: {gcd}\")\n"
   ]
  },
  {
   "cell_type": "markdown",
   "id": "6605add4-dd23-4d67-bd48-e19584eed559",
   "metadata": {},
   "source": [
    "### 34. Build a program that performs matrix multiplication using nested loops and conditional statements."
   ]
  },
  {
   "cell_type": "code",
   "execution_count": 20,
   "id": "fa62ec66-1987-4d35-98e8-b7f3043860b7",
   "metadata": {},
   "outputs": [
    {
     "name": "stdin",
     "output_type": "stream",
     "text": [
      "Enter the number of rows for the first matrix:  2\n",
      "Enter the number of columns for the first matrix:  2\n",
      "Enter the number of rows for the second matrix:  2\n",
      "Enter the number of columns for the second matrix:  2\n"
     ]
    },
    {
     "name": "stdout",
     "output_type": "stream",
     "text": [
      "\n",
      "Enter elements for Matrix 1:\n"
     ]
    },
    {
     "name": "stdin",
     "output_type": "stream",
     "text": [
      "Enter element at position (1, 1):  2\n",
      "Enter element at position (1, 2):  3\n",
      "Enter element at position (2, 1):  4\n",
      "Enter element at position (2, 2):  5\n"
     ]
    },
    {
     "name": "stdout",
     "output_type": "stream",
     "text": [
      "\n",
      "Enter elements for Matrix 2:\n"
     ]
    },
    {
     "name": "stdin",
     "output_type": "stream",
     "text": [
      "Enter element at position (1, 1):  6\n",
      "Enter element at position (1, 2):  7\n",
      "Enter element at position (2, 1):  8\n",
      "Enter element at position (2, 2):  9\n"
     ]
    },
    {
     "name": "stdout",
     "output_type": "stream",
     "text": [
      "\n",
      "Matrix 1:\n",
      "[2.0, 3.0]\n",
      "[4.0, 5.0]\n",
      "\n",
      "Matrix 2:\n",
      "[6.0, 7.0]\n",
      "[8.0, 9.0]\n",
      "\n",
      "Result Matrix (Matrix 1 * Matrix 2):\n",
      "[36.0, 41.0]\n",
      "[64.0, 73.0]\n"
     ]
    }
   ],
   "source": [
    "rows1 = int(input(\"Enter the number of rows for the first matrix: \"))\n",
    "cols1 = int(input(\"Enter the number of columns for the first matrix: \"))\n",
    "rows2 = int(input(\"Enter the number of rows for the second matrix: \"))\n",
    "cols2 = int(input(\"Enter the number of columns for the second matrix: \"))\n",
    "\n",
    "if cols1 != rows2:\n",
    "    print(\"Matrix multiplication is not possible with the given dimensions.\")\n",
    "else:\n",
    "    matrix1 = [[0] * cols1 for _ in range(rows1)]\n",
    "    matrix2 = [[0] * cols2 for _ in range(rows2)]\n",
    "\n",
    "    print(\"\\nEnter elements for Matrix 1:\")\n",
    "    for i in range(rows1):\n",
    "        for j in range(cols1):\n",
    "            matrix1[i][j] = float(input(f\"Enter element at position ({i + 1}, {j + 1}): \"))\n",
    "\n",
    "    print(\"\\nEnter elements for Matrix 2:\")\n",
    "    for i in range(rows2):\n",
    "        for j in range(cols2):\n",
    "            matrix2[i][j] = float(input(f\"Enter element at position ({i + 1}, {j + 1}): \"))\n",
    "\n",
    "    print(\"\\nMatrix 1:\")\n",
    "    for row in matrix1:\n",
    "        print(row)\n",
    "\n",
    "    print(\"\\nMatrix 2:\")\n",
    "    for row in matrix2:\n",
    "        print(row)\n",
    "\n",
    "    result_matrix = [[0] * cols2 for _ in range(rows1)]\n",
    "\n",
    "    for i in range(rows1):\n",
    "        for j in range(cols2):\n",
    "            for k in range(cols1):\n",
    "                result_matrix[i][j] += matrix1[i][k] * matrix2[k][j]\n",
    "\n",
    "    print(\"\\nResult Matrix (Matrix 1 * Matrix 2):\")\n",
    "    for row in result_matrix:\n",
    "        print(row)\n"
   ]
  },
  {
   "cell_type": "markdown",
   "id": "69e6cbde-542f-43f2-847e-5bd591e43835",
   "metadata": {},
   "source": [
    "### 35. Create a program that simulates a basic text-based tic-tac-toe game against the computer."
   ]
  },
  {
   "cell_type": "code",
   "execution_count": 22,
   "id": "37903bcf-21f2-459f-9c7a-c93fc2760ba6",
   "metadata": {},
   "outputs": [
    {
     "name": "stdout",
     "output_type": "stream",
     "text": [
      " | | \n",
      "-----\n",
      " | | \n",
      "-----\n",
      " | | \n",
      "-----\n"
     ]
    },
    {
     "name": "stdin",
     "output_type": "stream",
     "text": [
      "Enter the row (0, 1, or 2):  1\n",
      "Enter the column (0, 1, or 2):  1\n"
     ]
    },
    {
     "name": "stdout",
     "output_type": "stream",
     "text": [
      "\n",
      "Computer's turn:\n",
      "O| | \n",
      "-----\n",
      " |X| \n",
      "-----\n",
      " | | \n",
      "-----\n"
     ]
    },
    {
     "name": "stdin",
     "output_type": "stream",
     "text": [
      "Enter the row (0, 1, or 2):  0\n",
      "Enter the column (0, 1, or 2):  1\n"
     ]
    },
    {
     "name": "stdout",
     "output_type": "stream",
     "text": [
      "\n",
      "Computer's turn:\n",
      "O|X| \n",
      "-----\n",
      " |X|O\n",
      "-----\n",
      " | | \n",
      "-----\n"
     ]
    },
    {
     "name": "stdin",
     "output_type": "stream",
     "text": [
      "Enter the row (0, 1, or 2):  2\n",
      "Enter the column (0, 1, or 2):  1\n"
     ]
    },
    {
     "name": "stdout",
     "output_type": "stream",
     "text": [
      "O|X| \n",
      "-----\n",
      " |X|O\n",
      "-----\n",
      " |X| \n",
      "-----\n",
      "Congratulations! You win!\n"
     ]
    }
   ],
   "source": [
    "import random\n",
    "\n",
    "# Initialize the tic-tac-toe board\n",
    "board = [[' ' for _ in range(3)] for _ in range(3)]\n",
    "\n",
    "def display_board():\n",
    "    for row in board:\n",
    "        print('|'.join(row))\n",
    "        print('-' * 5)\n",
    "\n",
    "def check_winner(player):\n",
    "    for i in range(3):\n",
    "        if all(board[i][j] == player for j in range(3)) or all(board[j][i] == player for j in range(3)):\n",
    "            return True\n",
    "    if all(board[i][i] == player for i in range(3)) or all(board[i][2 - i] == player for i in range(3)):\n",
    "        return True\n",
    "    return False\n",
    "\n",
    "player_symbol = 'X'\n",
    "computer_symbol = 'O'\n",
    "\n",
    "while True:\n",
    "    display_board()\n",
    "    row = int(input(\"Enter the row (0, 1, or 2): \"))\n",
    "    col = int(input(\"Enter the column (0, 1, or 2): \"))\n",
    "\n",
    "    if board[row][col] == ' ':\n",
    "        board[row][col] = player_symbol\n",
    "    else:\n",
    "        print(\"Cell already taken. Try again.\")\n",
    "        continue\n",
    "\n",
    "    if check_winner(player_symbol):\n",
    "        display_board()\n",
    "        print(\"Congratulations! You win!\")\n",
    "        break\n",
    "\n",
    "    if all(board[i][j] != ' ' for i in range(3) for j in range(3)):\n",
    "        display_board()\n",
    "        print(\"It's a tie! The board is full.\")\n",
    "        break\n",
    "\n",
    "    print(\"\\nComputer's turn:\")\n",
    "    while True:\n",
    "        comp_row = random.randint(0, 2)\n",
    "        comp_col = random.randint(0, 2)\n",
    "        if board[comp_row][comp_col] == ' ':\n",
    "            board[comp_row][comp_col] = computer_symbol\n",
    "            break\n",
    "\n",
    "    if check_winner(computer_symbol):\n",
    "        display_board()\n",
    "        print(\"Sorry, the computer wins. Try again!\")\n",
    "        break\n"
   ]
  },
  {
   "cell_type": "markdown",
   "id": "9b350e93-f1ee-4264-af0f-eb035358b6f3",
   "metadata": {},
   "source": [
    "### 36. Write a program that generates Fibonacci numbers up to a specified term using iterative methods."
   ]
  },
  {
   "cell_type": "code",
   "execution_count": 23,
   "id": "2ae40cf7-8650-4054-8d36-f8e7a5d070eb",
   "metadata": {},
   "outputs": [
    {
     "name": "stdin",
     "output_type": "stream",
     "text": [
      "Enter the number of Fibonacci terms to generate:  4\n"
     ]
    },
    {
     "name": "stdout",
     "output_type": "stream",
     "text": [
      "Fibonacci Series:\n",
      "0, 1, 1, 2, \n"
     ]
    }
   ],
   "source": [
    "n = int(input(\"Enter the number of Fibonacci terms to generate: \"))\n",
    "\n",
    "term1, term2 = 0, 1\n",
    "\n",
    "print(\"Fibonacci Series:\")\n",
    "print(term1, end=', ')\n",
    "print(term2, end=', ')\n",
    "\n",
    "for _ in range(n - 2):\n",
    "    next_term = term1 + term2\n",
    "    print(next_term, end=', ')\n",
    "    term1, term2 = term2, next_term\n",
    "\n",
    "print()  # Move to the next line after printing the series\n"
   ]
  },
  {
   "cell_type": "markdown",
   "id": "9acf5828-f9df-44e5-a5c1-7e361a2fa208",
   "metadata": {},
   "source": [
    "### 37. Develop a program that calculates the nth term of the Fibonacci sequence using memoization."
   ]
  },
  {
   "cell_type": "code",
   "execution_count": 24,
   "id": "c15050d4-e111-4c37-af9d-8def31ad1101",
   "metadata": {},
   "outputs": [
    {
     "name": "stdin",
     "output_type": "stream",
     "text": [
      "Enter the term (n) of the Fibonacci sequence to calculate:  5\n"
     ]
    },
    {
     "name": "stdout",
     "output_type": "stream",
     "text": [
      "The 5th term of the Fibonacci sequence is: 3\n"
     ]
    }
   ],
   "source": [
    "n = int(input(\"Enter the term (n) of the Fibonacci sequence to calculate: \"))\n",
    "\n",
    "# Initialize variables for memoization\n",
    "memo = {}\n",
    "\n",
    "if n <= 0:\n",
    "    print(\"Invalid input. Please enter a positive integer.\")\n",
    "else:\n",
    "    # Base cases\n",
    "    if n == 1:\n",
    "        result = 0\n",
    "    elif n == 2:\n",
    "        result = 1\n",
    "    else:\n",
    "        # Check if the term is already calculated\n",
    "        if n in memo:\n",
    "            result = memo[n]\n",
    "        else:\n",
    "            # Calculate the term using recursive formula\n",
    "            a, b = 0, 1\n",
    "            for _ in range(n - 2):\n",
    "                a, b = b, a + b\n",
    "            result = b\n",
    "\n",
    "            # Memoize the result for future use\n",
    "            memo[n] = result\n",
    "\n",
    "    # Display the result\n",
    "    print(f\"The {n}th term of the Fibonacci sequence is: {result}\")\n"
   ]
  },
  {
   "cell_type": "markdown",
   "id": "57826868-c88a-4cf9-a36c-eff9552d54fd",
   "metadata": {},
   "source": [
    "### 38. Create a program that generates a calendar for a given month and year using conditional statements."
   ]
  },
  {
   "cell_type": "code",
   "execution_count": 2,
   "id": "a65ade04-6640-4421-9d97-658140cd5fa7",
   "metadata": {},
   "outputs": [
    {
     "name": "stdin",
     "output_type": "stream",
     "text": [
      "Enter the month (1-12):  5\n",
      "Enter the year:  2023\n"
     ]
    },
    {
     "name": "stdout",
     "output_type": "stream",
     "text": [
      "\n",
      "Calendar for 5/2023\n",
      "Mo Tu We Th Fr Sa Su\n",
      "         1   2   3   4   5  \n",
      " 6   7   8   9  10  11  12  \n",
      "13  14  15  16  17  18  19  \n",
      "20  21  22  23  24  25  26  \n",
      "27  28  29  30  31          \n",
      "                            \n"
     ]
    }
   ],
   "source": [
    "month = int(input(\"Enter the month (1-12): \"))\n",
    "year = int(input(\"Enter the year: \"))\n",
    "\n",
    "if not (1 <= month <= 12):\n",
    "    print(\"Invalid month. Please enter a month between 1 and 12.\")\n",
    "elif year <= 0:\n",
    "    print(\"Invalid year. Please enter a positive year.\")\n",
    "else:\n",
    "    if month in {1, 3, 5, 7, 8, 10, 12}:\n",
    "        days_in_month = 31\n",
    "    elif month in {4, 6, 9, 11}:\n",
    "        days_in_month = 30\n",
    "    else:  # month == 2\n",
    "        # Check for leap year\n",
    "        if (year % 4 == 0 and year % 100 != 0) or (year % 400 == 0):\n",
    "            days_in_month = 29\n",
    "        else:\n",
    "            days_in_month = 28\n",
    "\n",
    "    print(f\"\\nCalendar for {month}/{year}\")\n",
    "    print(\"Mo Tu We Th Fr Sa Su\")\n",
    "\n",
    "    first_day_of_month = (1 + (13 * (month + 1)) // 5 + year % 100 + (year % 100) // 4 + (year // 100) // 4 - 2 * (year // 100)) % 7\n",
    "\n",
    "    current_day = 1\n",
    "    for week in range(6): \n",
    "        for day_of_week in range(7):\n",
    "            if week == 0 and day_of_week < first_day_of_month:\n",
    "                print(\"   \", end=\" \")  \n",
    "            elif current_day <= days_in_month:\n",
    "                print(f\"{current_day:2} \", end=\" \")\n",
    "                current_day += 1\n",
    "            else:\n",
    "                print(\"   \", end=\" \")  \n",
    "        print()  \n"
   ]
  },
  {
   "cell_type": "markdown",
   "id": "e97e3b4e-9b89-4c29-96ed-05ee752d6052",
   "metadata": {},
   "source": [
    "### 39. Build a program that simulates a basic text-based blackjack game against the computer."
   ]
  },
  {
   "cell_type": "code",
   "execution_count": 5,
   "id": "dacedcf7-41bc-4c54-bd63-42ae1cc7e24a",
   "metadata": {},
   "outputs": [
    {
     "name": "stdout",
     "output_type": "stream",
     "text": [
      "Your hand: ['6', '2']\n",
      "Computer's hand: ['10', '???']\n",
      "Your current hand value: 8\n"
     ]
    },
    {
     "name": "stdin",
     "output_type": "stream",
     "text": [
      "Do you want to hit or stand?  hit\n"
     ]
    },
    {
     "name": "stdout",
     "output_type": "stream",
     "text": [
      "Your current hand value: 17\n"
     ]
    },
    {
     "name": "stdin",
     "output_type": "stream",
     "text": [
      "Do you want to hit or stand?  hit\n"
     ]
    },
    {
     "name": "stdout",
     "output_type": "stream",
     "text": [
      "Your current hand value: 18\n"
     ]
    },
    {
     "name": "stdin",
     "output_type": "stream",
     "text": [
      "Do you want to hit or stand?  stand\n"
     ]
    },
    {
     "name": "stdout",
     "output_type": "stream",
     "text": [
      "\n",
      "Your final hand: ['6', '2', '9', 'A']\n",
      "Your hand value: 18\n",
      "\n",
      "Computer's final hand: ['10', '2', '8']\n",
      "Computer's hand value: 20\n",
      "\n",
      "You lose. Computer wins.\n"
     ]
    }
   ],
   "source": [
    "import random\n",
    "\n",
    "# Initialize the deck\n",
    "deck = ['2', '3', '4', '5', '6', '7', '8', '9', '10', 'J', 'Q', 'K', 'A'] * 4\n",
    "\n",
    "# Shuffle the deck\n",
    "random.shuffle(deck)\n",
    "\n",
    "# Deal the initial cards\n",
    "player_hand = [deck.pop(), deck.pop()]\n",
    "computer_hand = [deck.pop()]\n",
    "\n",
    "# Display the initial hands\n",
    "print(\"Your hand:\", player_hand)\n",
    "print(\"Computer's hand:\", [computer_hand[0], '???'])\n",
    "\n",
    "# Player's turn\n",
    "while True:\n",
    "    # Calculate the value of the player's hand\n",
    "    player_value = 0\n",
    "    num_aces = 0\n",
    "\n",
    "    for card in player_hand:\n",
    "        if card in {'J', 'Q', 'K'}:\n",
    "            player_value += 10\n",
    "        elif card == 'A':\n",
    "            player_value += 11\n",
    "            num_aces += 1\n",
    "        else:\n",
    "            player_value += int(card)\n",
    "\n",
    "    # Adjust the value for aces\n",
    "    while player_value > 21 and num_aces:\n",
    "        player_value -= 10\n",
    "        num_aces -= 1\n",
    "\n",
    "    print(f\"Your current hand value: {player_value}\")\n",
    "\n",
    "    if player_value == 21:\n",
    "        print(\"Blackjack! You win!\")\n",
    "        break\n",
    "    elif player_value > 21:\n",
    "        print(\"Bust! You lose.\")\n",
    "        break\n",
    "\n",
    "    action = input(\"Do you want to hit or stand? \").lower()\n",
    "\n",
    "    if action == 'hit':\n",
    "        player_hand.append(deck.pop())\n",
    "    elif action == 'stand':\n",
    "        break\n",
    "    else:\n",
    "        print(\"Invalid input. Please enter 'hit' or 'stand'.\")\n",
    "\n",
    "# Computer's turn\n",
    "while player_value <= 21 and sum(int(card) if card.isdigit() else 10 if card in {'J', 'Q', 'K'} else 11 for card in computer_hand) < 17:\n",
    "    computer_hand.append(deck.pop())\n",
    "\n",
    "# Display the final hands\n",
    "print(\"\\nYour final hand:\", player_hand)\n",
    "print(\"Your hand value:\", player_value)\n",
    "\n",
    "print(\"\\nComputer's final hand:\", computer_hand)\n",
    "print(\"Computer's hand value:\", sum(int(card) if card.isdigit() else 10 if card in {'J', 'Q', 'K'} else 11 for card in computer_hand))\n",
    "\n",
    "# Determine the winner\n",
    "computer_value = sum(int(card) if card.isdigit() else 10 if card in {'J', 'Q', 'K'} else 11 for card in computer_hand)\n",
    "\n",
    "if player_value > 21:\n",
    "    print(\"\\nYou bust! You lose.\")\n",
    "elif computer_value > 21:\n",
    "    print(\"\\nComputer busts! You win!\")\n",
    "elif player_value == computer_value:\n",
    "    print(\"\\nIt's a tie!\")\n",
    "elif player_value > computer_value:\n",
    "    print(\"\\nYou win!\")\n",
    "else:\n",
    "    print(\"\\nYou lose. Computer wins.\")\n"
   ]
  },
  {
   "cell_type": "markdown",
   "id": "0101b6f7-f46c-4ac7-a42c-ae3d7f70126b",
   "metadata": {},
   "source": [
    "### 40. Write a program that generates the prime factors of a given number using trial division."
   ]
  },
  {
   "cell_type": "code",
   "execution_count": 6,
   "id": "4f21ba81-543d-4b7e-9525-f30c17842ea3",
   "metadata": {},
   "outputs": [
    {
     "name": "stdin",
     "output_type": "stream",
     "text": [
      "Enter a number to find its prime factors:  67\n"
     ]
    },
    {
     "name": "stdout",
     "output_type": "stream",
     "text": [
      "Prime factors of the given number: [67]\n"
     ]
    }
   ],
   "source": [
    "number = int(input(\"Enter a number to find its prime factors: \"))\n",
    "\n",
    "factors = []\n",
    "\n",
    "divisor = 2\n",
    "while number > 1:\n",
    "    if number % divisor == 0:\n",
    "        factors.append(divisor)\n",
    "        number //= divisor\n",
    "    else:\n",
    "        divisor += 1\n",
    "\n",
    "print(f\"Prime factors of the given number: {factors}\")\n"
   ]
  },
  {
   "cell_type": "code",
   "execution_count": null,
   "id": "cd314330-068d-44ab-8cfc-6f109ef99e14",
   "metadata": {},
   "outputs": [],
   "source": []
  }
 ],
 "metadata": {
  "kernelspec": {
   "display_name": "Python 3 (ipykernel)",
   "language": "python",
   "name": "python3"
  },
  "language_info": {
   "codemirror_mode": {
    "name": "ipython",
    "version": 3
   },
   "file_extension": ".py",
   "mimetype": "text/x-python",
   "name": "python",
   "nbconvert_exporter": "python",
   "pygments_lexer": "ipython3",
   "version": "3.10.8"
  }
 },
 "nbformat": 4,
 "nbformat_minor": 5
}
